{
  "nbformat": 4,
  "nbformat_minor": 0,
  "metadata": {
    "colab": {
      "name": "thyroid2.ipynb",
      "provenance": [],
      "collapsed_sections": [],
      "authorship_tag": "ABX9TyOUXfzRVfVscaoZrCW9z0Jc",
      "include_colab_link": true
    },
    "kernelspec": {
      "name": "python3",
      "display_name": "Python 3"
    },
    "language_info": {
      "name": "python"
    }
  },
  "cells": [
    {
      "cell_type": "markdown",
      "metadata": {
        "id": "view-in-github",
        "colab_type": "text"
      },
      "source": [
        "<a href=\"https://colab.research.google.com/github/saimasharleen/thyroid-dataset/blob/main/thyroid2.ipynb\" target=\"_parent\"><img src=\"https://colab.research.google.com/assets/colab-badge.svg\" alt=\"Open In Colab\"/></a>"
      ]
    },
    {
      "cell_type": "code",
      "metadata": {
        "colab": {
          "base_uri": "https://localhost:8080/"
        },
        "id": "d3iTtUXp7lYp",
        "outputId": "4b536b44-0a90-42da-8767-c203de92ee2f"
      },
      "source": [
        "#connecting Google Drive with Colab\n",
        "from google.colab import drive\n",
        "drive.mount(\"/content/gdrive\")"
      ],
      "execution_count": 72,
      "outputs": [
        {
          "output_type": "stream",
          "text": [
            "Drive already mounted at /content/gdrive; to attempt to forcibly remount, call drive.mount(\"/content/gdrive\", force_remount=True).\n"
          ],
          "name": "stdout"
        }
      ]
    },
    {
      "cell_type": "code",
      "metadata": {
        "id": "Fnf-d6-c702B"
      },
      "source": [
        "import pandas as pd\n",
        "data = pd.read_csv('/content/gdrive/My Drive/Thyroid cancer/dataset/sick-euthyroid.data')"
      ],
      "execution_count": 73,
      "outputs": []
    },
    {
      "cell_type": "code",
      "metadata": {
        "id": "RZEM-yi971Do"
      },
      "source": [
        "#adding the columns name\n",
        "data.columns = ['sclass','age', 'sex', 'on_thyroxine', 'query_on_thyroxine', 'on_antithyroid_medication', 'thyroid_surgery', 'query_hypothyroid', 'query_hyperthyroid',\n",
        "'pregnant', 'sick', 'tumor', 'lithium', 'goitre', 'TSH_measured', 'TSH', 'T3_measured', 'T3', 'TT4_measured', 'TT4', 'T4U_measured', 'T4U', 'FTI_measured', 'FTI', 'TBG_measured', 'TBG']"
      ],
      "execution_count": 74,
      "outputs": []
    },
    {
      "cell_type": "code",
      "metadata": {
        "colab": {
          "base_uri": "https://localhost:8080/"
        },
        "id": "RLEPXkQFmMao",
        "outputId": "66fe1f50-cda6-498e-a7fb-da105a088762"
      },
      "source": [
        "!pip install catboost"
      ],
      "execution_count": 75,
      "outputs": [
        {
          "output_type": "stream",
          "text": [
            "Requirement already satisfied: catboost in /usr/local/lib/python3.7/dist-packages (0.26)\n",
            "Requirement already satisfied: pandas>=0.24.0 in /usr/local/lib/python3.7/dist-packages (from catboost) (1.1.5)\n",
            "Requirement already satisfied: plotly in /usr/local/lib/python3.7/dist-packages (from catboost) (4.4.1)\n",
            "Requirement already satisfied: six in /usr/local/lib/python3.7/dist-packages (from catboost) (1.15.0)\n",
            "Requirement already satisfied: numpy>=1.16.0 in /usr/local/lib/python3.7/dist-packages (from catboost) (1.19.5)\n",
            "Requirement already satisfied: matplotlib in /usr/local/lib/python3.7/dist-packages (from catboost) (3.2.2)\n",
            "Requirement already satisfied: scipy in /usr/local/lib/python3.7/dist-packages (from catboost) (1.4.1)\n",
            "Requirement already satisfied: graphviz in /usr/local/lib/python3.7/dist-packages (from catboost) (0.10.1)\n",
            "Requirement already satisfied: pytz>=2017.2 in /usr/local/lib/python3.7/dist-packages (from pandas>=0.24.0->catboost) (2018.9)\n",
            "Requirement already satisfied: python-dateutil>=2.7.3 in /usr/local/lib/python3.7/dist-packages (from pandas>=0.24.0->catboost) (2.8.1)\n",
            "Requirement already satisfied: retrying>=1.3.3 in /usr/local/lib/python3.7/dist-packages (from plotly->catboost) (1.3.3)\n",
            "Requirement already satisfied: cycler>=0.10 in /usr/local/lib/python3.7/dist-packages (from matplotlib->catboost) (0.10.0)\n",
            "Requirement already satisfied: kiwisolver>=1.0.1 in /usr/local/lib/python3.7/dist-packages (from matplotlib->catboost) (1.3.1)\n",
            "Requirement already satisfied: pyparsing!=2.0.4,!=2.1.2,!=2.1.6,>=2.0.1 in /usr/local/lib/python3.7/dist-packages (from matplotlib->catboost) (2.4.7)\n"
          ],
          "name": "stdout"
        }
      ]
    },
    {
      "cell_type": "code",
      "metadata": {
        "id": "ZArs-Ue371TA"
      },
      "source": [
        "# import main libraries\n",
        "import matplotlib.pylab as plt\n",
        "import pandas as pd\n",
        "import numpy as np\n",
        "import seaborn as sns\n",
        "import random\n",
        "from sklearn.model_selection import train_test_split\n",
        "from sklearn.metrics import confusion_matrix\n",
        "from  xgboost import XGBClassifier\n",
        "from sklearn.neural_network import MLPClassifier\n",
        "from imblearn.over_sampling import SMOTE\n",
        "from sklearn.utils import resample\n",
        "from scipy import stats\n",
        "from sklearn import metrics\n",
        "from catboost import CatBoostClassifier\n",
        "from sklearn.tree import DecisionTreeClassifier \n",
        "from sklearn.neighbors import KNeighborsClassifier\n",
        "from sklearn.preprocessing import LabelEncoder\n",
        "from sklearn.ensemble import RandomForestClassifier\n",
        "from sklearn.ensemble import ExtraTreesClassifier\n",
        "from sklearn.naive_bayes import GaussianNB\n",
        "from sklearn.svm import SVC, LinearSVC"
      ],
      "execution_count": 76,
      "outputs": []
    },
    {
      "cell_type": "code",
      "metadata": {
        "colab": {
          "base_uri": "https://localhost:8080/",
          "height": 312
        },
        "id": "P_E2GtIO79RB",
        "outputId": "c6387884-6ea4-456c-88d5-f23f261b0c20"
      },
      "source": [
        "data.head()"
      ],
      "execution_count": 77,
      "outputs": [
        {
          "output_type": "execute_result",
          "data": {
            "text/html": [
              "<div>\n",
              "<style scoped>\n",
              "    .dataframe tbody tr th:only-of-type {\n",
              "        vertical-align: middle;\n",
              "    }\n",
              "\n",
              "    .dataframe tbody tr th {\n",
              "        vertical-align: top;\n",
              "    }\n",
              "\n",
              "    .dataframe thead th {\n",
              "        text-align: right;\n",
              "    }\n",
              "</style>\n",
              "<table border=\"1\" class=\"dataframe\">\n",
              "  <thead>\n",
              "    <tr style=\"text-align: right;\">\n",
              "      <th></th>\n",
              "      <th>sclass</th>\n",
              "      <th>age</th>\n",
              "      <th>sex</th>\n",
              "      <th>on_thyroxine</th>\n",
              "      <th>query_on_thyroxine</th>\n",
              "      <th>on_antithyroid_medication</th>\n",
              "      <th>thyroid_surgery</th>\n",
              "      <th>query_hypothyroid</th>\n",
              "      <th>query_hyperthyroid</th>\n",
              "      <th>pregnant</th>\n",
              "      <th>sick</th>\n",
              "      <th>tumor</th>\n",
              "      <th>lithium</th>\n",
              "      <th>goitre</th>\n",
              "      <th>TSH_measured</th>\n",
              "      <th>TSH</th>\n",
              "      <th>T3_measured</th>\n",
              "      <th>T3</th>\n",
              "      <th>TT4_measured</th>\n",
              "      <th>TT4</th>\n",
              "      <th>T4U_measured</th>\n",
              "      <th>T4U</th>\n",
              "      <th>FTI_measured</th>\n",
              "      <th>FTI</th>\n",
              "      <th>TBG_measured</th>\n",
              "      <th>TBG</th>\n",
              "    </tr>\n",
              "  </thead>\n",
              "  <tbody>\n",
              "    <tr>\n",
              "      <th>0</th>\n",
              "      <td>sick-euthyroid</td>\n",
              "      <td>45</td>\n",
              "      <td>F</td>\n",
              "      <td>f</td>\n",
              "      <td>f</td>\n",
              "      <td>f</td>\n",
              "      <td>f</td>\n",
              "      <td>f</td>\n",
              "      <td>f</td>\n",
              "      <td>f</td>\n",
              "      <td>f</td>\n",
              "      <td>f</td>\n",
              "      <td>f</td>\n",
              "      <td>f</td>\n",
              "      <td>y</td>\n",
              "      <td>1.90</td>\n",
              "      <td>y</td>\n",
              "      <td>1</td>\n",
              "      <td>y</td>\n",
              "      <td>82</td>\n",
              "      <td>y</td>\n",
              "      <td>0.73</td>\n",
              "      <td>y</td>\n",
              "      <td>112</td>\n",
              "      <td>n</td>\n",
              "      <td>?</td>\n",
              "    </tr>\n",
              "    <tr>\n",
              "      <th>1</th>\n",
              "      <td>sick-euthyroid</td>\n",
              "      <td>64</td>\n",
              "      <td>F</td>\n",
              "      <td>f</td>\n",
              "      <td>f</td>\n",
              "      <td>f</td>\n",
              "      <td>f</td>\n",
              "      <td>f</td>\n",
              "      <td>f</td>\n",
              "      <td>f</td>\n",
              "      <td>t</td>\n",
              "      <td>f</td>\n",
              "      <td>f</td>\n",
              "      <td>f</td>\n",
              "      <td>y</td>\n",
              "      <td>0.09</td>\n",
              "      <td>y</td>\n",
              "      <td>1</td>\n",
              "      <td>y</td>\n",
              "      <td>101</td>\n",
              "      <td>y</td>\n",
              "      <td>0.82</td>\n",
              "      <td>y</td>\n",
              "      <td>123</td>\n",
              "      <td>n</td>\n",
              "      <td>?</td>\n",
              "    </tr>\n",
              "    <tr>\n",
              "      <th>2</th>\n",
              "      <td>sick-euthyroid</td>\n",
              "      <td>56</td>\n",
              "      <td>M</td>\n",
              "      <td>f</td>\n",
              "      <td>f</td>\n",
              "      <td>f</td>\n",
              "      <td>f</td>\n",
              "      <td>f</td>\n",
              "      <td>f</td>\n",
              "      <td>f</td>\n",
              "      <td>f</td>\n",
              "      <td>f</td>\n",
              "      <td>f</td>\n",
              "      <td>f</td>\n",
              "      <td>y</td>\n",
              "      <td>0</td>\n",
              "      <td>y</td>\n",
              "      <td>0.80</td>\n",
              "      <td>y</td>\n",
              "      <td>76</td>\n",
              "      <td>y</td>\n",
              "      <td>0.77</td>\n",
              "      <td>y</td>\n",
              "      <td>99</td>\n",
              "      <td>n</td>\n",
              "      <td>?</td>\n",
              "    </tr>\n",
              "    <tr>\n",
              "      <th>3</th>\n",
              "      <td>sick-euthyroid</td>\n",
              "      <td>78</td>\n",
              "      <td>F</td>\n",
              "      <td>t</td>\n",
              "      <td>f</td>\n",
              "      <td>f</td>\n",
              "      <td>f</td>\n",
              "      <td>t</td>\n",
              "      <td>f</td>\n",
              "      <td>f</td>\n",
              "      <td>f</td>\n",
              "      <td>f</td>\n",
              "      <td>f</td>\n",
              "      <td>f</td>\n",
              "      <td>y</td>\n",
              "      <td>2.60</td>\n",
              "      <td>y</td>\n",
              "      <td>0.30</td>\n",
              "      <td>y</td>\n",
              "      <td>87</td>\n",
              "      <td>y</td>\n",
              "      <td>0.95</td>\n",
              "      <td>y</td>\n",
              "      <td>91</td>\n",
              "      <td>n</td>\n",
              "      <td>?</td>\n",
              "    </tr>\n",
              "    <tr>\n",
              "      <th>4</th>\n",
              "      <td>sick-euthyroid</td>\n",
              "      <td>80</td>\n",
              "      <td>M</td>\n",
              "      <td>f</td>\n",
              "      <td>f</td>\n",
              "      <td>f</td>\n",
              "      <td>f</td>\n",
              "      <td>f</td>\n",
              "      <td>f</td>\n",
              "      <td>f</td>\n",
              "      <td>f</td>\n",
              "      <td>f</td>\n",
              "      <td>f</td>\n",
              "      <td>f</td>\n",
              "      <td>y</td>\n",
              "      <td>1.40</td>\n",
              "      <td>y</td>\n",
              "      <td>0.80</td>\n",
              "      <td>y</td>\n",
              "      <td>105</td>\n",
              "      <td>y</td>\n",
              "      <td>0.88</td>\n",
              "      <td>y</td>\n",
              "      <td>120</td>\n",
              "      <td>n</td>\n",
              "      <td>?</td>\n",
              "    </tr>\n",
              "  </tbody>\n",
              "</table>\n",
              "</div>"
            ],
            "text/plain": [
              "           sclass age sex on_thyroxine  ... FTI_measured  FTI TBG_measured TBG\n",
              "0  sick-euthyroid  45   F            f  ...            y  112            n   ?\n",
              "1  sick-euthyroid  64   F            f  ...            y  123            n   ?\n",
              "2  sick-euthyroid  56   M            f  ...            y   99            n   ?\n",
              "3  sick-euthyroid  78   F            t  ...            y   91            n   ?\n",
              "4  sick-euthyroid  80   M            f  ...            y  120            n   ?\n",
              "\n",
              "[5 rows x 26 columns]"
            ]
          },
          "metadata": {
            "tags": []
          },
          "execution_count": 77
        }
      ]
    },
    {
      "cell_type": "code",
      "metadata": {
        "colab": {
          "base_uri": "https://localhost:8080/",
          "height": 555
        },
        "id": "QliCRk3VgEBT",
        "outputId": "2fc3e877-303b-45b8-e4e0-4d84b741a58f"
      },
      "source": [
        "display(data.head(10))"
      ],
      "execution_count": 78,
      "outputs": [
        {
          "output_type": "display_data",
          "data": {
            "text/html": [
              "<div>\n",
              "<style scoped>\n",
              "    .dataframe tbody tr th:only-of-type {\n",
              "        vertical-align: middle;\n",
              "    }\n",
              "\n",
              "    .dataframe tbody tr th {\n",
              "        vertical-align: top;\n",
              "    }\n",
              "\n",
              "    .dataframe thead th {\n",
              "        text-align: right;\n",
              "    }\n",
              "</style>\n",
              "<table border=\"1\" class=\"dataframe\">\n",
              "  <thead>\n",
              "    <tr style=\"text-align: right;\">\n",
              "      <th></th>\n",
              "      <th>sclass</th>\n",
              "      <th>age</th>\n",
              "      <th>sex</th>\n",
              "      <th>on_thyroxine</th>\n",
              "      <th>query_on_thyroxine</th>\n",
              "      <th>on_antithyroid_medication</th>\n",
              "      <th>thyroid_surgery</th>\n",
              "      <th>query_hypothyroid</th>\n",
              "      <th>query_hyperthyroid</th>\n",
              "      <th>pregnant</th>\n",
              "      <th>sick</th>\n",
              "      <th>tumor</th>\n",
              "      <th>lithium</th>\n",
              "      <th>goitre</th>\n",
              "      <th>TSH_measured</th>\n",
              "      <th>TSH</th>\n",
              "      <th>T3_measured</th>\n",
              "      <th>T3</th>\n",
              "      <th>TT4_measured</th>\n",
              "      <th>TT4</th>\n",
              "      <th>T4U_measured</th>\n",
              "      <th>T4U</th>\n",
              "      <th>FTI_measured</th>\n",
              "      <th>FTI</th>\n",
              "      <th>TBG_measured</th>\n",
              "      <th>TBG</th>\n",
              "    </tr>\n",
              "  </thead>\n",
              "  <tbody>\n",
              "    <tr>\n",
              "      <th>0</th>\n",
              "      <td>sick-euthyroid</td>\n",
              "      <td>45</td>\n",
              "      <td>F</td>\n",
              "      <td>f</td>\n",
              "      <td>f</td>\n",
              "      <td>f</td>\n",
              "      <td>f</td>\n",
              "      <td>f</td>\n",
              "      <td>f</td>\n",
              "      <td>f</td>\n",
              "      <td>f</td>\n",
              "      <td>f</td>\n",
              "      <td>f</td>\n",
              "      <td>f</td>\n",
              "      <td>y</td>\n",
              "      <td>1.90</td>\n",
              "      <td>y</td>\n",
              "      <td>1</td>\n",
              "      <td>y</td>\n",
              "      <td>82</td>\n",
              "      <td>y</td>\n",
              "      <td>0.73</td>\n",
              "      <td>y</td>\n",
              "      <td>112</td>\n",
              "      <td>n</td>\n",
              "      <td>?</td>\n",
              "    </tr>\n",
              "    <tr>\n",
              "      <th>1</th>\n",
              "      <td>sick-euthyroid</td>\n",
              "      <td>64</td>\n",
              "      <td>F</td>\n",
              "      <td>f</td>\n",
              "      <td>f</td>\n",
              "      <td>f</td>\n",
              "      <td>f</td>\n",
              "      <td>f</td>\n",
              "      <td>f</td>\n",
              "      <td>f</td>\n",
              "      <td>t</td>\n",
              "      <td>f</td>\n",
              "      <td>f</td>\n",
              "      <td>f</td>\n",
              "      <td>y</td>\n",
              "      <td>0.09</td>\n",
              "      <td>y</td>\n",
              "      <td>1</td>\n",
              "      <td>y</td>\n",
              "      <td>101</td>\n",
              "      <td>y</td>\n",
              "      <td>0.82</td>\n",
              "      <td>y</td>\n",
              "      <td>123</td>\n",
              "      <td>n</td>\n",
              "      <td>?</td>\n",
              "    </tr>\n",
              "    <tr>\n",
              "      <th>2</th>\n",
              "      <td>sick-euthyroid</td>\n",
              "      <td>56</td>\n",
              "      <td>M</td>\n",
              "      <td>f</td>\n",
              "      <td>f</td>\n",
              "      <td>f</td>\n",
              "      <td>f</td>\n",
              "      <td>f</td>\n",
              "      <td>f</td>\n",
              "      <td>f</td>\n",
              "      <td>f</td>\n",
              "      <td>f</td>\n",
              "      <td>f</td>\n",
              "      <td>f</td>\n",
              "      <td>y</td>\n",
              "      <td>0</td>\n",
              "      <td>y</td>\n",
              "      <td>0.80</td>\n",
              "      <td>y</td>\n",
              "      <td>76</td>\n",
              "      <td>y</td>\n",
              "      <td>0.77</td>\n",
              "      <td>y</td>\n",
              "      <td>99</td>\n",
              "      <td>n</td>\n",
              "      <td>?</td>\n",
              "    </tr>\n",
              "    <tr>\n",
              "      <th>3</th>\n",
              "      <td>sick-euthyroid</td>\n",
              "      <td>78</td>\n",
              "      <td>F</td>\n",
              "      <td>t</td>\n",
              "      <td>f</td>\n",
              "      <td>f</td>\n",
              "      <td>f</td>\n",
              "      <td>t</td>\n",
              "      <td>f</td>\n",
              "      <td>f</td>\n",
              "      <td>f</td>\n",
              "      <td>f</td>\n",
              "      <td>f</td>\n",
              "      <td>f</td>\n",
              "      <td>y</td>\n",
              "      <td>2.60</td>\n",
              "      <td>y</td>\n",
              "      <td>0.30</td>\n",
              "      <td>y</td>\n",
              "      <td>87</td>\n",
              "      <td>y</td>\n",
              "      <td>0.95</td>\n",
              "      <td>y</td>\n",
              "      <td>91</td>\n",
              "      <td>n</td>\n",
              "      <td>?</td>\n",
              "    </tr>\n",
              "    <tr>\n",
              "      <th>4</th>\n",
              "      <td>sick-euthyroid</td>\n",
              "      <td>80</td>\n",
              "      <td>M</td>\n",
              "      <td>f</td>\n",
              "      <td>f</td>\n",
              "      <td>f</td>\n",
              "      <td>f</td>\n",
              "      <td>f</td>\n",
              "      <td>f</td>\n",
              "      <td>f</td>\n",
              "      <td>f</td>\n",
              "      <td>f</td>\n",
              "      <td>f</td>\n",
              "      <td>f</td>\n",
              "      <td>y</td>\n",
              "      <td>1.40</td>\n",
              "      <td>y</td>\n",
              "      <td>0.80</td>\n",
              "      <td>y</td>\n",
              "      <td>105</td>\n",
              "      <td>y</td>\n",
              "      <td>0.88</td>\n",
              "      <td>y</td>\n",
              "      <td>120</td>\n",
              "      <td>n</td>\n",
              "      <td>?</td>\n",
              "    </tr>\n",
              "    <tr>\n",
              "      <th>5</th>\n",
              "      <td>sick-euthyroid</td>\n",
              "      <td>74</td>\n",
              "      <td>F</td>\n",
              "      <td>f</td>\n",
              "      <td>f</td>\n",
              "      <td>f</td>\n",
              "      <td>f</td>\n",
              "      <td>f</td>\n",
              "      <td>f</td>\n",
              "      <td>f</td>\n",
              "      <td>f</td>\n",
              "      <td>f</td>\n",
              "      <td>f</td>\n",
              "      <td>f</td>\n",
              "      <td>y</td>\n",
              "      <td>0</td>\n",
              "      <td>y</td>\n",
              "      <td>0.70</td>\n",
              "      <td>y</td>\n",
              "      <td>98</td>\n",
              "      <td>y</td>\n",
              "      <td>0.81</td>\n",
              "      <td>y</td>\n",
              "      <td>121</td>\n",
              "      <td>n</td>\n",
              "      <td>?</td>\n",
              "    </tr>\n",
              "    <tr>\n",
              "      <th>6</th>\n",
              "      <td>sick-euthyroid</td>\n",
              "      <td>?</td>\n",
              "      <td>F</td>\n",
              "      <td>f</td>\n",
              "      <td>f</td>\n",
              "      <td>f</td>\n",
              "      <td>f</td>\n",
              "      <td>f</td>\n",
              "      <td>f</td>\n",
              "      <td>f</td>\n",
              "      <td>f</td>\n",
              "      <td>f</td>\n",
              "      <td>f</td>\n",
              "      <td>f</td>\n",
              "      <td>y</td>\n",
              "      <td>1.40</td>\n",
              "      <td>y</td>\n",
              "      <td>1.10</td>\n",
              "      <td>y</td>\n",
              "      <td>121</td>\n",
              "      <td>y</td>\n",
              "      <td>1.11</td>\n",
              "      <td>y</td>\n",
              "      <td>109</td>\n",
              "      <td>n</td>\n",
              "      <td>?</td>\n",
              "    </tr>\n",
              "    <tr>\n",
              "      <th>7</th>\n",
              "      <td>sick-euthyroid</td>\n",
              "      <td>42</td>\n",
              "      <td>F</td>\n",
              "      <td>f</td>\n",
              "      <td>f</td>\n",
              "      <td>f</td>\n",
              "      <td>f</td>\n",
              "      <td>f</td>\n",
              "      <td>f</td>\n",
              "      <td>f</td>\n",
              "      <td>f</td>\n",
              "      <td>f</td>\n",
              "      <td>f</td>\n",
              "      <td>f</td>\n",
              "      <td>y</td>\n",
              "      <td>2.30</td>\n",
              "      <td>y</td>\n",
              "      <td>1.10</td>\n",
              "      <td>y</td>\n",
              "      <td>93</td>\n",
              "      <td>y</td>\n",
              "      <td>0.73</td>\n",
              "      <td>y</td>\n",
              "      <td>127</td>\n",
              "      <td>n</td>\n",
              "      <td>?</td>\n",
              "    </tr>\n",
              "    <tr>\n",
              "      <th>8</th>\n",
              "      <td>sick-euthyroid</td>\n",
              "      <td>89</td>\n",
              "      <td>M</td>\n",
              "      <td>f</td>\n",
              "      <td>f</td>\n",
              "      <td>f</td>\n",
              "      <td>f</td>\n",
              "      <td>f</td>\n",
              "      <td>f</td>\n",
              "      <td>f</td>\n",
              "      <td>f</td>\n",
              "      <td>f</td>\n",
              "      <td>f</td>\n",
              "      <td>f</td>\n",
              "      <td>y</td>\n",
              "      <td>0.80</td>\n",
              "      <td>y</td>\n",
              "      <td>0.80</td>\n",
              "      <td>y</td>\n",
              "      <td>111</td>\n",
              "      <td>y</td>\n",
              "      <td>0.68</td>\n",
              "      <td>y</td>\n",
              "      <td>165</td>\n",
              "      <td>n</td>\n",
              "      <td>?</td>\n",
              "    </tr>\n",
              "    <tr>\n",
              "      <th>9</th>\n",
              "      <td>sick-euthyroid</td>\n",
              "      <td>73</td>\n",
              "      <td>M</td>\n",
              "      <td>f</td>\n",
              "      <td>f</td>\n",
              "      <td>f</td>\n",
              "      <td>f</td>\n",
              "      <td>f</td>\n",
              "      <td>f</td>\n",
              "      <td>f</td>\n",
              "      <td>f</td>\n",
              "      <td>f</td>\n",
              "      <td>f</td>\n",
              "      <td>f</td>\n",
              "      <td>y</td>\n",
              "      <td>0</td>\n",
              "      <td>y</td>\n",
              "      <td>1</td>\n",
              "      <td>y</td>\n",
              "      <td>96</td>\n",
              "      <td>y</td>\n",
              "      <td>0.89</td>\n",
              "      <td>y</td>\n",
              "      <td>108</td>\n",
              "      <td>n</td>\n",
              "      <td>?</td>\n",
              "    </tr>\n",
              "  </tbody>\n",
              "</table>\n",
              "</div>"
            ],
            "text/plain": [
              "           sclass age sex on_thyroxine  ... FTI_measured  FTI TBG_measured TBG\n",
              "0  sick-euthyroid  45   F            f  ...            y  112            n   ?\n",
              "1  sick-euthyroid  64   F            f  ...            y  123            n   ?\n",
              "2  sick-euthyroid  56   M            f  ...            y   99            n   ?\n",
              "3  sick-euthyroid  78   F            t  ...            y   91            n   ?\n",
              "4  sick-euthyroid  80   M            f  ...            y  120            n   ?\n",
              "5  sick-euthyroid  74   F            f  ...            y  121            n   ?\n",
              "6  sick-euthyroid   ?   F            f  ...            y  109            n   ?\n",
              "7  sick-euthyroid  42   F            f  ...            y  127            n   ?\n",
              "8  sick-euthyroid  89   M            f  ...            y  165            n   ?\n",
              "9  sick-euthyroid  73   M            f  ...            y  108            n   ?\n",
              "\n",
              "[10 rows x 26 columns]"
            ]
          },
          "metadata": {
            "tags": []
          }
        }
      ]
    },
    {
      "cell_type": "code",
      "metadata": {
        "colab": {
          "base_uri": "https://localhost:8080/",
          "height": 508
        },
        "id": "gCcupIYkoHo9",
        "outputId": "92337496-53e7-4000-ace9-a65f96f0dcd0"
      },
      "source": [
        "display(data.dtypes)"
      ],
      "execution_count": 79,
      "outputs": [
        {
          "output_type": "display_data",
          "data": {
            "text/plain": [
              "sclass                       object\n",
              "age                          object\n",
              "sex                          object\n",
              "on_thyroxine                 object\n",
              "query_on_thyroxine           object\n",
              "on_antithyroid_medication    object\n",
              "thyroid_surgery              object\n",
              "query_hypothyroid            object\n",
              "query_hyperthyroid           object\n",
              "pregnant                     object\n",
              "sick                         object\n",
              "tumor                        object\n",
              "lithium                      object\n",
              "goitre                       object\n",
              "TSH_measured                 object\n",
              "TSH                          object\n",
              "T3_measured                  object\n",
              "T3                           object\n",
              "TT4_measured                 object\n",
              "TT4                          object\n",
              "T4U_measured                 object\n",
              "T4U                          object\n",
              "FTI_measured                 object\n",
              "FTI                          object\n",
              "TBG_measured                 object\n",
              "TBG                          object\n",
              "dtype: object"
            ]
          },
          "metadata": {
            "tags": []
          }
        }
      ]
    },
    {
      "cell_type": "code",
      "metadata": {
        "id": "8zkmsSs5oHsw"
      },
      "source": [
        "data['sclass'] = data.pop('sclass')"
      ],
      "execution_count": 80,
      "outputs": []
    },
    {
      "cell_type": "code",
      "metadata": {
        "colab": {
          "base_uri": "https://localhost:8080/"
        },
        "id": "s1EQxHgRockO",
        "outputId": "f6fe285f-460c-4f05-85ec-ddb007a07b40"
      },
      "source": [
        "data.info()"
      ],
      "execution_count": 81,
      "outputs": [
        {
          "output_type": "stream",
          "text": [
            "<class 'pandas.core.frame.DataFrame'>\n",
            "RangeIndex: 3162 entries, 0 to 3161\n",
            "Data columns (total 26 columns):\n",
            " #   Column                     Non-Null Count  Dtype \n",
            "---  ------                     --------------  ----- \n",
            " 0   age                        3162 non-null   object\n",
            " 1   sex                        3162 non-null   object\n",
            " 2   on_thyroxine               3162 non-null   object\n",
            " 3   query_on_thyroxine         3162 non-null   object\n",
            " 4   on_antithyroid_medication  3162 non-null   object\n",
            " 5   thyroid_surgery            3162 non-null   object\n",
            " 6   query_hypothyroid          3162 non-null   object\n",
            " 7   query_hyperthyroid         3162 non-null   object\n",
            " 8   pregnant                   3162 non-null   object\n",
            " 9   sick                       3162 non-null   object\n",
            " 10  tumor                      3162 non-null   object\n",
            " 11  lithium                    3162 non-null   object\n",
            " 12  goitre                     3162 non-null   object\n",
            " 13  TSH_measured               3162 non-null   object\n",
            " 14  TSH                        3162 non-null   object\n",
            " 15  T3_measured                3162 non-null   object\n",
            " 16  T3                         3162 non-null   object\n",
            " 17  TT4_measured               3162 non-null   object\n",
            " 18  TT4                        3162 non-null   object\n",
            " 19  T4U_measured               3162 non-null   object\n",
            " 20  T4U                        3162 non-null   object\n",
            " 21  FTI_measured               3162 non-null   object\n",
            " 22  FTI                        3162 non-null   object\n",
            " 23  TBG_measured               3162 non-null   object\n",
            " 24  TBG                        3162 non-null   object\n",
            " 25  sclass                     3162 non-null   object\n",
            "dtypes: object(26)\n",
            "memory usage: 642.4+ KB\n"
          ],
          "name": "stdout"
        }
      ]
    },
    {
      "cell_type": "code",
      "metadata": {
        "id": "jRwzZBV4ocqu"
      },
      "source": [
        "data['sex'] = data['sex'].map({'F': 1, 'M': 0})"
      ],
      "execution_count": 82,
      "outputs": []
    },
    {
      "cell_type": "code",
      "metadata": {
        "colab": {
          "base_uri": "https://localhost:8080/",
          "height": 1000
        },
        "id": "TyHVk6neo16v",
        "outputId": "0b731e1b-f9f6-4261-dc6d-6ed2951665e9"
      },
      "source": [
        "display(data.shape)\n",
        "display(data.head(10))\n",
        "display(data.dtypes)"
      ],
      "execution_count": 83,
      "outputs": [
        {
          "output_type": "display_data",
          "data": {
            "text/plain": [
              "(3162, 26)"
            ]
          },
          "metadata": {
            "tags": []
          }
        },
        {
          "output_type": "display_data",
          "data": {
            "text/html": [
              "<div>\n",
              "<style scoped>\n",
              "    .dataframe tbody tr th:only-of-type {\n",
              "        vertical-align: middle;\n",
              "    }\n",
              "\n",
              "    .dataframe tbody tr th {\n",
              "        vertical-align: top;\n",
              "    }\n",
              "\n",
              "    .dataframe thead th {\n",
              "        text-align: right;\n",
              "    }\n",
              "</style>\n",
              "<table border=\"1\" class=\"dataframe\">\n",
              "  <thead>\n",
              "    <tr style=\"text-align: right;\">\n",
              "      <th></th>\n",
              "      <th>age</th>\n",
              "      <th>sex</th>\n",
              "      <th>on_thyroxine</th>\n",
              "      <th>query_on_thyroxine</th>\n",
              "      <th>on_antithyroid_medication</th>\n",
              "      <th>thyroid_surgery</th>\n",
              "      <th>query_hypothyroid</th>\n",
              "      <th>query_hyperthyroid</th>\n",
              "      <th>pregnant</th>\n",
              "      <th>sick</th>\n",
              "      <th>tumor</th>\n",
              "      <th>lithium</th>\n",
              "      <th>goitre</th>\n",
              "      <th>TSH_measured</th>\n",
              "      <th>TSH</th>\n",
              "      <th>T3_measured</th>\n",
              "      <th>T3</th>\n",
              "      <th>TT4_measured</th>\n",
              "      <th>TT4</th>\n",
              "      <th>T4U_measured</th>\n",
              "      <th>T4U</th>\n",
              "      <th>FTI_measured</th>\n",
              "      <th>FTI</th>\n",
              "      <th>TBG_measured</th>\n",
              "      <th>TBG</th>\n",
              "      <th>sclass</th>\n",
              "    </tr>\n",
              "  </thead>\n",
              "  <tbody>\n",
              "    <tr>\n",
              "      <th>0</th>\n",
              "      <td>45</td>\n",
              "      <td>1.0</td>\n",
              "      <td>f</td>\n",
              "      <td>f</td>\n",
              "      <td>f</td>\n",
              "      <td>f</td>\n",
              "      <td>f</td>\n",
              "      <td>f</td>\n",
              "      <td>f</td>\n",
              "      <td>f</td>\n",
              "      <td>f</td>\n",
              "      <td>f</td>\n",
              "      <td>f</td>\n",
              "      <td>y</td>\n",
              "      <td>1.90</td>\n",
              "      <td>y</td>\n",
              "      <td>1</td>\n",
              "      <td>y</td>\n",
              "      <td>82</td>\n",
              "      <td>y</td>\n",
              "      <td>0.73</td>\n",
              "      <td>y</td>\n",
              "      <td>112</td>\n",
              "      <td>n</td>\n",
              "      <td>?</td>\n",
              "      <td>sick-euthyroid</td>\n",
              "    </tr>\n",
              "    <tr>\n",
              "      <th>1</th>\n",
              "      <td>64</td>\n",
              "      <td>1.0</td>\n",
              "      <td>f</td>\n",
              "      <td>f</td>\n",
              "      <td>f</td>\n",
              "      <td>f</td>\n",
              "      <td>f</td>\n",
              "      <td>f</td>\n",
              "      <td>f</td>\n",
              "      <td>t</td>\n",
              "      <td>f</td>\n",
              "      <td>f</td>\n",
              "      <td>f</td>\n",
              "      <td>y</td>\n",
              "      <td>0.09</td>\n",
              "      <td>y</td>\n",
              "      <td>1</td>\n",
              "      <td>y</td>\n",
              "      <td>101</td>\n",
              "      <td>y</td>\n",
              "      <td>0.82</td>\n",
              "      <td>y</td>\n",
              "      <td>123</td>\n",
              "      <td>n</td>\n",
              "      <td>?</td>\n",
              "      <td>sick-euthyroid</td>\n",
              "    </tr>\n",
              "    <tr>\n",
              "      <th>2</th>\n",
              "      <td>56</td>\n",
              "      <td>0.0</td>\n",
              "      <td>f</td>\n",
              "      <td>f</td>\n",
              "      <td>f</td>\n",
              "      <td>f</td>\n",
              "      <td>f</td>\n",
              "      <td>f</td>\n",
              "      <td>f</td>\n",
              "      <td>f</td>\n",
              "      <td>f</td>\n",
              "      <td>f</td>\n",
              "      <td>f</td>\n",
              "      <td>y</td>\n",
              "      <td>0</td>\n",
              "      <td>y</td>\n",
              "      <td>0.80</td>\n",
              "      <td>y</td>\n",
              "      <td>76</td>\n",
              "      <td>y</td>\n",
              "      <td>0.77</td>\n",
              "      <td>y</td>\n",
              "      <td>99</td>\n",
              "      <td>n</td>\n",
              "      <td>?</td>\n",
              "      <td>sick-euthyroid</td>\n",
              "    </tr>\n",
              "    <tr>\n",
              "      <th>3</th>\n",
              "      <td>78</td>\n",
              "      <td>1.0</td>\n",
              "      <td>t</td>\n",
              "      <td>f</td>\n",
              "      <td>f</td>\n",
              "      <td>f</td>\n",
              "      <td>t</td>\n",
              "      <td>f</td>\n",
              "      <td>f</td>\n",
              "      <td>f</td>\n",
              "      <td>f</td>\n",
              "      <td>f</td>\n",
              "      <td>f</td>\n",
              "      <td>y</td>\n",
              "      <td>2.60</td>\n",
              "      <td>y</td>\n",
              "      <td>0.30</td>\n",
              "      <td>y</td>\n",
              "      <td>87</td>\n",
              "      <td>y</td>\n",
              "      <td>0.95</td>\n",
              "      <td>y</td>\n",
              "      <td>91</td>\n",
              "      <td>n</td>\n",
              "      <td>?</td>\n",
              "      <td>sick-euthyroid</td>\n",
              "    </tr>\n",
              "    <tr>\n",
              "      <th>4</th>\n",
              "      <td>80</td>\n",
              "      <td>0.0</td>\n",
              "      <td>f</td>\n",
              "      <td>f</td>\n",
              "      <td>f</td>\n",
              "      <td>f</td>\n",
              "      <td>f</td>\n",
              "      <td>f</td>\n",
              "      <td>f</td>\n",
              "      <td>f</td>\n",
              "      <td>f</td>\n",
              "      <td>f</td>\n",
              "      <td>f</td>\n",
              "      <td>y</td>\n",
              "      <td>1.40</td>\n",
              "      <td>y</td>\n",
              "      <td>0.80</td>\n",
              "      <td>y</td>\n",
              "      <td>105</td>\n",
              "      <td>y</td>\n",
              "      <td>0.88</td>\n",
              "      <td>y</td>\n",
              "      <td>120</td>\n",
              "      <td>n</td>\n",
              "      <td>?</td>\n",
              "      <td>sick-euthyroid</td>\n",
              "    </tr>\n",
              "    <tr>\n",
              "      <th>5</th>\n",
              "      <td>74</td>\n",
              "      <td>1.0</td>\n",
              "      <td>f</td>\n",
              "      <td>f</td>\n",
              "      <td>f</td>\n",
              "      <td>f</td>\n",
              "      <td>f</td>\n",
              "      <td>f</td>\n",
              "      <td>f</td>\n",
              "      <td>f</td>\n",
              "      <td>f</td>\n",
              "      <td>f</td>\n",
              "      <td>f</td>\n",
              "      <td>y</td>\n",
              "      <td>0</td>\n",
              "      <td>y</td>\n",
              "      <td>0.70</td>\n",
              "      <td>y</td>\n",
              "      <td>98</td>\n",
              "      <td>y</td>\n",
              "      <td>0.81</td>\n",
              "      <td>y</td>\n",
              "      <td>121</td>\n",
              "      <td>n</td>\n",
              "      <td>?</td>\n",
              "      <td>sick-euthyroid</td>\n",
              "    </tr>\n",
              "    <tr>\n",
              "      <th>6</th>\n",
              "      <td>?</td>\n",
              "      <td>1.0</td>\n",
              "      <td>f</td>\n",
              "      <td>f</td>\n",
              "      <td>f</td>\n",
              "      <td>f</td>\n",
              "      <td>f</td>\n",
              "      <td>f</td>\n",
              "      <td>f</td>\n",
              "      <td>f</td>\n",
              "      <td>f</td>\n",
              "      <td>f</td>\n",
              "      <td>f</td>\n",
              "      <td>y</td>\n",
              "      <td>1.40</td>\n",
              "      <td>y</td>\n",
              "      <td>1.10</td>\n",
              "      <td>y</td>\n",
              "      <td>121</td>\n",
              "      <td>y</td>\n",
              "      <td>1.11</td>\n",
              "      <td>y</td>\n",
              "      <td>109</td>\n",
              "      <td>n</td>\n",
              "      <td>?</td>\n",
              "      <td>sick-euthyroid</td>\n",
              "    </tr>\n",
              "    <tr>\n",
              "      <th>7</th>\n",
              "      <td>42</td>\n",
              "      <td>1.0</td>\n",
              "      <td>f</td>\n",
              "      <td>f</td>\n",
              "      <td>f</td>\n",
              "      <td>f</td>\n",
              "      <td>f</td>\n",
              "      <td>f</td>\n",
              "      <td>f</td>\n",
              "      <td>f</td>\n",
              "      <td>f</td>\n",
              "      <td>f</td>\n",
              "      <td>f</td>\n",
              "      <td>y</td>\n",
              "      <td>2.30</td>\n",
              "      <td>y</td>\n",
              "      <td>1.10</td>\n",
              "      <td>y</td>\n",
              "      <td>93</td>\n",
              "      <td>y</td>\n",
              "      <td>0.73</td>\n",
              "      <td>y</td>\n",
              "      <td>127</td>\n",
              "      <td>n</td>\n",
              "      <td>?</td>\n",
              "      <td>sick-euthyroid</td>\n",
              "    </tr>\n",
              "    <tr>\n",
              "      <th>8</th>\n",
              "      <td>89</td>\n",
              "      <td>0.0</td>\n",
              "      <td>f</td>\n",
              "      <td>f</td>\n",
              "      <td>f</td>\n",
              "      <td>f</td>\n",
              "      <td>f</td>\n",
              "      <td>f</td>\n",
              "      <td>f</td>\n",
              "      <td>f</td>\n",
              "      <td>f</td>\n",
              "      <td>f</td>\n",
              "      <td>f</td>\n",
              "      <td>y</td>\n",
              "      <td>0.80</td>\n",
              "      <td>y</td>\n",
              "      <td>0.80</td>\n",
              "      <td>y</td>\n",
              "      <td>111</td>\n",
              "      <td>y</td>\n",
              "      <td>0.68</td>\n",
              "      <td>y</td>\n",
              "      <td>165</td>\n",
              "      <td>n</td>\n",
              "      <td>?</td>\n",
              "      <td>sick-euthyroid</td>\n",
              "    </tr>\n",
              "    <tr>\n",
              "      <th>9</th>\n",
              "      <td>73</td>\n",
              "      <td>0.0</td>\n",
              "      <td>f</td>\n",
              "      <td>f</td>\n",
              "      <td>f</td>\n",
              "      <td>f</td>\n",
              "      <td>f</td>\n",
              "      <td>f</td>\n",
              "      <td>f</td>\n",
              "      <td>f</td>\n",
              "      <td>f</td>\n",
              "      <td>f</td>\n",
              "      <td>f</td>\n",
              "      <td>y</td>\n",
              "      <td>0</td>\n",
              "      <td>y</td>\n",
              "      <td>1</td>\n",
              "      <td>y</td>\n",
              "      <td>96</td>\n",
              "      <td>y</td>\n",
              "      <td>0.89</td>\n",
              "      <td>y</td>\n",
              "      <td>108</td>\n",
              "      <td>n</td>\n",
              "      <td>?</td>\n",
              "      <td>sick-euthyroid</td>\n",
              "    </tr>\n",
              "  </tbody>\n",
              "</table>\n",
              "</div>"
            ],
            "text/plain": [
              "  age  sex on_thyroxine  ... TBG_measured TBG          sclass\n",
              "0  45  1.0            f  ...            n   ?  sick-euthyroid\n",
              "1  64  1.0            f  ...            n   ?  sick-euthyroid\n",
              "2  56  0.0            f  ...            n   ?  sick-euthyroid\n",
              "3  78  1.0            t  ...            n   ?  sick-euthyroid\n",
              "4  80  0.0            f  ...            n   ?  sick-euthyroid\n",
              "5  74  1.0            f  ...            n   ?  sick-euthyroid\n",
              "6   ?  1.0            f  ...            n   ?  sick-euthyroid\n",
              "7  42  1.0            f  ...            n   ?  sick-euthyroid\n",
              "8  89  0.0            f  ...            n   ?  sick-euthyroid\n",
              "9  73  0.0            f  ...            n   ?  sick-euthyroid\n",
              "\n",
              "[10 rows x 26 columns]"
            ]
          },
          "metadata": {
            "tags": []
          }
        },
        {
          "output_type": "display_data",
          "data": {
            "text/plain": [
              "age                           object\n",
              "sex                          float64\n",
              "on_thyroxine                  object\n",
              "query_on_thyroxine            object\n",
              "on_antithyroid_medication     object\n",
              "thyroid_surgery               object\n",
              "query_hypothyroid             object\n",
              "query_hyperthyroid            object\n",
              "pregnant                      object\n",
              "sick                          object\n",
              "tumor                         object\n",
              "lithium                       object\n",
              "goitre                        object\n",
              "TSH_measured                  object\n",
              "TSH                           object\n",
              "T3_measured                   object\n",
              "T3                            object\n",
              "TT4_measured                  object\n",
              "TT4                           object\n",
              "T4U_measured                  object\n",
              "T4U                           object\n",
              "FTI_measured                  object\n",
              "FTI                           object\n",
              "TBG_measured                  object\n",
              "TBG                           object\n",
              "sclass                        object\n",
              "dtype: object"
            ]
          },
          "metadata": {
            "tags": []
          }
        }
      ]
    },
    {
      "cell_type": "code",
      "metadata": {
        "colab": {
          "base_uri": "https://localhost:8080/",
          "height": 35
        },
        "id": "WIuZGvIVpM6_",
        "outputId": "666a7a5e-5645-45cd-a686-180cc32f2dbc"
      },
      "source": [
        "\n",
        "display(data.shape)"
      ],
      "execution_count": 84,
      "outputs": [
        {
          "output_type": "display_data",
          "data": {
            "text/plain": [
              "(3162, 26)"
            ]
          },
          "metadata": {
            "tags": []
          }
        }
      ]
    },
    {
      "cell_type": "code",
      "metadata": {
        "colab": {
          "base_uri": "https://localhost:8080/",
          "height": 90
        },
        "id": "TLO2soeZqZPT",
        "outputId": "d25e68ad-befd-46e3-d080-359e7c174780"
      },
      "source": [
        "print(\"Sick-euthyroid:\")\n",
        "sex_series2 = pd.Series(data[data.columns[1]].values)\n",
        "display(sex_series2.value_counts())\n"
      ],
      "execution_count": 85,
      "outputs": [
        {
          "output_type": "stream",
          "text": [
            "Sick-euthyroid:\n"
          ],
          "name": "stdout"
        },
        {
          "output_type": "display_data",
          "data": {
            "text/plain": [
              "1.0    2182\n",
              "0.0     907\n",
              "dtype: int64"
            ]
          },
          "metadata": {
            "tags": []
          }
        }
      ]
    },
    {
      "cell_type": "code",
      "metadata": {
        "colab": {
          "base_uri": "https://localhost:8080/"
        },
        "id": "mXz88YvGrS0D",
        "outputId": "335f90d0-3531-4df4-ea3c-c42738190a10"
      },
      "source": [
        "#start the data pre processing observing the set of possible values for each attribute\n",
        "for column in data.columns:\n",
        "    listOfValues=set(data[column])\n",
        "    print(column,\": \",listOfValues)"
      ],
      "execution_count": 86,
      "outputs": [
        {
          "output_type": "stream",
          "text": [
            "age :  {'80', '51', '10', '44', '30', '37', '56', '67', '15', '92', '50', '84', '22', '85', '35', '72', '31', '?', '5', '16', '62', '86', '57', '73', '55', '54', '74', '6', '64', '12', '34', '40', '77', '65', '8', '18', '88', '63', '14', '20', '11', '87', '89', '27', '90', '70', '81', '33', '28', '58', '39', '1', '69', '21', '38', '78', '24', '48', '13', '98', '53', '68', '23', '59', '76', '7', '60', '66', '75', '49', '52', '46', '45', '83', '42', '61', '32', '71', '17', '29', '93', '19', '9', '79', '36', '82', '26', '97', '25', '47', '41', '4', '43'}\n",
            "sex :  {0.0, 1.0, nan, nan, nan, nan, nan, nan, nan, nan, nan, nan, nan, nan, nan, nan, nan, nan, nan, nan, nan, nan, nan, nan, nan, nan, nan, nan, nan, nan, nan, nan, nan, nan, nan, nan, nan, nan, nan, nan, nan, nan, nan, nan, nan, nan, nan, nan, nan, nan, nan, nan, nan, nan, nan, nan, nan, nan, nan, nan, nan, nan, nan, nan, nan, nan, nan, nan, nan, nan, nan, nan, nan, nan, nan}\n",
            "on_thyroxine :  {'t', 'f'}\n",
            "query_on_thyroxine :  {'t', 'f'}\n",
            "on_antithyroid_medication :  {'t', 'f'}\n",
            "thyroid_surgery :  {'t', 'f'}\n",
            "query_hypothyroid :  {'t', 'f'}\n",
            "query_hyperthyroid :  {'t', 'f'}\n",
            "pregnant :  {'t', 'f'}\n",
            "sick :  {'t', 'f'}\n",
            "tumor :  {'t', 'f'}\n",
            "lithium :  {'t', 'f'}\n",
            "goitre :  {'t', 'f'}\n",
            "TSH_measured :  {'n', 'y'}\n",
            "TSH :  {'2.90', '0.85', '3.60', '4.30', '9.50', '0.91', '2.40', '0.80', '3.20', '200', '80', '10', '6.10', '44', '8.90', '5.10', '0.28', '0.07', '30', '9.60', '37', '3.50', '7.50', '0.05', '56', '15', '1.83', '138', '92', '3.70', '50', '0.42', '4.10', '11.40', '22', '0.69', '85', '35', '6.60', '1.30', '31', '?', '100', '8.80', '4.20', '5', '3.40', '0.77', '1.10', '0.50', '5.60', '16', '7.60', '17.40', '3.80', '5.40', '0.02', '14.90', '86', '0.26', '4.60', '2.30', '2.50', '7.10', '57', '4.80', '6.30', '117', '0.40', '2.10', '145', '6.80', '55', '8.10', '96', '54', '0.92', '6', '0.15', '12', '6.40', '34', '2.70', '0.67', '13.20', '8.50', '0.06', '40', '0.23', '0.90', '1.50', '176', '5.50', '150', '77', '183', '126', '65', '8', '7.30', '18', '6.20', '0.25', '88', '0.01', '63', '7.90', '6.50', '14', '20', '11', '14.30', '6.70', '89', '1.70', '0.03', '5.80', '27', '2.20', '3.90', '170', '2.60', '90', '125', '70', '0.46', '33', '4.50', '0.62', '8.30', '178', '1.01', '8.70', '28', '216', '0.20', '14.40', '0.43', '0.08', '10.70', '288', '0.83', '8.60', '6.90', '7.80', '58', '2.80', '8.20', '1.90', '4.40', '1', '21', '1.05', '39', '38', '8.40', '0.65', '9.90', '24', '0.68', '48', '9.10', '13', '9.40', '0.09', '53', '68', '23', '109', '4.70', '160', '0.35', '59', '76', '0.81', '10.30', '3.10', '66', '60', '4.90', '140', '49', '11.60', '52', '0.10', '3.30', '46', '0.30', '0.04', '45', '9.70', '19.20', '42', '0.60', '1.40', '3', '16.50', '17', '0.70', '0.21', '61', '32', '0', '164', '29', '71', '1.60', '9.80', '530', '0.64', '19', '9', '260', '36', '0.88', '213', '430', '153', '143', '82', '1.20', '26', '0.84', '235', '25', '47', '9.20', '41', '15.30', '5.90', '2', '13.30', '4', '0.37', '43', '5.20', '1.80', '165', '7.40', '7.70'}\n",
            "T3_measured :  {'n', 'y'}\n",
            "T3 :  {'2.90', '0.40', '2.10', '0.10', '3.30', '4.30', '0.20', '2.40', '0.30', '0.80', '3.20', '3.60', '8.10', '6.10', '8.90', '5.10', '8.60', '0.60', '1.40', '3', '0.70', '0', '3.50', '2.80', '0.05', '1', '1.90', '2.70', '4.40', '1.60', '3.70', '9.80', '0.90', '1.50', '4.10', '5.50', '10.20', '6.60', '1.30', '7.30', '?', '6.20', '1.20', '4.20', '3.40', '5', '6.70', '1.10', '4.70', '0.50', '5.60', '1.70', '7.60', '7', '2.20', '3.90', '3.80', '2', '3.10', '4', '2.60', '4.60', '2.50', '1.80', '2.30', '5.30', '4.50', '5.20', '4.80', '4.90'}\n",
            "TT4_measured :  {'n', 'y'}\n",
            "TT4 :  {'2.90', '247', '211', '236', '450', '175', '80', '200', '51', '10', '44', '147', '105', '142', '149', '30', '113', '161', '37', '223', '269', '7.50', '56', '102', '67', '15', '138', '92', '217', '141', '128', '50', '207', '220', '4.10', '84', '22', '197', '263', '85', '35', '6.60', '72', '31', '?', '100', '186', '194', '204', '173', '333', '250', '16', '162', '282', '7.60', '159', '184', '62', '86', '301', '222', '157', '254', '2.30', '57', '73', '117', '130', '139', '166', '145', '148', '55', '8.10', '96', '54', '74', '6', '91', '64', '245', '12', '135', '255', '136', '34', '151', '120', '94', '122', '256', '40', '176', '208', '103', '183', '77', '150', '144', '126', '65', '7.30', '169', '212', '123', '18', '88', '63', '267', '129', '131', '14', '261', '20', '11', '87', '95', '89', '168', '106', '27', '202', '133', '396', '170', '3.90', '359', '101', '90', '112', '232', '70', '137', '81', '33', '125', '5.30', '209', '178', '199', '28', '119', '216', '182', '296', '154', '177', '8.60', '219', '58', '158', '196', '244', '152', '39', '156', '69', '221', '21', '38', '78', '134', '206', '240', '24', '190', '275', '116', '283', '48', '218', '241', '98', '110', '13', '53', '115', '132', '68', '23', '258', '193', '109', '59', '201', '155', '76', '111', '191', '248', '230', '99', '66', '60', '75', '205', '108', '49', '140', '52', '46', '146', '210', '242', '287', '45', '203', '83', '167', '9.70', '252', '42', '195', '3', '61', '32', '71', '17', '29', '164', '163', '239', '181', '228', '93', '224', '19', '9', '79', '127', '118', '260', '180', '36', '107', '213', '143', '187', '153', '82', '430', '426', '121', '253', '97', '185', '308', '188', '235', '214', '172', '25', '174', '47', '198', '41', '124', '179', '2', '4', '43', '104', '189', '225', '171', '165', '114', '160'}\n",
            "T4U_measured :  {'n', 'y'}\n",
            "T4U :  {'0.85', '0.91', '0.61', '1.37', '1.08', '0.80', '2.21', '1.61', '1.86', '0.86', '0.79', '0.28', '2.03', '1.51', '1.73', '1.04', '1.03', '1.83', '1.66', '0.72', '1.09', '0.69', '1.30', '1.32', '?', '1.18', '1.16', '0.59', '0.48', '1.75', '0.77', '1.10', '1.53', '0.75', '0.50', '1.88', '1.07', '1.19', '1.24', '1.42', '1.94', '1.43', '1.58', '0.96', '1.65', '0.40', '1.77', '0.76', '0.92', '0.63', '1.79', '0.67', '1.21', '1.96', '0.29', '0.27', '0.90', '1.50', '2.01', '1.72', '0.34', '0.33', '1.74', '1.41', '0.41', '1.34', '1.70', '1.76', '1.17', '0.53', '1.64', '1.36', '0.46', '0.62', '1.45', '0.82', '1.68', '0.87', '1.69', '1.01', '0.20', '1.39', '0.49', '0.83', '1.71', '0.98', '1.67', '0.89', '1', '1.05', '0.38', '1.55', '1.56', '1.63', '0.65', '1.06', '1.44', '0.68', '0.94', '0.36', '0.57', '0.99', '1.59', '1.14', '0.93', '0.35', '0.81', '1.62', '1.54', '1.29', '0.31', '1.31', '0.52', '1.23', '1.35', '1.02', '0.73', '1.11', '0.30', '1.26', '0.60', '1.93', '1.33', '1.15', '1.40', '0.70', '0.32', '1.52', '1.12', '0.74', '0', '1.97', '0.47', '0.55', '1.57', '0.64', '0.95', '1.49', '0.66', '1.13', '1.28', '1.38', '0.88', '1.48', '1.20', '0.84', '1.27', '1.46', '0.56', '1.25', '0.71', '1.22', '2', '0.97', '0.58', '1.80', '0.54', '1.47', '0.78'}\n",
            "FTI_measured :  {'n', 'y'}\n",
            "FTI :  {'211', '247', '215', '450', '175', '80', '51', '200', '10', '44', '147', '8.90', '105', '142', '149', '485', '113', '161', '37', '223', '650', '7.50', '56', '102', '67', '237', '259', '15', '138', '395', '92', '217', '141', '128', '50', '220', '84', '263', '197', '22', '85', '35', '6.60', '355', '264', '72', '31', '?', '100', '186', '194', '204', '173', '192', '3.40', '250', '5', '16', '162', '702', '159', '184', '86', '222', '254', '157', '57', '73', '117', '130', '139', '166', '145', '148', '55', '272', '96', '54', '74', '6', '91', '64', '12', '135', '299', '136', '347', '7.20', '34', '151', '120', '8.50', '852', '271', '94', '122', '256', '40', '176', '208', '77', '103', '150', '5.50', '144', '169', '126', '65', '212', '123', '88', '63', '129', '131', '14', '20', '11', '839', '95', '87', '89', '168', '106', '257', '202', '133', '170', '359', '101', '112', '90', '232', '125', '70', '81', '33', '137', '227', '209', '178', '8.70', '28', '119', '216', '182', '154', '334', '615', '177', '219', '58', '158', '196', '244', '152', '221', '156', '69', '21', '741', '2.80', '39', '482', '8.40', '78', '134', '881', '240', '24', '190', '305', '116', '445', '283', '695', '332', '48', '246', '241', '337', '711', '218', '98', '110', '13', '53', '115', '68', '132', '258', '23', '249', '109', '193', '155', '59', '111', '76', '7', '248', '99', '66', '60', '75', '205', '634', '108', '140', '49', '52', '46', '146', '354', '210', '45', '203', '83', '167', '42', '195', '3', '61', '32', '71', '17', '316', '1.40', '550', '0', '164', '163', '29', '239', '612', '181', '228', '370', '93', '19', '9', '118', '127', '79', '180', '36', '107', '213', '143', '153', '187', '82', '292', '121', '26', '97', '428', '185', '308', '188', '235', '214', '172', '174', '47', '198', '41', '124', '179', '266', '2', '345', '4', '104', '43', '189', '229', '171', '165', '114', '160', '470'}\n",
            "TBG_measured :  {'n', 'y'}\n",
            "TBG :  {'52', '28', '45', '80', '12', '32', '30', '17', '37', '0', '34', '9.30', '39', '29', '69', '21', '8.50', '38', '15', '8.40', '122', '50', '40', '22', '24', '19', '35', '7.30', '65', '48', '31', '?', '36', '18', '63', '110', '13', '26', '53', '14', '23', '20', '11', '16', '25', '47', '41', '27', '3.10', '43', '86', '33', '108'}\n",
            "sclass :  {'negative', 'sick-euthyroid'}\n"
          ],
          "name": "stdout"
        }
      ]
    },
    {
      "cell_type": "code",
      "metadata": {
        "colab": {
          "base_uri": "https://localhost:8080/"
        },
        "id": "48Uhbg4z1aFZ",
        "outputId": "75133024-3432-4b14-af32-e26b2484a5fc"
      },
      "source": [
        "data=data.replace({\"?\":np.NAN})\n",
        "data.isna().sum()"
      ],
      "execution_count": 87,
      "outputs": [
        {
          "output_type": "execute_result",
          "data": {
            "text/plain": [
              "age                           446\n",
              "sex                            73\n",
              "on_thyroxine                    0\n",
              "query_on_thyroxine              0\n",
              "on_antithyroid_medication       0\n",
              "thyroid_surgery                 0\n",
              "query_hypothyroid               0\n",
              "query_hyperthyroid              0\n",
              "pregnant                        0\n",
              "sick                            0\n",
              "tumor                           0\n",
              "lithium                         0\n",
              "goitre                          0\n",
              "TSH_measured                    0\n",
              "TSH                           467\n",
              "T3_measured                     0\n",
              "T3                            695\n",
              "TT4_measured                    0\n",
              "TT4                           249\n",
              "T4U_measured                    0\n",
              "T4U                           248\n",
              "FTI_measured                    0\n",
              "FTI                           247\n",
              "TBG_measured                    0\n",
              "TBG                          2902\n",
              "sclass                          0\n",
              "dtype: int64"
            ]
          },
          "metadata": {
            "tags": []
          },
          "execution_count": 87
        }
      ]
    },
    {
      "cell_type": "code",
      "metadata": {
        "id": "U9w2bE-O1mGE"
      },
      "source": [
        "del data['TBG']"
      ],
      "execution_count": 88,
      "outputs": []
    },
    {
      "cell_type": "code",
      "metadata": {
        "colab": {
          "base_uri": "https://localhost:8080/"
        },
        "id": "EIw6CioK1y9u",
        "outputId": "f5a460a1-d0ea-48d6-94d9-984ac1c19fdb"
      },
      "source": [
        "data.dropna(axis = 0, thresh = 20, inplace = True)\n",
        "data.isna().sum()"
      ],
      "execution_count": 89,
      "outputs": [
        {
          "output_type": "execute_result",
          "data": {
            "text/plain": [
              "age                          418\n",
              "sex                           68\n",
              "on_thyroxine                   0\n",
              "query_on_thyroxine             0\n",
              "on_antithyroid_medication      0\n",
              "thyroid_surgery                0\n",
              "query_hypothyroid              0\n",
              "query_hyperthyroid             0\n",
              "pregnant                       0\n",
              "sick                           0\n",
              "tumor                          0\n",
              "lithium                        0\n",
              "goitre                         0\n",
              "TSH_measured                   0\n",
              "TSH                          436\n",
              "T3_measured                    0\n",
              "T3                           664\n",
              "TT4_measured                   0\n",
              "TT4                          218\n",
              "T4U_measured                   0\n",
              "T4U                          217\n",
              "FTI_measured                   0\n",
              "FTI                          216\n",
              "TBG_measured                   0\n",
              "sclass                         0\n",
              "dtype: int64"
            ]
          },
          "metadata": {
            "tags": []
          },
          "execution_count": 89
        }
      ]
    },
    {
      "cell_type": "code",
      "metadata": {
        "id": "72hMXHwRCzW4"
      },
      "source": [
        "#data[['age','TSH','T3','TT4','T4U','FTI']].boxplot()"
      ],
      "execution_count": 90,
      "outputs": []
    },
    {
      "cell_type": "code",
      "metadata": {
        "colab": {
          "base_uri": "https://localhost:8080/",
          "height": 210
        },
        "id": "Sf49-YDEDHs5",
        "outputId": "070ef162-5ed9-48f5-95e3-19fb6a12007f"
      },
      "source": [
        "ax = sns.catplot(y='sclass', kind='count', data=data, height=2.6, aspect=2.5)"
      ],
      "execution_count": 91,
      "outputs": [
        {
          "output_type": "display_data",
          "data": {
            "image/png": "[encoded data removed]",
            "text/plain": [
              "<Figure size 468x187.2 with 1 Axes>"
            ]
          },
          "metadata": {
            "tags": [],
            "needs_background": "light"
          }
        }
      ]
    },
    {
      "cell_type": "code",
      "metadata": {
        "colab": {
          "base_uri": "https://localhost:8080/",
          "height": 282
        },
        "id": "vaqmkLrqDOLZ",
        "outputId": "a7248d79-e8b7-4b79-c4e3-9afecf81ccfc"
      },
      "source": [
        "def barplot_percentages(feature, orient='v', axis_name=\"Predict Based on Sex\"):\n",
        "    ratios = pd.DataFrame()\n",
        "    g = data.groupby(feature)[\"pregnant\"].value_counts().to_frame()\n",
        "    g = g.rename({\"pregnant\": axis_name}, axis=1).reset_index()\n",
        "    g[axis_name] = g[axis_name]/len(data)\n",
        "    if orient == 'v':\n",
        "        ax = sns.barplot(x=feature, y= axis_name, hue='pregnant', data=g, orient=orient)\n",
        "        ax.set_yticklabels(['{:,.0%}'.format(y) for y in ax.get_yticks()])\n",
        "    else:\n",
        "        ax = sns.barplot(x= axis_name, y=feature, hue='pregnant', data=g, orient=orient)\n",
        "        ax.set_xticklabels(['{:,.0%}'.format(x) for x in ax.get_xticks()])\n",
        "    ax.plot()\n",
        "barplot_percentages(\"sex\")"
      ],
      "execution_count": 92,
      "outputs": [
        {
          "output_type": "display_data",
          "data": {
            "image/png": "[encoded data removed]",
            "text/plain": [
              "<Figure size 432x288 with 1 Axes>"
            ]
          },
          "metadata": {
            "tags": [],
            "needs_background": "light"
          }
        }
      ]
    },
    {
      "cell_type": "code",
      "metadata": {
        "colab": {
          "base_uri": "https://localhost:8080/",
          "height": 307
        },
        "id": "4AKK7xItDzbw",
        "outputId": "f2d7b8f3-1c48-4f66-fa8b-af1c4ce56677"
      },
      "source": [
        "plt.figure(figsize=(9, 4.5))\n",
        "barplot_percentages(\"tumor\", orient='h')"
      ],
      "execution_count": 93,
      "outputs": [
        {
          "output_type": "display_data",
          "data": {
            "image/png": "[encoded data removed]",
            "text/plain": [
              "<Figure size 648x324 with 1 Axes>"
            ]
          },
          "metadata": {
            "tags": [],
            "needs_background": "light"
          }
        }
      ]
    },
    {
      "cell_type": "code",
      "metadata": {
        "colab": {
          "base_uri": "https://localhost:8080/",
          "height": 307
        },
        "id": "rkGPvVzWEB2C",
        "outputId": "e89a34dd-9584-42a6-e19d-0ff81d22c549"
      },
      "source": [
        "plt.figure(figsize=(9, 4.5))\n",
        "barplot_percentages(\"query_hyperthyroid\", orient='h')"
      ],
      "execution_count": 94,
      "outputs": [
        {
          "output_type": "display_data",
          "data": {
            "image/png": "[encoded data removed]",
            "text/plain": [
              "<Figure size 648x324 with 1 Axes>"
            ]
          },
          "metadata": {
            "tags": [],
            "needs_background": "light"
          }
        }
      ]
    },
    {
      "cell_type": "code",
      "metadata": {
        "colab": {
          "base_uri": "https://localhost:8080/",
          "height": 555
        },
        "id": "4RbdAbM44jaB",
        "outputId": "f793ea38-91cc-4064-875f-6db997388550"
      },
      "source": [
        "display(data.head(10))"
      ],
      "execution_count": 95,
      "outputs": [
        {
          "output_type": "display_data",
          "data": {
            "text/html": [
              "<div>\n",
              "<style scoped>\n",
              "    .dataframe tbody tr th:only-of-type {\n",
              "        vertical-align: middle;\n",
              "    }\n",
              "\n",
              "    .dataframe tbody tr th {\n",
              "        vertical-align: top;\n",
              "    }\n",
              "\n",
              "    .dataframe thead th {\n",
              "        text-align: right;\n",
              "    }\n",
              "</style>\n",
              "<table border=\"1\" class=\"dataframe\">\n",
              "  <thead>\n",
              "    <tr style=\"text-align: right;\">\n",
              "      <th></th>\n",
              "      <th>age</th>\n",
              "      <th>sex</th>\n",
              "      <th>on_thyroxine</th>\n",
              "      <th>query_on_thyroxine</th>\n",
              "      <th>on_antithyroid_medication</th>\n",
              "      <th>thyroid_surgery</th>\n",
              "      <th>query_hypothyroid</th>\n",
              "      <th>query_hyperthyroid</th>\n",
              "      <th>pregnant</th>\n",
              "      <th>sick</th>\n",
              "      <th>tumor</th>\n",
              "      <th>lithium</th>\n",
              "      <th>goitre</th>\n",
              "      <th>TSH_measured</th>\n",
              "      <th>TSH</th>\n",
              "      <th>T3_measured</th>\n",
              "      <th>T3</th>\n",
              "      <th>TT4_measured</th>\n",
              "      <th>TT4</th>\n",
              "      <th>T4U_measured</th>\n",
              "      <th>T4U</th>\n",
              "      <th>FTI_measured</th>\n",
              "      <th>FTI</th>\n",
              "      <th>TBG_measured</th>\n",
              "      <th>sclass</th>\n",
              "    </tr>\n",
              "  </thead>\n",
              "  <tbody>\n",
              "    <tr>\n",
              "      <th>0</th>\n",
              "      <td>45</td>\n",
              "      <td>1.0</td>\n",
              "      <td>f</td>\n",
              "      <td>f</td>\n",
              "      <td>f</td>\n",
              "      <td>f</td>\n",
              "      <td>f</td>\n",
              "      <td>f</td>\n",
              "      <td>f</td>\n",
              "      <td>f</td>\n",
              "      <td>f</td>\n",
              "      <td>f</td>\n",
              "      <td>f</td>\n",
              "      <td>y</td>\n",
              "      <td>1.90</td>\n",
              "      <td>y</td>\n",
              "      <td>1</td>\n",
              "      <td>y</td>\n",
              "      <td>82</td>\n",
              "      <td>y</td>\n",
              "      <td>0.73</td>\n",
              "      <td>y</td>\n",
              "      <td>112</td>\n",
              "      <td>n</td>\n",
              "      <td>sick-euthyroid</td>\n",
              "    </tr>\n",
              "    <tr>\n",
              "      <th>1</th>\n",
              "      <td>64</td>\n",
              "      <td>1.0</td>\n",
              "      <td>f</td>\n",
              "      <td>f</td>\n",
              "      <td>f</td>\n",
              "      <td>f</td>\n",
              "      <td>f</td>\n",
              "      <td>f</td>\n",
              "      <td>f</td>\n",
              "      <td>t</td>\n",
              "      <td>f</td>\n",
              "      <td>f</td>\n",
              "      <td>f</td>\n",
              "      <td>y</td>\n",
              "      <td>0.09</td>\n",
              "      <td>y</td>\n",
              "      <td>1</td>\n",
              "      <td>y</td>\n",
              "      <td>101</td>\n",
              "      <td>y</td>\n",
              "      <td>0.82</td>\n",
              "      <td>y</td>\n",
              "      <td>123</td>\n",
              "      <td>n</td>\n",
              "      <td>sick-euthyroid</td>\n",
              "    </tr>\n",
              "    <tr>\n",
              "      <th>2</th>\n",
              "      <td>56</td>\n",
              "      <td>0.0</td>\n",
              "      <td>f</td>\n",
              "      <td>f</td>\n",
              "      <td>f</td>\n",
              "      <td>f</td>\n",
              "      <td>f</td>\n",
              "      <td>f</td>\n",
              "      <td>f</td>\n",
              "      <td>f</td>\n",
              "      <td>f</td>\n",
              "      <td>f</td>\n",
              "      <td>f</td>\n",
              "      <td>y</td>\n",
              "      <td>0</td>\n",
              "      <td>y</td>\n",
              "      <td>0.80</td>\n",
              "      <td>y</td>\n",
              "      <td>76</td>\n",
              "      <td>y</td>\n",
              "      <td>0.77</td>\n",
              "      <td>y</td>\n",
              "      <td>99</td>\n",
              "      <td>n</td>\n",
              "      <td>sick-euthyroid</td>\n",
              "    </tr>\n",
              "    <tr>\n",
              "      <th>3</th>\n",
              "      <td>78</td>\n",
              "      <td>1.0</td>\n",
              "      <td>t</td>\n",
              "      <td>f</td>\n",
              "      <td>f</td>\n",
              "      <td>f</td>\n",
              "      <td>t</td>\n",
              "      <td>f</td>\n",
              "      <td>f</td>\n",
              "      <td>f</td>\n",
              "      <td>f</td>\n",
              "      <td>f</td>\n",
              "      <td>f</td>\n",
              "      <td>y</td>\n",
              "      <td>2.60</td>\n",
              "      <td>y</td>\n",
              "      <td>0.30</td>\n",
              "      <td>y</td>\n",
              "      <td>87</td>\n",
              "      <td>y</td>\n",
              "      <td>0.95</td>\n",
              "      <td>y</td>\n",
              "      <td>91</td>\n",
              "      <td>n</td>\n",
              "      <td>sick-euthyroid</td>\n",
              "    </tr>\n",
              "    <tr>\n",
              "      <th>4</th>\n",
              "      <td>80</td>\n",
              "      <td>0.0</td>\n",
              "      <td>f</td>\n",
              "      <td>f</td>\n",
              "      <td>f</td>\n",
              "      <td>f</td>\n",
              "      <td>f</td>\n",
              "      <td>f</td>\n",
              "      <td>f</td>\n",
              "      <td>f</td>\n",
              "      <td>f</td>\n",
              "      <td>f</td>\n",
              "      <td>f</td>\n",
              "      <td>y</td>\n",
              "      <td>1.40</td>\n",
              "      <td>y</td>\n",
              "      <td>0.80</td>\n",
              "      <td>y</td>\n",
              "      <td>105</td>\n",
              "      <td>y</td>\n",
              "      <td>0.88</td>\n",
              "      <td>y</td>\n",
              "      <td>120</td>\n",
              "      <td>n</td>\n",
              "      <td>sick-euthyroid</td>\n",
              "    </tr>\n",
              "    <tr>\n",
              "      <th>5</th>\n",
              "      <td>74</td>\n",
              "      <td>1.0</td>\n",
              "      <td>f</td>\n",
              "      <td>f</td>\n",
              "      <td>f</td>\n",
              "      <td>f</td>\n",
              "      <td>f</td>\n",
              "      <td>f</td>\n",
              "      <td>f</td>\n",
              "      <td>f</td>\n",
              "      <td>f</td>\n",
              "      <td>f</td>\n",
              "      <td>f</td>\n",
              "      <td>y</td>\n",
              "      <td>0</td>\n",
              "      <td>y</td>\n",
              "      <td>0.70</td>\n",
              "      <td>y</td>\n",
              "      <td>98</td>\n",
              "      <td>y</td>\n",
              "      <td>0.81</td>\n",
              "      <td>y</td>\n",
              "      <td>121</td>\n",
              "      <td>n</td>\n",
              "      <td>sick-euthyroid</td>\n",
              "    </tr>\n",
              "    <tr>\n",
              "      <th>6</th>\n",
              "      <td>NaN</td>\n",
              "      <td>1.0</td>\n",
              "      <td>f</td>\n",
              "      <td>f</td>\n",
              "      <td>f</td>\n",
              "      <td>f</td>\n",
              "      <td>f</td>\n",
              "      <td>f</td>\n",
              "      <td>f</td>\n",
              "      <td>f</td>\n",
              "      <td>f</td>\n",
              "      <td>f</td>\n",
              "      <td>f</td>\n",
              "      <td>y</td>\n",
              "      <td>1.40</td>\n",
              "      <td>y</td>\n",
              "      <td>1.10</td>\n",
              "      <td>y</td>\n",
              "      <td>121</td>\n",
              "      <td>y</td>\n",
              "      <td>1.11</td>\n",
              "      <td>y</td>\n",
              "      <td>109</td>\n",
              "      <td>n</td>\n",
              "      <td>sick-euthyroid</td>\n",
              "    </tr>\n",
              "    <tr>\n",
              "      <th>7</th>\n",
              "      <td>42</td>\n",
              "      <td>1.0</td>\n",
              "      <td>f</td>\n",
              "      <td>f</td>\n",
              "      <td>f</td>\n",
              "      <td>f</td>\n",
              "      <td>f</td>\n",
              "      <td>f</td>\n",
              "      <td>f</td>\n",
              "      <td>f</td>\n",
              "      <td>f</td>\n",
              "      <td>f</td>\n",
              "      <td>f</td>\n",
              "      <td>y</td>\n",
              "      <td>2.30</td>\n",
              "      <td>y</td>\n",
              "      <td>1.10</td>\n",
              "      <td>y</td>\n",
              "      <td>93</td>\n",
              "      <td>y</td>\n",
              "      <td>0.73</td>\n",
              "      <td>y</td>\n",
              "      <td>127</td>\n",
              "      <td>n</td>\n",
              "      <td>sick-euthyroid</td>\n",
              "    </tr>\n",
              "    <tr>\n",
              "      <th>8</th>\n",
              "      <td>89</td>\n",
              "      <td>0.0</td>\n",
              "      <td>f</td>\n",
              "      <td>f</td>\n",
              "      <td>f</td>\n",
              "      <td>f</td>\n",
              "      <td>f</td>\n",
              "      <td>f</td>\n",
              "      <td>f</td>\n",
              "      <td>f</td>\n",
              "      <td>f</td>\n",
              "      <td>f</td>\n",
              "      <td>f</td>\n",
              "      <td>y</td>\n",
              "      <td>0.80</td>\n",
              "      <td>y</td>\n",
              "      <td>0.80</td>\n",
              "      <td>y</td>\n",
              "      <td>111</td>\n",
              "      <td>y</td>\n",
              "      <td>0.68</td>\n",
              "      <td>y</td>\n",
              "      <td>165</td>\n",
              "      <td>n</td>\n",
              "      <td>sick-euthyroid</td>\n",
              "    </tr>\n",
              "    <tr>\n",
              "      <th>9</th>\n",
              "      <td>73</td>\n",
              "      <td>0.0</td>\n",
              "      <td>f</td>\n",
              "      <td>f</td>\n",
              "      <td>f</td>\n",
              "      <td>f</td>\n",
              "      <td>f</td>\n",
              "      <td>f</td>\n",
              "      <td>f</td>\n",
              "      <td>f</td>\n",
              "      <td>f</td>\n",
              "      <td>f</td>\n",
              "      <td>f</td>\n",
              "      <td>y</td>\n",
              "      <td>0</td>\n",
              "      <td>y</td>\n",
              "      <td>1</td>\n",
              "      <td>y</td>\n",
              "      <td>96</td>\n",
              "      <td>y</td>\n",
              "      <td>0.89</td>\n",
              "      <td>y</td>\n",
              "      <td>108</td>\n",
              "      <td>n</td>\n",
              "      <td>sick-euthyroid</td>\n",
              "    </tr>\n",
              "  </tbody>\n",
              "</table>\n",
              "</div>"
            ],
            "text/plain": [
              "   age  sex on_thyroxine  ...  FTI TBG_measured          sclass\n",
              "0   45  1.0            f  ...  112            n  sick-euthyroid\n",
              "1   64  1.0            f  ...  123            n  sick-euthyroid\n",
              "2   56  0.0            f  ...   99            n  sick-euthyroid\n",
              "3   78  1.0            t  ...   91            n  sick-euthyroid\n",
              "4   80  0.0            f  ...  120            n  sick-euthyroid\n",
              "5   74  1.0            f  ...  121            n  sick-euthyroid\n",
              "6  NaN  1.0            f  ...  109            n  sick-euthyroid\n",
              "7   42  1.0            f  ...  127            n  sick-euthyroid\n",
              "8   89  0.0            f  ...  165            n  sick-euthyroid\n",
              "9   73  0.0            f  ...  108            n  sick-euthyroid\n",
              "\n",
              "[10 rows x 25 columns]"
            ]
          },
          "metadata": {
            "tags": []
          }
        }
      ]
    },
    {
      "cell_type": "code",
      "metadata": {
        "colab": {
          "base_uri": "https://localhost:8080/",
          "height": 490
        },
        "id": "e_hx9P-Q5CxG",
        "outputId": "d7b9d9a4-14ed-464f-b501-9143bc048080"
      },
      "source": [
        "#For the classification is important that the dataset only has numerical attributes, so I have to encode the categorical values into numerical values\n",
        "data = data.replace({\"t\":1,\"f\":0, \"y\":1, \"n\":0, \"sick-euthyroid\":1, \"negative\":0,\"F\":1, \"M\":0})\n",
        "display(data.dtypes)"
      ],
      "execution_count": 96,
      "outputs": [
        {
          "output_type": "display_data",
          "data": {
            "text/plain": [
              "age                           object\n",
              "sex                          float64\n",
              "on_thyroxine                   int64\n",
              "query_on_thyroxine             int64\n",
              "on_antithyroid_medication      int64\n",
              "thyroid_surgery                int64\n",
              "query_hypothyroid              int64\n",
              "query_hyperthyroid             int64\n",
              "pregnant                       int64\n",
              "sick                           int64\n",
              "tumor                          int64\n",
              "lithium                        int64\n",
              "goitre                         int64\n",
              "TSH_measured                   int64\n",
              "TSH                           object\n",
              "T3_measured                    int64\n",
              "T3                            object\n",
              "TT4_measured                   int64\n",
              "TT4                           object\n",
              "T4U_measured                   int64\n",
              "T4U                           object\n",
              "FTI_measured                   int64\n",
              "FTI                           object\n",
              "TBG_measured                   int64\n",
              "sclass                         int64\n",
              "dtype: object"
            ]
          },
          "metadata": {
            "tags": []
          }
        }
      ]
    },
    {
      "cell_type": "code",
      "metadata": {
        "colab": {
          "base_uri": "https://localhost:8080/",
          "height": 490
        },
        "id": "WvqPW21R5gTz",
        "outputId": "c4acdbaf-04d1-4e3f-f4e4-19db375208d1"
      },
      "source": [
        "cols = data.columns[data.dtypes.eq('object')]\n",
        "data[cols] = data[cols].apply(pd.to_numeric, errors='coerce')\n",
        "display(data.dtypes)"
      ],
      "execution_count": 97,
      "outputs": [
        {
          "output_type": "display_data",
          "data": {
            "text/plain": [
              "age                          float64\n",
              "sex                          float64\n",
              "on_thyroxine                   int64\n",
              "query_on_thyroxine             int64\n",
              "on_antithyroid_medication      int64\n",
              "thyroid_surgery                int64\n",
              "query_hypothyroid              int64\n",
              "query_hyperthyroid             int64\n",
              "pregnant                       int64\n",
              "sick                           int64\n",
              "tumor                          int64\n",
              "lithium                        int64\n",
              "goitre                         int64\n",
              "TSH_measured                   int64\n",
              "TSH                          float64\n",
              "T3_measured                    int64\n",
              "T3                           float64\n",
              "TT4_measured                   int64\n",
              "TT4                          float64\n",
              "T4U_measured                   int64\n",
              "T4U                          float64\n",
              "FTI_measured                   int64\n",
              "FTI                          float64\n",
              "TBG_measured                   int64\n",
              "sclass                         int64\n",
              "dtype: object"
            ]
          },
          "metadata": {
            "tags": []
          }
        }
      ]
    },
    {
      "cell_type": "code",
      "metadata": {
        "colab": {
          "base_uri": "https://localhost:8080/",
          "height": 326
        },
        "id": "VVy5UZXx5g43",
        "outputId": "b4534502-98db-4b39-bd65-c8e19756a6bd"
      },
      "source": [
        "# Before the training starts, finding the attributes most related to the target\n",
        "corr_values = abs(data[data.columns[0:]].corr()['sclass'][:])\n",
        "corr_values = corr_values.drop('sclass')\n",
        "corr_values = corr_values[corr_values > 0.04]\n",
        "display(corr_values)"
      ],
      "execution_count": 98,
      "outputs": [
        {
          "output_type": "display_data",
          "data": {
            "text/plain": [
              "age                   0.209837\n",
              "sex                   0.055826\n",
              "on_thyroxine          0.086556\n",
              "query_hyperthyroid    0.054124\n",
              "pregnant              0.045583\n",
              "sick                  0.193114\n",
              "TSH_measured          0.122650\n",
              "TSH                   0.056549\n",
              "T3_measured           0.166383\n",
              "T3                    0.382726\n",
              "TT4_measured          0.087734\n",
              "TT4                   0.127213\n",
              "T4U_measured          0.087517\n",
              "T4U                   0.220305\n",
              "FTI_measured          0.087300\n",
              "TBG_measured          0.090090\n",
              "Name: sclass, dtype: float64"
            ]
          },
          "metadata": {
            "tags": []
          }
        }
      ]
    },
    {
      "cell_type": "code",
      "metadata": {
        "id": "vChFF2Qe5nan"
      },
      "source": [
        "#dividing the dataset into two sets: the training set and the testing set\n",
        "def holdout(dataframe):\n",
        "  x = dataframe[corr_values.index]\n",
        "  y = dataframe['sclass']\n",
        "  X_train, X_test, y_train, y_test = train_test_split(x, y, test_size=0.30, random_state=42) \n",
        "  return X_train, X_test, y_train, y_test\n",
        "\n",
        "X_train, X_test, y_train, y_test = holdout(data)"
      ],
      "execution_count": 99,
      "outputs": []
    },
    {
      "cell_type": "code",
      "metadata": {
        "id": "yYKp-LN46cJZ"
      },
      "source": [
        "classifiers = {\n",
        "    \"XGBClassifier\" : XGBClassifier(learning_rate=0.01),\n",
        "    \"CatBoostClassifier\" : CatBoostClassifier(max_depth=4,verbose=0),\n",
        "}"
      ],
      "execution_count": 100,
      "outputs": []
    },
    {
      "cell_type": "code",
      "metadata": {
        "colab": {
          "base_uri": "https://localhost:8080/",
          "height": 252
        },
        "id": "JxP9JG116kgZ",
        "outputId": "992b1a6a-c471-4cf9-a345-ab2121166108"
      },
      "source": [
        "def classification(classifiers, X_train, X_test, y_train, y_test):\n",
        "  res = pd.DataFrame(columns=[\"Classifier\", \n",
        "                                \"Accuracy\", \n",
        "                                \"Precision\", \n",
        "                                \"Recall\", \n",
        "                                \"FScore\"])\n",
        "  for name, clf in classifiers.items():\n",
        "            clf.fit(X_train, y_train)\n",
        "            y_pred = clf.predict(X_test)\n",
        "            pr, rc, fs, sup = metrics.precision_recall_fscore_support(y_test, y_pred, average='macro')\n",
        "            res = res.append({\"Classifier\": name,\"Accuracy\": round(metrics.accuracy_score(y_test, y_pred), 4),\n",
        "                              \"Precision\": round(pr, 4), \"Recall\":round(rc, 4), \"FScore\":round(fs, 4)}, ignore_index=True)\n",
        "            print(\"Confusion matrix for: \", name)\n",
        "            display(confusion_matrix(y_test, y_pred))\n",
        "  res.set_index(\"FScore\", inplace=True)\n",
        "  res.sort_values(by=\"FScore\", ascending=False, inplace=True)   \n",
        "  return res\n",
        "\n",
        "display(classification(classifiers, X_train, X_test, y_train, y_test))"
      ],
      "execution_count": 113,
      "outputs": [
        {
          "output_type": "stream",
          "text": [
            "Confusion matrix for:  XGBClassifier\n"
          ],
          "name": "stdout"
        },
        {
          "output_type": "display_data",
          "data": {
            "text/plain": [
              "array([[817,  21],\n",
              "       [ 14,  88]])"
            ]
          },
          "metadata": {
            "tags": []
          }
        },
        {
          "output_type": "stream",
          "text": [
            "Confusion matrix for:  CatBoostClassifier\n"
          ],
          "name": "stdout"
        },
        {
          "output_type": "display_data",
          "data": {
            "text/plain": [
              "array([[823,  15],\n",
              "       [ 15,  87]])"
            ]
          },
          "metadata": {
            "tags": []
          }
        },
        {
          "output_type": "display_data",
          "data": {
            "text/html": [
              "<div>\n",
              "<style scoped>\n",
              "    .dataframe tbody tr th:only-of-type {\n",
              "        vertical-align: middle;\n",
              "    }\n",
              "\n",
              "    .dataframe tbody tr th {\n",
              "        vertical-align: top;\n",
              "    }\n",
              "\n",
              "    .dataframe thead th {\n",
              "        text-align: right;\n",
              "    }\n",
              "</style>\n",
              "<table border=\"1\" class=\"dataframe\">\n",
              "  <thead>\n",
              "    <tr style=\"text-align: right;\">\n",
              "      <th></th>\n",
              "      <th>Classifier</th>\n",
              "      <th>Accuracy</th>\n",
              "      <th>Precision</th>\n",
              "      <th>Recall</th>\n",
              "    </tr>\n",
              "    <tr>\n",
              "      <th>FScore</th>\n",
              "      <th></th>\n",
              "      <th></th>\n",
              "      <th></th>\n",
              "      <th></th>\n",
              "    </tr>\n",
              "  </thead>\n",
              "  <tbody>\n",
              "    <tr>\n",
              "      <th>0.9175</th>\n",
              "      <td>CatBoostClassifier</td>\n",
              "      <td>0.9681</td>\n",
              "      <td>0.9175</td>\n",
              "      <td>0.9175</td>\n",
              "    </tr>\n",
              "    <tr>\n",
              "      <th>0.9066</th>\n",
              "      <td>XGBClassifier</td>\n",
              "      <td>0.9628</td>\n",
              "      <td>0.8952</td>\n",
              "      <td>0.9188</td>\n",
              "    </tr>\n",
              "  </tbody>\n",
              "</table>\n",
              "</div>"
            ],
            "text/plain": [
              "                Classifier  Accuracy  Precision  Recall\n",
              "FScore                                                 \n",
              "0.9175  CatBoostClassifier    0.9681     0.9175  0.9175\n",
              "0.9066       XGBClassifier    0.9628     0.8952  0.9188"
            ]
          },
          "metadata": {
            "tags": []
          }
        }
      ]
    },
    {
      "cell_type": "code",
      "metadata": {
        "colab": {
          "base_uri": "https://localhost:8080/",
          "height": 90
        },
        "id": "x9SdqHUj7Aue",
        "outputId": "2d4e3d5a-5756-4b0a-b672-9ab16d562e79"
      },
      "source": [
        "display(data.shape)\n",
        "data.sclass.value_counts()"
      ],
      "execution_count": 102,
      "outputs": [
        {
          "output_type": "display_data",
          "data": {
            "text/plain": [
              "(3131, 25)"
            ]
          },
          "metadata": {
            "tags": []
          }
        },
        {
          "output_type": "execute_result",
          "data": {
            "text/plain": [
              "0    2839\n",
              "1     292\n",
              "Name: sclass, dtype: int64"
            ]
          },
          "metadata": {
            "tags": []
          },
          "execution_count": 102
        }
      ]
    },
    {
      "cell_type": "code",
      "metadata": {
        "colab": {
          "base_uri": "https://localhost:8080/",
          "height": 490
        },
        "id": "lbeb_h1r7FTU",
        "outputId": "ad01b12a-bcb9-458e-852b-391ca1bab781"
      },
      "source": [
        "#fill the nan values with the spline interpolation\n",
        "data1 = data.interpolate(method = 'spline', order = 3)\n",
        "display(data1.isna().sum())"
      ],
      "execution_count": 103,
      "outputs": [
        {
          "output_type": "display_data",
          "data": {
            "text/plain": [
              "age                          0\n",
              "sex                          0\n",
              "on_thyroxine                 0\n",
              "query_on_thyroxine           0\n",
              "on_antithyroid_medication    0\n",
              "thyroid_surgery              0\n",
              "query_hypothyroid            0\n",
              "query_hyperthyroid           0\n",
              "pregnant                     0\n",
              "sick                         0\n",
              "tumor                        0\n",
              "lithium                      0\n",
              "goitre                       0\n",
              "TSH_measured                 0\n",
              "TSH                          0\n",
              "T3_measured                  0\n",
              "T3                           0\n",
              "TT4_measured                 0\n",
              "TT4                          0\n",
              "T4U_measured                 0\n",
              "T4U                          0\n",
              "FTI_measured                 0\n",
              "FTI                          0\n",
              "TBG_measured                 0\n",
              "sclass                       0\n",
              "dtype: int64"
            ]
          },
          "metadata": {
            "tags": []
          }
        }
      ]
    },
    {
      "cell_type": "code",
      "metadata": {
        "id": "PfMwVHAd7WBK"
      },
      "source": [
        "classifiers1 = {\n",
        "    \"XGBClassifier\" : XGBClassifier(learning_rate=0.01),\n",
        "    \"CatBoostClassifier\" : CatBoostClassifier(max_depth=4,verbose=0),\n",
        "    \"Nearest Neighbors\" : KNeighborsClassifier(4),\n",
        "    \"Decision Tree\" : DecisionTreeClassifier(class_weight = 'balanced'),\n",
        "    \"Random Forest\": RandomForestClassifier(class_weight = 'balanced',random_state = 1),\n",
        "    \"ExtraTrees\": ExtraTreesClassifier(class_weight = 'balanced',random_state = 1),\n",
        "    \"MLPClassifier\": MLPClassifier(hidden_layer_sizes=(256,128,64,32),activation=\"relu\",random_state=1),\n",
        "    \"Naive Bayes\" : GaussianNB(),\n",
        "    \"svc\": SVC()\n",
        "}"
      ],
      "execution_count": 104,
      "outputs": []
    },
    {
      "cell_type": "code",
      "metadata": {
        "colab": {
          "base_uri": "https://localhost:8080/",
          "height": 1000
        },
        "id": "hI5ZJZB27WHh",
        "outputId": "2d4c49b3-bead-4a56-9ff7-ece96671396e"
      },
      "source": [
        "corr_values = abs(data1[data1.columns[0:]].corr()['sclass'][:])\n",
        "corr_values = corr_values.drop('sclass')\n",
        "corr_values = corr_values[corr_values > 0.04]\n",
        "display(corr_values)\n",
        "\n",
        "X_train1, X_test1, y_train1, y_test1 = holdout(data1)\n",
        "\n",
        "display(classification(classifiers1,X_train1, X_test1, y_train1, y_test1))"
      ],
      "execution_count": 105,
      "outputs": [
        {
          "output_type": "display_data",
          "data": {
            "text/plain": [
              "age                   0.207201\n",
              "sex                   0.056356\n",
              "on_thyroxine          0.086556\n",
              "query_hyperthyroid    0.054124\n",
              "pregnant              0.045583\n",
              "sick                  0.193114\n",
              "TSH_measured          0.122650\n",
              "TSH                   0.048798\n",
              "T3_measured           0.166383\n",
              "T3                    0.384785\n",
              "TT4_measured          0.087734\n",
              "TT4                   0.122046\n",
              "T4U_measured          0.087517\n",
              "T4U                   0.220921\n",
              "FTI_measured          0.087300\n",
              "TBG_measured          0.090090\n",
              "Name: sclass, dtype: float64"
            ]
          },
          "metadata": {
            "tags": []
          }
        },
        {
          "output_type": "stream",
          "text": [
            "Confusion matrix for:  XGBClassifier\n"
          ],
          "name": "stdout"
        },
        {
          "output_type": "display_data",
          "data": {
            "text/plain": [
              "array([[817,  21],\n",
              "       [ 12,  90]])"
            ]
          },
          "metadata": {
            "tags": []
          }
        },
        {
          "output_type": "stream",
          "text": [
            "Confusion matrix for:  CatBoostClassifier\n"
          ],
          "name": "stdout"
        },
        {
          "output_type": "display_data",
          "data": {
            "text/plain": [
              "array([[824,  14],\n",
              "       [ 14,  88]])"
            ]
          },
          "metadata": {
            "tags": []
          }
        },
        {
          "output_type": "stream",
          "text": [
            "Confusion matrix for:  Nearest Neighbors\n"
          ],
          "name": "stdout"
        },
        {
          "output_type": "display_data",
          "data": {
            "text/plain": [
              "array([[826,  12],\n",
              "       [ 88,  14]])"
            ]
          },
          "metadata": {
            "tags": []
          }
        },
        {
          "output_type": "stream",
          "text": [
            "Confusion matrix for:  Decision Tree\n"
          ],
          "name": "stdout"
        },
        {
          "output_type": "display_data",
          "data": {
            "text/plain": [
              "array([[820,  18],\n",
              "       [ 19,  83]])"
            ]
          },
          "metadata": {
            "tags": []
          }
        },
        {
          "output_type": "stream",
          "text": [
            "Confusion matrix for:  Random Forest\n"
          ],
          "name": "stdout"
        },
        {
          "output_type": "display_data",
          "data": {
            "text/plain": [
              "array([[823,  15],\n",
              "       [ 12,  90]])"
            ]
          },
          "metadata": {
            "tags": []
          }
        },
        {
          "output_type": "stream",
          "text": [
            "Confusion matrix for:  ExtraTrees\n"
          ],
          "name": "stdout"
        },
        {
          "output_type": "display_data",
          "data": {
            "text/plain": [
              "array([[825,  13],\n",
              "       [ 27,  75]])"
            ]
          },
          "metadata": {
            "tags": []
          }
        },
        {
          "output_type": "stream",
          "text": [
            "Confusion matrix for:  MLPClassifier\n"
          ],
          "name": "stdout"
        },
        {
          "output_type": "display_data",
          "data": {
            "text/plain": [
              "array([[830,   8],\n",
              "       [ 45,  57]])"
            ]
          },
          "metadata": {
            "tags": []
          }
        },
        {
          "output_type": "stream",
          "text": [
            "Confusion matrix for:  Naive Bayes\n"
          ],
          "name": "stdout"
        },
        {
          "output_type": "display_data",
          "data": {
            "text/plain": [
              "array([[258, 580],\n",
              "       [  2, 100]])"
            ]
          },
          "metadata": {
            "tags": []
          }
        },
        {
          "output_type": "stream",
          "text": [
            "Confusion matrix for:  svc\n"
          ],
          "name": "stdout"
        },
        {
          "output_type": "stream",
          "text": [
            "/usr/local/lib/python3.7/dist-packages/sklearn/metrics/_classification.py:1272: UndefinedMetricWarning: Precision and F-score are ill-defined and being set to 0.0 in labels with no predicted samples. Use `zero_division` parameter to control this behavior.\n",
            "  _warn_prf(average, modifier, msg_start, len(result))\n"
          ],
          "name": "stderr"
        },
        {
          "output_type": "display_data",
          "data": {
            "text/plain": [
              "array([[838,   0],\n",
              "       [102,   0]])"
            ]
          },
          "metadata": {
            "tags": []
          }
        },
        {
          "output_type": "display_data",
          "data": {
            "text/html": [
              "<div>\n",
              "<style scoped>\n",
              "    .dataframe tbody tr th:only-of-type {\n",
              "        vertical-align: middle;\n",
              "    }\n",
              "\n",
              "    .dataframe tbody tr th {\n",
              "        vertical-align: top;\n",
              "    }\n",
              "\n",
              "    .dataframe thead th {\n",
              "        text-align: right;\n",
              "    }\n",
              "</style>\n",
              "<table border=\"1\" class=\"dataframe\">\n",
              "  <thead>\n",
              "    <tr style=\"text-align: right;\">\n",
              "      <th></th>\n",
              "      <th>Classifier</th>\n",
              "      <th>Accuracy</th>\n",
              "      <th>Precision</th>\n",
              "      <th>Recall</th>\n",
              "    </tr>\n",
              "    <tr>\n",
              "      <th>FScore</th>\n",
              "      <th></th>\n",
              "      <th></th>\n",
              "      <th></th>\n",
              "      <th></th>\n",
              "    </tr>\n",
              "  </thead>\n",
              "  <tbody>\n",
              "    <tr>\n",
              "      <th>0.9267</th>\n",
              "      <td>Random Forest</td>\n",
              "      <td>0.9713</td>\n",
              "      <td>0.9214</td>\n",
              "      <td>0.9322</td>\n",
              "    </tr>\n",
              "    <tr>\n",
              "      <th>0.9230</th>\n",
              "      <td>CatBoostClassifier</td>\n",
              "      <td>0.9702</td>\n",
              "      <td>0.9230</td>\n",
              "      <td>0.9230</td>\n",
              "    </tr>\n",
              "    <tr>\n",
              "      <th>0.9126</th>\n",
              "      <td>XGBClassifier</td>\n",
              "      <td>0.9649</td>\n",
              "      <td>0.8982</td>\n",
              "      <td>0.9286</td>\n",
              "    </tr>\n",
              "    <tr>\n",
              "      <th>0.8978</th>\n",
              "      <td>Decision Tree</td>\n",
              "      <td>0.9606</td>\n",
              "      <td>0.8996</td>\n",
              "      <td>0.8961</td>\n",
              "    </tr>\n",
              "    <tr>\n",
              "      <th>0.8829</th>\n",
              "      <td>ExtraTrees</td>\n",
              "      <td>0.9574</td>\n",
              "      <td>0.9103</td>\n",
              "      <td>0.8599</td>\n",
              "    </tr>\n",
              "    <tr>\n",
              "      <th>0.8258</th>\n",
              "      <td>MLPClassifier</td>\n",
              "      <td>0.9436</td>\n",
              "      <td>0.9127</td>\n",
              "      <td>0.7746</td>\n",
              "    </tr>\n",
              "    <tr>\n",
              "      <th>0.5808</th>\n",
              "      <td>Nearest Neighbors</td>\n",
              "      <td>0.8936</td>\n",
              "      <td>0.7211</td>\n",
              "      <td>0.5615</td>\n",
              "    </tr>\n",
              "    <tr>\n",
              "      <th>0.4713</th>\n",
              "      <td>svc</td>\n",
              "      <td>0.8915</td>\n",
              "      <td>0.4457</td>\n",
              "      <td>0.5000</td>\n",
              "    </tr>\n",
              "    <tr>\n",
              "      <th>0.3628</th>\n",
              "      <td>Naive Bayes</td>\n",
              "      <td>0.3809</td>\n",
              "      <td>0.5697</td>\n",
              "      <td>0.6441</td>\n",
              "    </tr>\n",
              "  </tbody>\n",
              "</table>\n",
              "</div>"
            ],
            "text/plain": [
              "                Classifier  Accuracy  Precision  Recall\n",
              "FScore                                                 \n",
              "0.9267       Random Forest    0.9713     0.9214  0.9322\n",
              "0.9230  CatBoostClassifier    0.9702     0.9230  0.9230\n",
              "0.9126       XGBClassifier    0.9649     0.8982  0.9286\n",
              "0.8978       Decision Tree    0.9606     0.8996  0.8961\n",
              "0.8829          ExtraTrees    0.9574     0.9103  0.8599\n",
              "0.8258       MLPClassifier    0.9436     0.9127  0.7746\n",
              "0.5808   Nearest Neighbors    0.8936     0.7211  0.5615\n",
              "0.4713                 svc    0.8915     0.4457  0.5000\n",
              "0.3628         Naive Bayes    0.3809     0.5697  0.6441"
            ]
          },
          "metadata": {
            "tags": []
          }
        }
      ]
    },
    {
      "cell_type": "code",
      "metadata": {
        "id": "nVfwNFH37kjT"
      },
      "source": [
        "def fdiscretizer(attribute,dataframe):\n",
        "    enc = LabelEncoder()\n",
        "    dataframe[attribute] = pd.qcut(dataframe[attribute], 20, duplicates='drop')\n",
        "    dataframe[attribute] = enc.fit_transform(dataframe[attribute])\n",
        "    dataframe = dataframe.convert_dtypes(convert_integer=True)\n",
        "\n",
        "data2 = data1.copy()\n",
        "fdiscretizer('age',data2)\n",
        "fdiscretizer('TSH',data2)\n",
        "fdiscretizer('T3',data2)\n",
        "fdiscretizer('TT4',data2)\n",
        "fdiscretizer('T4U',data2)\n",
        "fdiscretizer('FTI',data2)"
      ],
      "execution_count": 106,
      "outputs": []
    },
    {
      "cell_type": "code",
      "metadata": {
        "colab": {
          "base_uri": "https://localhost:8080/",
          "height": 1000
        },
        "id": "Gvvio3tl7xxF",
        "outputId": "0d7be640-5f7c-4623-f820-20befe1944c4"
      },
      "source": [
        "corr_values = abs(data2[data2.columns[0:]].corr()['sclass'][:])\n",
        "corr_values = corr_values.drop('sclass')\n",
        "corr_values = corr_values[corr_values > 0.04]\n",
        "display(corr_values)\n",
        "\n",
        "X_train2, X_test2, y_train2, y_test2 = holdout(data2)\n",
        "\n",
        "display(classification(classifiers1,X_train2, X_test2, y_train2, y_test2))"
      ],
      "execution_count": 107,
      "outputs": [
        {
          "output_type": "display_data",
          "data": {
            "text/plain": [
              "age                   0.214409\n",
              "sex                   0.056356\n",
              "on_thyroxine          0.086556\n",
              "query_hyperthyroid    0.054124\n",
              "pregnant              0.045583\n",
              "sick                  0.193114\n",
              "TSH_measured          0.122650\n",
              "TSH                   0.043223\n",
              "T3_measured           0.166383\n",
              "T3                    0.430476\n",
              "TT4_measured          0.087734\n",
              "TT4                   0.153040\n",
              "T4U_measured          0.087517\n",
              "T4U                   0.264219\n",
              "FTI_measured          0.087300\n",
              "TBG_measured          0.090090\n",
              "Name: sclass, dtype: float64"
            ]
          },
          "metadata": {
            "tags": []
          }
        },
        {
          "output_type": "stream",
          "text": [
            "Confusion matrix for:  XGBClassifier\n"
          ],
          "name": "stdout"
        },
        {
          "output_type": "display_data",
          "data": {
            "text/plain": [
              "array([[824,  14],\n",
              "       [ 28,  74]])"
            ]
          },
          "metadata": {
            "tags": []
          }
        },
        {
          "output_type": "stream",
          "text": [
            "Confusion matrix for:  CatBoostClassifier\n"
          ],
          "name": "stdout"
        },
        {
          "output_type": "display_data",
          "data": {
            "text/plain": [
              "array([[821,  17],\n",
              "       [ 26,  76]])"
            ]
          },
          "metadata": {
            "tags": []
          }
        },
        {
          "output_type": "stream",
          "text": [
            "Confusion matrix for:  Nearest Neighbors\n"
          ],
          "name": "stdout"
        },
        {
          "output_type": "display_data",
          "data": {
            "text/plain": [
              "array([[828,  10],\n",
              "       [ 51,  51]])"
            ]
          },
          "metadata": {
            "tags": []
          }
        },
        {
          "output_type": "stream",
          "text": [
            "Confusion matrix for:  Decision Tree\n"
          ],
          "name": "stdout"
        },
        {
          "output_type": "display_data",
          "data": {
            "text/plain": [
              "array([[812,  26],\n",
              "       [ 25,  77]])"
            ]
          },
          "metadata": {
            "tags": []
          }
        },
        {
          "output_type": "stream",
          "text": [
            "Confusion matrix for:  Random Forest\n"
          ],
          "name": "stdout"
        },
        {
          "output_type": "display_data",
          "data": {
            "text/plain": [
              "array([[822,  16],\n",
              "       [ 28,  74]])"
            ]
          },
          "metadata": {
            "tags": []
          }
        },
        {
          "output_type": "stream",
          "text": [
            "Confusion matrix for:  ExtraTrees\n"
          ],
          "name": "stdout"
        },
        {
          "output_type": "display_data",
          "data": {
            "text/plain": [
              "array([[825,  13],\n",
              "       [ 34,  68]])"
            ]
          },
          "metadata": {
            "tags": []
          }
        },
        {
          "output_type": "stream",
          "text": [
            "Confusion matrix for:  MLPClassifier\n"
          ],
          "name": "stdout"
        },
        {
          "output_type": "display_data",
          "data": {
            "text/plain": [
              "array([[827,  11],\n",
              "       [ 38,  64]])"
            ]
          },
          "metadata": {
            "tags": []
          }
        },
        {
          "output_type": "stream",
          "text": [
            "Confusion matrix for:  Naive Bayes\n"
          ],
          "name": "stdout"
        },
        {
          "output_type": "display_data",
          "data": {
            "text/plain": [
              "array([[226, 612],\n",
              "       [  2, 100]])"
            ]
          },
          "metadata": {
            "tags": []
          }
        },
        {
          "output_type": "stream",
          "text": [
            "Confusion matrix for:  svc\n"
          ],
          "name": "stdout"
        },
        {
          "output_type": "display_data",
          "data": {
            "text/plain": [
              "array([[824,  14],\n",
              "       [ 44,  58]])"
            ]
          },
          "metadata": {
            "tags": []
          }
        },
        {
          "output_type": "display_data",
          "data": {
            "text/html": [
              "<div>\n",
              "<style scoped>\n",
              "    .dataframe tbody tr th:only-of-type {\n",
              "        vertical-align: middle;\n",
              "    }\n",
              "\n",
              "    .dataframe tbody tr th {\n",
              "        vertical-align: top;\n",
              "    }\n",
              "\n",
              "    .dataframe thead th {\n",
              "        text-align: right;\n",
              "    }\n",
              "</style>\n",
              "<table border=\"1\" class=\"dataframe\">\n",
              "  <thead>\n",
              "    <tr style=\"text-align: right;\">\n",
              "      <th></th>\n",
              "      <th>Classifier</th>\n",
              "      <th>Accuracy</th>\n",
              "      <th>Precision</th>\n",
              "      <th>Recall</th>\n",
              "    </tr>\n",
              "    <tr>\n",
              "      <th>FScore</th>\n",
              "      <th></th>\n",
              "      <th></th>\n",
              "      <th></th>\n",
              "      <th></th>\n",
              "    </tr>\n",
              "  </thead>\n",
              "  <tbody>\n",
              "    <tr>\n",
              "      <th>0.8770</th>\n",
              "      <td>XGBClassifier</td>\n",
              "      <td>0.9553</td>\n",
              "      <td>0.9040</td>\n",
              "      <td>0.8544</td>\n",
              "    </tr>\n",
              "    <tr>\n",
              "      <th>0.8770</th>\n",
              "      <td>CatBoostClassifier</td>\n",
              "      <td>0.9543</td>\n",
              "      <td>0.8933</td>\n",
              "      <td>0.8624</td>\n",
              "    </tr>\n",
              "    <tr>\n",
              "      <th>0.8724</th>\n",
              "      <td>Random Forest</td>\n",
              "      <td>0.9532</td>\n",
              "      <td>0.8946</td>\n",
              "      <td>0.8532</td>\n",
              "    </tr>\n",
              "    <tr>\n",
              "      <th>0.8604</th>\n",
              "      <td>Decision Tree</td>\n",
              "      <td>0.9457</td>\n",
              "      <td>0.8589</td>\n",
              "      <td>0.8619</td>\n",
              "    </tr>\n",
              "    <tr>\n",
              "      <th>0.8577</th>\n",
              "      <td>ExtraTrees</td>\n",
              "      <td>0.9500</td>\n",
              "      <td>0.9000</td>\n",
              "      <td>0.8256</td>\n",
              "    </tr>\n",
              "    <tr>\n",
              "      <th>0.8472</th>\n",
              "      <td>MLPClassifier</td>\n",
              "      <td>0.9479</td>\n",
              "      <td>0.9047</td>\n",
              "      <td>0.8072</td>\n",
              "    </tr>\n",
              "    <tr>\n",
              "      <th>0.8163</th>\n",
              "      <td>svc</td>\n",
              "      <td>0.9383</td>\n",
              "      <td>0.8774</td>\n",
              "      <td>0.7760</td>\n",
              "    </tr>\n",
              "    <tr>\n",
              "      <th>0.7951</th>\n",
              "      <td>Nearest Neighbors</td>\n",
              "      <td>0.9351</td>\n",
              "      <td>0.8890</td>\n",
              "      <td>0.7440</td>\n",
              "    </tr>\n",
              "    <tr>\n",
              "      <th>0.3349</th>\n",
              "      <td>Naive Bayes</td>\n",
              "      <td>0.3468</td>\n",
              "      <td>0.5658</td>\n",
              "      <td>0.6250</td>\n",
              "    </tr>\n",
              "  </tbody>\n",
              "</table>\n",
              "</div>"
            ],
            "text/plain": [
              "                Classifier  Accuracy  Precision  Recall\n",
              "FScore                                                 \n",
              "0.8770       XGBClassifier    0.9553     0.9040  0.8544\n",
              "0.8770  CatBoostClassifier    0.9543     0.8933  0.8624\n",
              "0.8724       Random Forest    0.9532     0.8946  0.8532\n",
              "0.8604       Decision Tree    0.9457     0.8589  0.8619\n",
              "0.8577          ExtraTrees    0.9500     0.9000  0.8256\n",
              "0.8472       MLPClassifier    0.9479     0.9047  0.8072\n",
              "0.8163                 svc    0.9383     0.8774  0.7760\n",
              "0.7951   Nearest Neighbors    0.9351     0.8890  0.7440\n",
              "0.3349         Naive Bayes    0.3468     0.5658  0.6250"
            ]
          },
          "metadata": {
            "tags": []
          }
        }
      ]
    },
    {
      "cell_type": "code",
      "metadata": {
        "colab": {
          "base_uri": "https://localhost:8080/",
          "height": 1000
        },
        "id": "yWxsjjQn7_FX",
        "outputId": "9220e9d1-6d0e-491f-e94c-9eaf86255c9a"
      },
      "source": [
        "data3 = ((data1-data1.min())/(data1.max()-data1.min()))*20\n",
        "\n",
        "corr_values = abs(data3[data3.columns[0:]].corr()['sclass'][:])\n",
        "corr_values = corr_values.drop('sclass')\n",
        "corr_values = corr_values[corr_values > 0.04]\n",
        "display(corr_values)\n",
        "\n",
        "X_train3, X_test3, y_train3, y_test3 = holdout(data3)\n",
        "\n",
        "display(classification(classifiers1,X_train3, X_test3, y_train3, y_test3))"
      ],
      "execution_count": 108,
      "outputs": [
        {
          "output_type": "display_data",
          "data": {
            "text/plain": [
              "age                   0.207201\n",
              "sex                   0.056356\n",
              "on_thyroxine          0.086556\n",
              "query_hyperthyroid    0.054124\n",
              "pregnant              0.045583\n",
              "sick                  0.193114\n",
              "TSH_measured          0.122650\n",
              "TSH                   0.048798\n",
              "T3_measured           0.166383\n",
              "T3                    0.384785\n",
              "TT4_measured          0.087734\n",
              "TT4                   0.122046\n",
              "T4U_measured          0.087517\n",
              "T4U                   0.220921\n",
              "FTI_measured          0.087300\n",
              "TBG_measured          0.090090\n",
              "Name: sclass, dtype: float64"
            ]
          },
          "metadata": {
            "tags": []
          }
        },
        {
          "output_type": "stream",
          "text": [
            "Confusion matrix for:  XGBClassifier\n"
          ],
          "name": "stdout"
        },
        {
          "output_type": "display_data",
          "data": {
            "text/plain": [
              "array([[817,  21],\n",
              "       [ 12,  90]])"
            ]
          },
          "metadata": {
            "tags": []
          }
        },
        {
          "output_type": "stream",
          "text": [
            "Confusion matrix for:  CatBoostClassifier\n"
          ],
          "name": "stdout"
        },
        {
          "output_type": "display_data",
          "data": {
            "text/plain": [
              "array([[824,  14],\n",
              "       [ 14,  88]])"
            ]
          },
          "metadata": {
            "tags": []
          }
        },
        {
          "output_type": "stream",
          "text": [
            "Confusion matrix for:  Nearest Neighbors\n"
          ],
          "name": "stdout"
        },
        {
          "output_type": "display_data",
          "data": {
            "text/plain": [
              "array([[830,   8],\n",
              "       [ 64,  38]])"
            ]
          },
          "metadata": {
            "tags": []
          }
        },
        {
          "output_type": "stream",
          "text": [
            "Confusion matrix for:  Decision Tree\n"
          ],
          "name": "stdout"
        },
        {
          "output_type": "display_data",
          "data": {
            "text/plain": [
              "array([[819,  19],\n",
              "       [ 19,  83]])"
            ]
          },
          "metadata": {
            "tags": []
          }
        },
        {
          "output_type": "stream",
          "text": [
            "Confusion matrix for:  Random Forest\n"
          ],
          "name": "stdout"
        },
        {
          "output_type": "display_data",
          "data": {
            "text/plain": [
              "array([[823,  15],\n",
              "       [ 12,  90]])"
            ]
          },
          "metadata": {
            "tags": []
          }
        },
        {
          "output_type": "stream",
          "text": [
            "Confusion matrix for:  ExtraTrees\n"
          ],
          "name": "stdout"
        },
        {
          "output_type": "display_data",
          "data": {
            "text/plain": [
              "array([[825,  13],\n",
              "       [ 27,  75]])"
            ]
          },
          "metadata": {
            "tags": []
          }
        },
        {
          "output_type": "stream",
          "text": [
            "Confusion matrix for:  MLPClassifier\n"
          ],
          "name": "stdout"
        },
        {
          "output_type": "display_data",
          "data": {
            "text/plain": [
              "array([[813,  25],\n",
              "       [ 19,  83]])"
            ]
          },
          "metadata": {
            "tags": []
          }
        },
        {
          "output_type": "stream",
          "text": [
            "Confusion matrix for:  Naive Bayes\n"
          ],
          "name": "stdout"
        },
        {
          "output_type": "display_data",
          "data": {
            "text/plain": [
              "array([[242, 596],\n",
              "       [  2, 100]])"
            ]
          },
          "metadata": {
            "tags": []
          }
        },
        {
          "output_type": "stream",
          "text": [
            "Confusion matrix for:  svc\n"
          ],
          "name": "stdout"
        },
        {
          "output_type": "stream",
          "text": [
            "/usr/local/lib/python3.7/dist-packages/sklearn/metrics/_classification.py:1272: UndefinedMetricWarning: Precision and F-score are ill-defined and being set to 0.0 in labels with no predicted samples. Use `zero_division` parameter to control this behavior.\n",
            "  _warn_prf(average, modifier, msg_start, len(result))\n"
          ],
          "name": "stderr"
        },
        {
          "output_type": "display_data",
          "data": {
            "text/plain": [
              "array([[838,   0],\n",
              "       [102,   0]])"
            ]
          },
          "metadata": {
            "tags": []
          }
        },
        {
          "output_type": "display_data",
          "data": {
            "text/html": [
              "<div>\n",
              "<style scoped>\n",
              "    .dataframe tbody tr th:only-of-type {\n",
              "        vertical-align: middle;\n",
              "    }\n",
              "\n",
              "    .dataframe tbody tr th {\n",
              "        vertical-align: top;\n",
              "    }\n",
              "\n",
              "    .dataframe thead th {\n",
              "        text-align: right;\n",
              "    }\n",
              "</style>\n",
              "<table border=\"1\" class=\"dataframe\">\n",
              "  <thead>\n",
              "    <tr style=\"text-align: right;\">\n",
              "      <th></th>\n",
              "      <th>Classifier</th>\n",
              "      <th>Accuracy</th>\n",
              "      <th>Precision</th>\n",
              "      <th>Recall</th>\n",
              "    </tr>\n",
              "    <tr>\n",
              "      <th>FScore</th>\n",
              "      <th></th>\n",
              "      <th></th>\n",
              "      <th></th>\n",
              "      <th></th>\n",
              "    </tr>\n",
              "  </thead>\n",
              "  <tbody>\n",
              "    <tr>\n",
              "      <th>0.9267</th>\n",
              "      <td>Random Forest</td>\n",
              "      <td>0.9713</td>\n",
              "      <td>0.9214</td>\n",
              "      <td>0.9322</td>\n",
              "    </tr>\n",
              "    <tr>\n",
              "      <th>0.9230</th>\n",
              "      <td>CatBoostClassifier</td>\n",
              "      <td>0.9702</td>\n",
              "      <td>0.9230</td>\n",
              "      <td>0.9230</td>\n",
              "    </tr>\n",
              "    <tr>\n",
              "      <th>0.9126</th>\n",
              "      <td>XGBClassifier</td>\n",
              "      <td>0.9649</td>\n",
              "      <td>0.8982</td>\n",
              "      <td>0.9286</td>\n",
              "    </tr>\n",
              "    <tr>\n",
              "      <th>0.8955</th>\n",
              "      <td>Decision Tree</td>\n",
              "      <td>0.9596</td>\n",
              "      <td>0.8955</td>\n",
              "      <td>0.8955</td>\n",
              "    </tr>\n",
              "    <tr>\n",
              "      <th>0.8829</th>\n",
              "      <td>ExtraTrees</td>\n",
              "      <td>0.9574</td>\n",
              "      <td>0.9103</td>\n",
              "      <td>0.8599</td>\n",
              "    </tr>\n",
              "    <tr>\n",
              "      <th>0.8821</th>\n",
              "      <td>MLPClassifier</td>\n",
              "      <td>0.9532</td>\n",
              "      <td>0.8728</td>\n",
              "      <td>0.8919</td>\n",
              "    </tr>\n",
              "    <tr>\n",
              "      <th>0.7360</th>\n",
              "      <td>Nearest Neighbors</td>\n",
              "      <td>0.9234</td>\n",
              "      <td>0.8772</td>\n",
              "      <td>0.6815</td>\n",
              "    </tr>\n",
              "    <tr>\n",
              "      <th>0.4713</th>\n",
              "      <td>svc</td>\n",
              "      <td>0.8915</td>\n",
              "      <td>0.4457</td>\n",
              "      <td>0.5000</td>\n",
              "    </tr>\n",
              "    <tr>\n",
              "      <th>0.3490</th>\n",
              "      <td>Naive Bayes</td>\n",
              "      <td>0.3638</td>\n",
              "      <td>0.5677</td>\n",
              "      <td>0.6346</td>\n",
              "    </tr>\n",
              "  </tbody>\n",
              "</table>\n",
              "</div>"
            ],
            "text/plain": [
              "                Classifier  Accuracy  Precision  Recall\n",
              "FScore                                                 \n",
              "0.9267       Random Forest    0.9713     0.9214  0.9322\n",
              "0.9230  CatBoostClassifier    0.9702     0.9230  0.9230\n",
              "0.9126       XGBClassifier    0.9649     0.8982  0.9286\n",
              "0.8955       Decision Tree    0.9596     0.8955  0.8955\n",
              "0.8829          ExtraTrees    0.9574     0.9103  0.8599\n",
              "0.8821       MLPClassifier    0.9532     0.8728  0.8919\n",
              "0.7360   Nearest Neighbors    0.9234     0.8772  0.6815\n",
              "0.4713                 svc    0.8915     0.4457  0.5000\n",
              "0.3490         Naive Bayes    0.3638     0.5677  0.6346"
            ]
          },
          "metadata": {
            "tags": []
          }
        }
      ]
    },
    {
      "cell_type": "code",
      "metadata": {
        "colab": {
          "base_uri": "https://localhost:8080/",
          "height": 982
        },
        "id": "Onhn6h0B9Hun",
        "outputId": "ca0566e4-aaa7-429a-c4b1-83d51b8c2f63"
      },
      "source": [
        "smote = SMOTE('not majority',random_state = 1)\n",
        "X_train_sm, y_train_sm = smote.fit_sample(X_train3,y_train3)\n",
        "X_test_sm, y_test_sm = smote.fit_sample(X_test3,y_test3)\n",
        "display(X_train3.shape)\n",
        "display(X_train_sm.shape)\n",
        "display(classification(classifiers1,X_train_sm, X_test_sm, y_train_sm, y_test_sm))"
      ],
      "execution_count": 109,
      "outputs": [
        {
          "output_type": "stream",
          "text": [
            "/usr/local/lib/python3.7/dist-packages/sklearn/utils/deprecation.py:87: FutureWarning: Function safe_indexing is deprecated; safe_indexing is deprecated in version 0.22 and will be removed in version 0.24.\n",
            "  warnings.warn(msg, category=FutureWarning)\n",
            "/usr/local/lib/python3.7/dist-packages/sklearn/utils/deprecation.py:87: FutureWarning: Function safe_indexing is deprecated; safe_indexing is deprecated in version 0.22 and will be removed in version 0.24.\n",
            "  warnings.warn(msg, category=FutureWarning)\n"
          ],
          "name": "stderr"
        },
        {
          "output_type": "display_data",
          "data": {
            "text/plain": [
              "(2191, 16)"
            ]
          },
          "metadata": {
            "tags": []
          }
        },
        {
          "output_type": "display_data",
          "data": {
            "text/plain": [
              "(4002, 16)"
            ]
          },
          "metadata": {
            "tags": []
          }
        },
        {
          "output_type": "stream",
          "text": [
            "Confusion matrix for:  XGBClassifier\n"
          ],
          "name": "stdout"
        },
        {
          "output_type": "display_data",
          "data": {
            "text/plain": [
              "array([[804,  34],\n",
              "       [ 66, 772]])"
            ]
          },
          "metadata": {
            "tags": []
          }
        },
        {
          "output_type": "stream",
          "text": [
            "Confusion matrix for:  CatBoostClassifier\n"
          ],
          "name": "stdout"
        },
        {
          "output_type": "display_data",
          "data": {
            "text/plain": [
              "array([[812,  26],\n",
              "       [ 53, 785]])"
            ]
          },
          "metadata": {
            "tags": []
          }
        },
        {
          "output_type": "stream",
          "text": [
            "Confusion matrix for:  Nearest Neighbors\n"
          ],
          "name": "stdout"
        },
        {
          "output_type": "display_data",
          "data": {
            "text/plain": [
              "array([[781,  57],\n",
              "       [142, 696]])"
            ]
          },
          "metadata": {
            "tags": []
          }
        },
        {
          "output_type": "stream",
          "text": [
            "Confusion matrix for:  Decision Tree\n"
          ],
          "name": "stdout"
        },
        {
          "output_type": "display_data",
          "data": {
            "text/plain": [
              "array([[805,  33],\n",
              "       [ 69, 769]])"
            ]
          },
          "metadata": {
            "tags": []
          }
        },
        {
          "output_type": "stream",
          "text": [
            "Confusion matrix for:  Random Forest\n"
          ],
          "name": "stdout"
        },
        {
          "output_type": "display_data",
          "data": {
            "text/plain": [
              "array([[815,  23],\n",
              "       [ 55, 783]])"
            ]
          },
          "metadata": {
            "tags": []
          }
        },
        {
          "output_type": "stream",
          "text": [
            "Confusion matrix for:  ExtraTrees\n"
          ],
          "name": "stdout"
        },
        {
          "output_type": "display_data",
          "data": {
            "text/plain": [
              "array([[813,  25],\n",
              "       [105, 733]])"
            ]
          },
          "metadata": {
            "tags": []
          }
        },
        {
          "output_type": "stream",
          "text": [
            "Confusion matrix for:  MLPClassifier\n"
          ],
          "name": "stdout"
        },
        {
          "output_type": "display_data",
          "data": {
            "text/plain": [
              "array([[768,  70],\n",
              "       [ 78, 760]])"
            ]
          },
          "metadata": {
            "tags": []
          }
        },
        {
          "output_type": "stream",
          "text": [
            "Confusion matrix for:  Naive Bayes\n"
          ],
          "name": "stdout"
        },
        {
          "output_type": "display_data",
          "data": {
            "text/plain": [
              "array([[253, 585],\n",
              "       [ 15, 823]])"
            ]
          },
          "metadata": {
            "tags": []
          }
        },
        {
          "output_type": "stream",
          "text": [
            "Confusion matrix for:  svc\n"
          ],
          "name": "stdout"
        },
        {
          "output_type": "display_data",
          "data": {
            "text/plain": [
              "array([[725, 113],\n",
              "       [ 66, 772]])"
            ]
          },
          "metadata": {
            "tags": []
          }
        },
        {
          "output_type": "display_data",
          "data": {
            "text/html": [
              "<div>\n",
              "<style scoped>\n",
              "    .dataframe tbody tr th:only-of-type {\n",
              "        vertical-align: middle;\n",
              "    }\n",
              "\n",
              "    .dataframe tbody tr th {\n",
              "        vertical-align: top;\n",
              "    }\n",
              "\n",
              "    .dataframe thead th {\n",
              "        text-align: right;\n",
              "    }\n",
              "</style>\n",
              "<table border=\"1\" class=\"dataframe\">\n",
              "  <thead>\n",
              "    <tr style=\"text-align: right;\">\n",
              "      <th></th>\n",
              "      <th>Classifier</th>\n",
              "      <th>Accuracy</th>\n",
              "      <th>Precision</th>\n",
              "      <th>Recall</th>\n",
              "    </tr>\n",
              "    <tr>\n",
              "      <th>FScore</th>\n",
              "      <th></th>\n",
              "      <th></th>\n",
              "      <th></th>\n",
              "      <th></th>\n",
              "    </tr>\n",
              "  </thead>\n",
              "  <tbody>\n",
              "    <tr>\n",
              "      <th>0.9534</th>\n",
              "      <td>Random Forest</td>\n",
              "      <td>0.9535</td>\n",
              "      <td>0.9541</td>\n",
              "      <td>0.9535</td>\n",
              "    </tr>\n",
              "    <tr>\n",
              "      <th>0.9529</th>\n",
              "      <td>CatBoostClassifier</td>\n",
              "      <td>0.9529</td>\n",
              "      <td>0.9533</td>\n",
              "      <td>0.9529</td>\n",
              "    </tr>\n",
              "    <tr>\n",
              "      <th>0.9403</th>\n",
              "      <td>XGBClassifier</td>\n",
              "      <td>0.9403</td>\n",
              "      <td>0.9410</td>\n",
              "      <td>0.9403</td>\n",
              "    </tr>\n",
              "    <tr>\n",
              "      <th>0.9391</th>\n",
              "      <td>Decision Tree</td>\n",
              "      <td>0.9391</td>\n",
              "      <td>0.9400</td>\n",
              "      <td>0.9391</td>\n",
              "    </tr>\n",
              "    <tr>\n",
              "      <th>0.9223</th>\n",
              "      <td>ExtraTrees</td>\n",
              "      <td>0.9224</td>\n",
              "      <td>0.9263</td>\n",
              "      <td>0.9224</td>\n",
              "    </tr>\n",
              "    <tr>\n",
              "      <th>0.9117</th>\n",
              "      <td>MLPClassifier</td>\n",
              "      <td>0.9117</td>\n",
              "      <td>0.9117</td>\n",
              "      <td>0.9117</td>\n",
              "    </tr>\n",
              "    <tr>\n",
              "      <th>0.8931</th>\n",
              "      <td>svc</td>\n",
              "      <td>0.8932</td>\n",
              "      <td>0.8944</td>\n",
              "      <td>0.8932</td>\n",
              "    </tr>\n",
              "    <tr>\n",
              "      <th>0.8810</th>\n",
              "      <td>Nearest Neighbors</td>\n",
              "      <td>0.8813</td>\n",
              "      <td>0.8852</td>\n",
              "      <td>0.8813</td>\n",
              "    </tr>\n",
              "    <tr>\n",
              "      <th>0.5952</th>\n",
              "      <td>Naive Bayes</td>\n",
              "      <td>0.6420</td>\n",
              "      <td>0.7643</td>\n",
              "      <td>0.6420</td>\n",
              "    </tr>\n",
              "  </tbody>\n",
              "</table>\n",
              "</div>"
            ],
            "text/plain": [
              "                Classifier  Accuracy  Precision  Recall\n",
              "FScore                                                 \n",
              "0.9534       Random Forest    0.9535     0.9541  0.9535\n",
              "0.9529  CatBoostClassifier    0.9529     0.9533  0.9529\n",
              "0.9403       XGBClassifier    0.9403     0.9410  0.9403\n",
              "0.9391       Decision Tree    0.9391     0.9400  0.9391\n",
              "0.9223          ExtraTrees    0.9224     0.9263  0.9224\n",
              "0.9117       MLPClassifier    0.9117     0.9117  0.9117\n",
              "0.8931                 svc    0.8932     0.8944  0.8932\n",
              "0.8810   Nearest Neighbors    0.8813     0.8852  0.8813\n",
              "0.5952         Naive Bayes    0.6420     0.7643  0.6420"
            ]
          },
          "metadata": {
            "tags": []
          }
        }
      ]
    },
    {
      "cell_type": "code",
      "metadata": {
        "colab": {
          "base_uri": "https://localhost:8080/",
          "height": 231
        },
        "id": "slxCyeINNw8u",
        "outputId": "a729cb2d-2636-46e7-8662-78a1adcc000b"
      },
      "source": [
        ""
      ],
      "execution_count": 111,
      "outputs": [
        {
          "output_type": "error",
          "ename": "NameError",
          "evalue": "ignored",
          "traceback": [
            "\u001b[0;31m---------------------------------------------------------------------------\u001b[0m",
            "\u001b[0;31mNameError\u001b[0m                                 Traceback (most recent call last)",
            "\u001b[0;32m<ipython-input-111-90786a481f30>\u001b[0m in \u001b[0;36m<module>\u001b[0;34m()\u001b[0m\n\u001b[0;32m----> 1\u001b[0;31m \u001b[0my_pred_prob\u001b[0m \u001b[0;34m=\u001b[0m \u001b[0;34m(\u001b[0m\u001b[0mx_test\u001b[0m\u001b[0;34m)\u001b[0m\u001b[0;34m[\u001b[0m\u001b[0;34m:\u001b[0m\u001b[0;34m,\u001b[0m\u001b[0;36m1\u001b[0m\u001b[0;34m]\u001b[0m\u001b[0;34m\u001b[0m\u001b[0;34m\u001b[0m\u001b[0m\n\u001b[0m\u001b[1;32m      2\u001b[0m \u001b[0mfpr\u001b[0m\u001b[0;34m,\u001b[0m \u001b[0mtpr\u001b[0m\u001b[0;34m,\u001b[0m \u001b[0mthresholds\u001b[0m \u001b[0;34m=\u001b[0m \u001b[0mroc_curve\u001b[0m\u001b[0;34m(\u001b[0m\u001b[0my_test\u001b[0m\u001b[0;34m,\u001b[0m \u001b[0my_pred_prob\u001b[0m\u001b[0;34m)\u001b[0m\u001b[0;34m\u001b[0m\u001b[0;34m\u001b[0m\u001b[0m\n\u001b[1;32m      3\u001b[0m \u001b[0;31m# Plot ROC curve\u001b[0m\u001b[0;34m\u001b[0m\u001b[0;34m\u001b[0m\u001b[0;34m\u001b[0m\u001b[0m\n\u001b[1;32m      4\u001b[0m \u001b[0mplt\u001b[0m\u001b[0;34m.\u001b[0m\u001b[0mplot\u001b[0m\u001b[0;34m(\u001b[0m\u001b[0;34m[\u001b[0m\u001b[0;36m0\u001b[0m\u001b[0;34m,\u001b[0m \u001b[0;36m1\u001b[0m\u001b[0;34m]\u001b[0m\u001b[0;34m,\u001b[0m \u001b[0;34m[\u001b[0m\u001b[0;36m0\u001b[0m\u001b[0;34m,\u001b[0m \u001b[0;36m1\u001b[0m\u001b[0;34m]\u001b[0m\u001b[0;34m,\u001b[0m \u001b[0;34m'k--'\u001b[0m\u001b[0;34m)\u001b[0m\u001b[0;34m\u001b[0m\u001b[0;34m\u001b[0m\u001b[0m\n\u001b[1;32m      5\u001b[0m \u001b[0mplt\u001b[0m\u001b[0;34m.\u001b[0m\u001b[0mplot\u001b[0m\u001b[0;34m(\u001b[0m\u001b[0mfpr\u001b[0m\u001b[0;34m,\u001b[0m \u001b[0mtpr\u001b[0m\u001b[0;34m)\u001b[0m\u001b[0;34m\u001b[0m\u001b[0;34m\u001b[0m\u001b[0m\n",
            "\u001b[0;31mNameError\u001b[0m: name 'x_test' is not defined"
          ]
        }
      ]
    },
    {
      "cell_type": "code",
      "metadata": {
        "id": "n6B5nXvMNxCU"
      },
      "source": [
        ""
      ],
      "execution_count": null,
      "outputs": []
    }
  ]
}