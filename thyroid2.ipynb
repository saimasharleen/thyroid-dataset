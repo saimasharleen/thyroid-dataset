{
  "nbformat": 4,
  "nbformat_minor": 0,
  "metadata": {
    "colab": {
      "name": "thyroid2.ipynb",
      "provenance": [],
      "collapsed_sections": [],
      "include_colab_link": true
    },
    "kernelspec": {
      "name": "python3",
      "display_name": "Python 3"
    },
    "language_info": {
      "name": "python"
    }
  },
  "cells": [
    {
      "cell_type": "markdown",
      "metadata": {
        "id": "view-in-github",
        "colab_type": "text"
      },
      "source": [
        "<a href=\"https://colab.research.google.com/github/saimasharleen/thyroid-dataset/blob/main/thyroid2.ipynb\" target=\"_parent\"><img src=\"https://colab.research.google.com/assets/colab-badge.svg\" alt=\"Open In Colab\"/></a>"
      ]
    },
    {
      "cell_type": "code",
      "metadata": {
        "id": "d3iTtUXp7lYp",
        "colab": {
          "base_uri": "https://localhost:8080/"
        },
        "outputId": "5cf89d00-0950-45e4-9979-3fddb3b12467"
      },
      "source": [
        "#connecting Google Drive with Colab\n",
        "from google.colab import drive\n",
        "drive.mount(\"/content/gdrive\")"
      ],
      "execution_count": null,
      "outputs": [
        {
          "output_type": "stream",
          "text": [
            "Drive already mounted at /content/gdrive; to attempt to forcibly remount, call drive.mount(\"/content/gdrive\", force_remount=True).\n"
          ],
          "name": "stdout"
        }
      ]
    },
    {
      "cell_type": "code",
      "metadata": {
        "id": "Fnf-d6-c702B"
      },
      "source": [
        "import pandas as pd\n",
        "data = pd.read_csv('/content/gdrive/My Drive/Thyroid cancer/dataset/sick-euthyroid.data')"
      ],
      "execution_count": null,
      "outputs": []
    },
    {
      "cell_type": "code",
      "metadata": {
        "id": "RZEM-yi971Do"
      },
      "source": [
        "#adding the columns name\n",
        "data.columns = ['sclass','age', 'sex', 'on_thyroxine', 'query_on_thyroxine', 'on_antithyroid_medication', 'thyroid_surgery', 'query_hypothyroid', 'query_hyperthyroid',\n",
        "'pregnant', 'sick', 'tumor', 'lithium', 'goitre', 'TSH_measured', 'TSH', 'T3_measured', 'T3', 'TT4_measured', 'TT4', 'T4U_measured', 'T4U', 'FTI_measured', 'FTI', 'TBG_measured', 'TBG']"
      ],
      "execution_count": null,
      "outputs": []
    },
    {
      "cell_type": "code",
      "metadata": {
        "id": "RLEPXkQFmMao",
        "colab": {
          "base_uri": "https://localhost:8080/"
        },
        "outputId": "d431cae5-796e-498e-d459-297ce59add08"
      },
      "source": [
        "!pip install catboost"
      ],
      "execution_count": null,
      "outputs": [
        {
          "output_type": "stream",
          "text": [
            "Requirement already satisfied: catboost in /usr/local/lib/python3.7/dist-packages (0.26)\n",
            "Requirement already satisfied: numpy>=1.16.0 in /usr/local/lib/python3.7/dist-packages (from catboost) (1.19.5)\n",
            "Requirement already satisfied: graphviz in /usr/local/lib/python3.7/dist-packages (from catboost) (0.10.1)\n",
            "Requirement already satisfied: six in /usr/local/lib/python3.7/dist-packages (from catboost) (1.15.0)\n",
            "Requirement already satisfied: scipy in /usr/local/lib/python3.7/dist-packages (from catboost) (1.4.1)\n",
            "Requirement already satisfied: plotly in /usr/local/lib/python3.7/dist-packages (from catboost) (4.4.1)\n",
            "Requirement already satisfied: matplotlib in /usr/local/lib/python3.7/dist-packages (from catboost) (3.2.2)\n",
            "Requirement already satisfied: pandas>=0.24.0 in /usr/local/lib/python3.7/dist-packages (from catboost) (1.1.5)\n",
            "Requirement already satisfied: retrying>=1.3.3 in /usr/local/lib/python3.7/dist-packages (from plotly->catboost) (1.3.3)\n",
            "Requirement already satisfied: pyparsing!=2.0.4,!=2.1.2,!=2.1.6,>=2.0.1 in /usr/local/lib/python3.7/dist-packages (from matplotlib->catboost) (2.4.7)\n",
            "Requirement already satisfied: cycler>=0.10 in /usr/local/lib/python3.7/dist-packages (from matplotlib->catboost) (0.10.0)\n",
            "Requirement already satisfied: kiwisolver>=1.0.1 in /usr/local/lib/python3.7/dist-packages (from matplotlib->catboost) (1.3.1)\n",
            "Requirement already satisfied: python-dateutil>=2.1 in /usr/local/lib/python3.7/dist-packages (from matplotlib->catboost) (2.8.1)\n",
            "Requirement already satisfied: pytz>=2017.2 in /usr/local/lib/python3.7/dist-packages (from pandas>=0.24.0->catboost) (2018.9)\n"
          ],
          "name": "stdout"
        }
      ]
    },
    {
      "cell_type": "code",
      "metadata": {
        "id": "ZArs-Ue371TA",
        "colab": {
          "base_uri": "https://localhost:8080/"
        },
        "outputId": "75dee7e7-1146-4a5e-abc6-deebaa5bbe1c"
      },
      "source": [
        "# import main libraries\n",
        "import matplotlib.pylab as plt\n",
        "import pandas as pd\n",
        "import numpy as np\n",
        "import seaborn as sns\n",
        "import random\n",
        "from sklearn.model_selection import train_test_split\n",
        "from sklearn.metrics import confusion_matrix\n",
        "from  xgboost import XGBClassifier\n",
        "from sklearn.neural_network import MLPClassifier\n",
        "from imblearn.over_sampling import SMOTE\n",
        "from sklearn.utils import resample\n",
        "from scipy import stats\n",
        "from sklearn import metrics\n",
        "from catboost import CatBoostClassifier\n",
        "from sklearn.tree import DecisionTreeClassifier \n",
        "from sklearn.neighbors import KNeighborsClassifier\n",
        "from sklearn.preprocessing import LabelEncoder\n",
        "from sklearn.ensemble import RandomForestClassifier\n",
        "from sklearn.ensemble import ExtraTreesClassifier\n",
        "from sklearn.naive_bayes import GaussianNB\n",
        "from sklearn.svm import SVC, LinearSVC\n",
        "import lightgbm as lgb"
      ],
      "execution_count": null,
      "outputs": [
        {
          "output_type": "stream",
          "text": [
            "/usr/local/lib/python3.7/dist-packages/sklearn/externals/six.py:31: FutureWarning: The module is deprecated in version 0.21 and will be removed in version 0.23 since we've dropped support for Python 2.7. Please rely on the official version of six (https://pypi.org/project/six/).\n",
            "  \"(https://pypi.org/project/six/).\", FutureWarning)\n",
            "/usr/local/lib/python3.7/dist-packages/sklearn/utils/deprecation.py:144: FutureWarning: The sklearn.neighbors.base module is  deprecated in version 0.22 and will be removed in version 0.24. The corresponding classes / functions should instead be imported from sklearn.neighbors. Anything that cannot be imported from sklearn.neighbors is now part of the private API.\n",
            "  warnings.warn(message, FutureWarning)\n"
          ],
          "name": "stderr"
        }
      ]
    },
    {
      "cell_type": "code",
      "metadata": {
        "id": "P_E2GtIO79RB",
        "colab": {
          "base_uri": "https://localhost:8080/",
          "height": 309
        },
        "outputId": "3a254c79-a6d5-4e91-e3f3-94fac264d705"
      },
      "source": [
        "data.head()"
      ],
      "execution_count": null,
      "outputs": [
        {
          "output_type": "execute_result",
          "data": {
            "text/html": [
              "<div>\n",
              "<style scoped>\n",
              "    .dataframe tbody tr th:only-of-type {\n",
              "        vertical-align: middle;\n",
              "    }\n",
              "\n",
              "    .dataframe tbody tr th {\n",
              "        vertical-align: top;\n",
              "    }\n",
              "\n",
              "    .dataframe thead th {\n",
              "        text-align: right;\n",
              "    }\n",
              "</style>\n",
              "<table border=\"1\" class=\"dataframe\">\n",
              "  <thead>\n",
              "    <tr style=\"text-align: right;\">\n",
              "      <th></th>\n",
              "      <th>sclass</th>\n",
              "      <th>age</th>\n",
              "      <th>sex</th>\n",
              "      <th>on_thyroxine</th>\n",
              "      <th>query_on_thyroxine</th>\n",
              "      <th>on_antithyroid_medication</th>\n",
              "      <th>thyroid_surgery</th>\n",
              "      <th>query_hypothyroid</th>\n",
              "      <th>query_hyperthyroid</th>\n",
              "      <th>pregnant</th>\n",
              "      <th>sick</th>\n",
              "      <th>tumor</th>\n",
              "      <th>lithium</th>\n",
              "      <th>goitre</th>\n",
              "      <th>TSH_measured</th>\n",
              "      <th>TSH</th>\n",
              "      <th>T3_measured</th>\n",
              "      <th>T3</th>\n",
              "      <th>TT4_measured</th>\n",
              "      <th>TT4</th>\n",
              "      <th>T4U_measured</th>\n",
              "      <th>T4U</th>\n",
              "      <th>FTI_measured</th>\n",
              "      <th>FTI</th>\n",
              "      <th>TBG_measured</th>\n",
              "      <th>TBG</th>\n",
              "    </tr>\n",
              "  </thead>\n",
              "  <tbody>\n",
              "    <tr>\n",
              "      <th>0</th>\n",
              "      <td>sick-euthyroid</td>\n",
              "      <td>45</td>\n",
              "      <td>F</td>\n",
              "      <td>f</td>\n",
              "      <td>f</td>\n",
              "      <td>f</td>\n",
              "      <td>f</td>\n",
              "      <td>f</td>\n",
              "      <td>f</td>\n",
              "      <td>f</td>\n",
              "      <td>f</td>\n",
              "      <td>f</td>\n",
              "      <td>f</td>\n",
              "      <td>f</td>\n",
              "      <td>y</td>\n",
              "      <td>1.90</td>\n",
              "      <td>y</td>\n",
              "      <td>1</td>\n",
              "      <td>y</td>\n",
              "      <td>82</td>\n",
              "      <td>y</td>\n",
              "      <td>0.73</td>\n",
              "      <td>y</td>\n",
              "      <td>112</td>\n",
              "      <td>n</td>\n",
              "      <td>?</td>\n",
              "    </tr>\n",
              "    <tr>\n",
              "      <th>1</th>\n",
              "      <td>sick-euthyroid</td>\n",
              "      <td>64</td>\n",
              "      <td>F</td>\n",
              "      <td>f</td>\n",
              "      <td>f</td>\n",
              "      <td>f</td>\n",
              "      <td>f</td>\n",
              "      <td>f</td>\n",
              "      <td>f</td>\n",
              "      <td>f</td>\n",
              "      <td>t</td>\n",
              "      <td>f</td>\n",
              "      <td>f</td>\n",
              "      <td>f</td>\n",
              "      <td>y</td>\n",
              "      <td>0.09</td>\n",
              "      <td>y</td>\n",
              "      <td>1</td>\n",
              "      <td>y</td>\n",
              "      <td>101</td>\n",
              "      <td>y</td>\n",
              "      <td>0.82</td>\n",
              "      <td>y</td>\n",
              "      <td>123</td>\n",
              "      <td>n</td>\n",
              "      <td>?</td>\n",
              "    </tr>\n",
              "    <tr>\n",
              "      <th>2</th>\n",
              "      <td>sick-euthyroid</td>\n",
              "      <td>56</td>\n",
              "      <td>M</td>\n",
              "      <td>f</td>\n",
              "      <td>f</td>\n",
              "      <td>f</td>\n",
              "      <td>f</td>\n",
              "      <td>f</td>\n",
              "      <td>f</td>\n",
              "      <td>f</td>\n",
              "      <td>f</td>\n",
              "      <td>f</td>\n",
              "      <td>f</td>\n",
              "      <td>f</td>\n",
              "      <td>y</td>\n",
              "      <td>0</td>\n",
              "      <td>y</td>\n",
              "      <td>0.80</td>\n",
              "      <td>y</td>\n",
              "      <td>76</td>\n",
              "      <td>y</td>\n",
              "      <td>0.77</td>\n",
              "      <td>y</td>\n",
              "      <td>99</td>\n",
              "      <td>n</td>\n",
              "      <td>?</td>\n",
              "    </tr>\n",
              "    <tr>\n",
              "      <th>3</th>\n",
              "      <td>sick-euthyroid</td>\n",
              "      <td>78</td>\n",
              "      <td>F</td>\n",
              "      <td>t</td>\n",
              "      <td>f</td>\n",
              "      <td>f</td>\n",
              "      <td>f</td>\n",
              "      <td>t</td>\n",
              "      <td>f</td>\n",
              "      <td>f</td>\n",
              "      <td>f</td>\n",
              "      <td>f</td>\n",
              "      <td>f</td>\n",
              "      <td>f</td>\n",
              "      <td>y</td>\n",
              "      <td>2.60</td>\n",
              "      <td>y</td>\n",
              "      <td>0.30</td>\n",
              "      <td>y</td>\n",
              "      <td>87</td>\n",
              "      <td>y</td>\n",
              "      <td>0.95</td>\n",
              "      <td>y</td>\n",
              "      <td>91</td>\n",
              "      <td>n</td>\n",
              "      <td>?</td>\n",
              "    </tr>\n",
              "    <tr>\n",
              "      <th>4</th>\n",
              "      <td>sick-euthyroid</td>\n",
              "      <td>80</td>\n",
              "      <td>M</td>\n",
              "      <td>f</td>\n",
              "      <td>f</td>\n",
              "      <td>f</td>\n",
              "      <td>f</td>\n",
              "      <td>f</td>\n",
              "      <td>f</td>\n",
              "      <td>f</td>\n",
              "      <td>f</td>\n",
              "      <td>f</td>\n",
              "      <td>f</td>\n",
              "      <td>f</td>\n",
              "      <td>y</td>\n",
              "      <td>1.40</td>\n",
              "      <td>y</td>\n",
              "      <td>0.80</td>\n",
              "      <td>y</td>\n",
              "      <td>105</td>\n",
              "      <td>y</td>\n",
              "      <td>0.88</td>\n",
              "      <td>y</td>\n",
              "      <td>120</td>\n",
              "      <td>n</td>\n",
              "      <td>?</td>\n",
              "    </tr>\n",
              "  </tbody>\n",
              "</table>\n",
              "</div>"
            ],
            "text/plain": [
              "           sclass age sex on_thyroxine  ... FTI_measured  FTI TBG_measured TBG\n",
              "0  sick-euthyroid  45   F            f  ...            y  112            n   ?\n",
              "1  sick-euthyroid  64   F            f  ...            y  123            n   ?\n",
              "2  sick-euthyroid  56   M            f  ...            y   99            n   ?\n",
              "3  sick-euthyroid  78   F            t  ...            y   91            n   ?\n",
              "4  sick-euthyroid  80   M            f  ...            y  120            n   ?\n",
              "\n",
              "[5 rows x 26 columns]"
            ]
          },
          "metadata": {
            "tags": []
          },
          "execution_count": 8
        }
      ]
    },
    {
      "cell_type": "code",
      "metadata": {
        "id": "QliCRk3VgEBT",
        "colab": {
          "base_uri": "https://localhost:8080/",
          "height": 549
        },
        "outputId": "924b5a19-2b13-4f92-e21d-8714776c2327"
      },
      "source": [
        "display(data.head(10))"
      ],
      "execution_count": null,
      "outputs": [
        {
          "output_type": "display_data",
          "data": {
            "text/html": [
              "<div>\n",
              "<style scoped>\n",
              "    .dataframe tbody tr th:only-of-type {\n",
              "        vertical-align: middle;\n",
              "    }\n",
              "\n",
              "    .dataframe tbody tr th {\n",
              "        vertical-align: top;\n",
              "    }\n",
              "\n",
              "    .dataframe thead th {\n",
              "        text-align: right;\n",
              "    }\n",
              "</style>\n",
              "<table border=\"1\" class=\"dataframe\">\n",
              "  <thead>\n",
              "    <tr style=\"text-align: right;\">\n",
              "      <th></th>\n",
              "      <th>sclass</th>\n",
              "      <th>age</th>\n",
              "      <th>sex</th>\n",
              "      <th>on_thyroxine</th>\n",
              "      <th>query_on_thyroxine</th>\n",
              "      <th>on_antithyroid_medication</th>\n",
              "      <th>thyroid_surgery</th>\n",
              "      <th>query_hypothyroid</th>\n",
              "      <th>query_hyperthyroid</th>\n",
              "      <th>pregnant</th>\n",
              "      <th>sick</th>\n",
              "      <th>tumor</th>\n",
              "      <th>lithium</th>\n",
              "      <th>goitre</th>\n",
              "      <th>TSH_measured</th>\n",
              "      <th>TSH</th>\n",
              "      <th>T3_measured</th>\n",
              "      <th>T3</th>\n",
              "      <th>TT4_measured</th>\n",
              "      <th>TT4</th>\n",
              "      <th>T4U_measured</th>\n",
              "      <th>T4U</th>\n",
              "      <th>FTI_measured</th>\n",
              "      <th>FTI</th>\n",
              "      <th>TBG_measured</th>\n",
              "      <th>TBG</th>\n",
              "    </tr>\n",
              "  </thead>\n",
              "  <tbody>\n",
              "    <tr>\n",
              "      <th>0</th>\n",
              "      <td>sick-euthyroid</td>\n",
              "      <td>45</td>\n",
              "      <td>F</td>\n",
              "      <td>f</td>\n",
              "      <td>f</td>\n",
              "      <td>f</td>\n",
              "      <td>f</td>\n",
              "      <td>f</td>\n",
              "      <td>f</td>\n",
              "      <td>f</td>\n",
              "      <td>f</td>\n",
              "      <td>f</td>\n",
              "      <td>f</td>\n",
              "      <td>f</td>\n",
              "      <td>y</td>\n",
              "      <td>1.90</td>\n",
              "      <td>y</td>\n",
              "      <td>1</td>\n",
              "      <td>y</td>\n",
              "      <td>82</td>\n",
              "      <td>y</td>\n",
              "      <td>0.73</td>\n",
              "      <td>y</td>\n",
              "      <td>112</td>\n",
              "      <td>n</td>\n",
              "      <td>?</td>\n",
              "    </tr>\n",
              "    <tr>\n",
              "      <th>1</th>\n",
              "      <td>sick-euthyroid</td>\n",
              "      <td>64</td>\n",
              "      <td>F</td>\n",
              "      <td>f</td>\n",
              "      <td>f</td>\n",
              "      <td>f</td>\n",
              "      <td>f</td>\n",
              "      <td>f</td>\n",
              "      <td>f</td>\n",
              "      <td>f</td>\n",
              "      <td>t</td>\n",
              "      <td>f</td>\n",
              "      <td>f</td>\n",
              "      <td>f</td>\n",
              "      <td>y</td>\n",
              "      <td>0.09</td>\n",
              "      <td>y</td>\n",
              "      <td>1</td>\n",
              "      <td>y</td>\n",
              "      <td>101</td>\n",
              "      <td>y</td>\n",
              "      <td>0.82</td>\n",
              "      <td>y</td>\n",
              "      <td>123</td>\n",
              "      <td>n</td>\n",
              "      <td>?</td>\n",
              "    </tr>\n",
              "    <tr>\n",
              "      <th>2</th>\n",
              "      <td>sick-euthyroid</td>\n",
              "      <td>56</td>\n",
              "      <td>M</td>\n",
              "      <td>f</td>\n",
              "      <td>f</td>\n",
              "      <td>f</td>\n",
              "      <td>f</td>\n",
              "      <td>f</td>\n",
              "      <td>f</td>\n",
              "      <td>f</td>\n",
              "      <td>f</td>\n",
              "      <td>f</td>\n",
              "      <td>f</td>\n",
              "      <td>f</td>\n",
              "      <td>y</td>\n",
              "      <td>0</td>\n",
              "      <td>y</td>\n",
              "      <td>0.80</td>\n",
              "      <td>y</td>\n",
              "      <td>76</td>\n",
              "      <td>y</td>\n",
              "      <td>0.77</td>\n",
              "      <td>y</td>\n",
              "      <td>99</td>\n",
              "      <td>n</td>\n",
              "      <td>?</td>\n",
              "    </tr>\n",
              "    <tr>\n",
              "      <th>3</th>\n",
              "      <td>sick-euthyroid</td>\n",
              "      <td>78</td>\n",
              "      <td>F</td>\n",
              "      <td>t</td>\n",
              "      <td>f</td>\n",
              "      <td>f</td>\n",
              "      <td>f</td>\n",
              "      <td>t</td>\n",
              "      <td>f</td>\n",
              "      <td>f</td>\n",
              "      <td>f</td>\n",
              "      <td>f</td>\n",
              "      <td>f</td>\n",
              "      <td>f</td>\n",
              "      <td>y</td>\n",
              "      <td>2.60</td>\n",
              "      <td>y</td>\n",
              "      <td>0.30</td>\n",
              "      <td>y</td>\n",
              "      <td>87</td>\n",
              "      <td>y</td>\n",
              "      <td>0.95</td>\n",
              "      <td>y</td>\n",
              "      <td>91</td>\n",
              "      <td>n</td>\n",
              "      <td>?</td>\n",
              "    </tr>\n",
              "    <tr>\n",
              "      <th>4</th>\n",
              "      <td>sick-euthyroid</td>\n",
              "      <td>80</td>\n",
              "      <td>M</td>\n",
              "      <td>f</td>\n",
              "      <td>f</td>\n",
              "      <td>f</td>\n",
              "      <td>f</td>\n",
              "      <td>f</td>\n",
              "      <td>f</td>\n",
              "      <td>f</td>\n",
              "      <td>f</td>\n",
              "      <td>f</td>\n",
              "      <td>f</td>\n",
              "      <td>f</td>\n",
              "      <td>y</td>\n",
              "      <td>1.40</td>\n",
              "      <td>y</td>\n",
              "      <td>0.80</td>\n",
              "      <td>y</td>\n",
              "      <td>105</td>\n",
              "      <td>y</td>\n",
              "      <td>0.88</td>\n",
              "      <td>y</td>\n",
              "      <td>120</td>\n",
              "      <td>n</td>\n",
              "      <td>?</td>\n",
              "    </tr>\n",
              "    <tr>\n",
              "      <th>5</th>\n",
              "      <td>sick-euthyroid</td>\n",
              "      <td>74</td>\n",
              "      <td>F</td>\n",
              "      <td>f</td>\n",
              "      <td>f</td>\n",
              "      <td>f</td>\n",
              "      <td>f</td>\n",
              "      <td>f</td>\n",
              "      <td>f</td>\n",
              "      <td>f</td>\n",
              "      <td>f</td>\n",
              "      <td>f</td>\n",
              "      <td>f</td>\n",
              "      <td>f</td>\n",
              "      <td>y</td>\n",
              "      <td>0</td>\n",
              "      <td>y</td>\n",
              "      <td>0.70</td>\n",
              "      <td>y</td>\n",
              "      <td>98</td>\n",
              "      <td>y</td>\n",
              "      <td>0.81</td>\n",
              "      <td>y</td>\n",
              "      <td>121</td>\n",
              "      <td>n</td>\n",
              "      <td>?</td>\n",
              "    </tr>\n",
              "    <tr>\n",
              "      <th>6</th>\n",
              "      <td>sick-euthyroid</td>\n",
              "      <td>?</td>\n",
              "      <td>F</td>\n",
              "      <td>f</td>\n",
              "      <td>f</td>\n",
              "      <td>f</td>\n",
              "      <td>f</td>\n",
              "      <td>f</td>\n",
              "      <td>f</td>\n",
              "      <td>f</td>\n",
              "      <td>f</td>\n",
              "      <td>f</td>\n",
              "      <td>f</td>\n",
              "      <td>f</td>\n",
              "      <td>y</td>\n",
              "      <td>1.40</td>\n",
              "      <td>y</td>\n",
              "      <td>1.10</td>\n",
              "      <td>y</td>\n",
              "      <td>121</td>\n",
              "      <td>y</td>\n",
              "      <td>1.11</td>\n",
              "      <td>y</td>\n",
              "      <td>109</td>\n",
              "      <td>n</td>\n",
              "      <td>?</td>\n",
              "    </tr>\n",
              "    <tr>\n",
              "      <th>7</th>\n",
              "      <td>sick-euthyroid</td>\n",
              "      <td>42</td>\n",
              "      <td>F</td>\n",
              "      <td>f</td>\n",
              "      <td>f</td>\n",
              "      <td>f</td>\n",
              "      <td>f</td>\n",
              "      <td>f</td>\n",
              "      <td>f</td>\n",
              "      <td>f</td>\n",
              "      <td>f</td>\n",
              "      <td>f</td>\n",
              "      <td>f</td>\n",
              "      <td>f</td>\n",
              "      <td>y</td>\n",
              "      <td>2.30</td>\n",
              "      <td>y</td>\n",
              "      <td>1.10</td>\n",
              "      <td>y</td>\n",
              "      <td>93</td>\n",
              "      <td>y</td>\n",
              "      <td>0.73</td>\n",
              "      <td>y</td>\n",
              "      <td>127</td>\n",
              "      <td>n</td>\n",
              "      <td>?</td>\n",
              "    </tr>\n",
              "    <tr>\n",
              "      <th>8</th>\n",
              "      <td>sick-euthyroid</td>\n",
              "      <td>89</td>\n",
              "      <td>M</td>\n",
              "      <td>f</td>\n",
              "      <td>f</td>\n",
              "      <td>f</td>\n",
              "      <td>f</td>\n",
              "      <td>f</td>\n",
              "      <td>f</td>\n",
              "      <td>f</td>\n",
              "      <td>f</td>\n",
              "      <td>f</td>\n",
              "      <td>f</td>\n",
              "      <td>f</td>\n",
              "      <td>y</td>\n",
              "      <td>0.80</td>\n",
              "      <td>y</td>\n",
              "      <td>0.80</td>\n",
              "      <td>y</td>\n",
              "      <td>111</td>\n",
              "      <td>y</td>\n",
              "      <td>0.68</td>\n",
              "      <td>y</td>\n",
              "      <td>165</td>\n",
              "      <td>n</td>\n",
              "      <td>?</td>\n",
              "    </tr>\n",
              "    <tr>\n",
              "      <th>9</th>\n",
              "      <td>sick-euthyroid</td>\n",
              "      <td>73</td>\n",
              "      <td>M</td>\n",
              "      <td>f</td>\n",
              "      <td>f</td>\n",
              "      <td>f</td>\n",
              "      <td>f</td>\n",
              "      <td>f</td>\n",
              "      <td>f</td>\n",
              "      <td>f</td>\n",
              "      <td>f</td>\n",
              "      <td>f</td>\n",
              "      <td>f</td>\n",
              "      <td>f</td>\n",
              "      <td>y</td>\n",
              "      <td>0</td>\n",
              "      <td>y</td>\n",
              "      <td>1</td>\n",
              "      <td>y</td>\n",
              "      <td>96</td>\n",
              "      <td>y</td>\n",
              "      <td>0.89</td>\n",
              "      <td>y</td>\n",
              "      <td>108</td>\n",
              "      <td>n</td>\n",
              "      <td>?</td>\n",
              "    </tr>\n",
              "  </tbody>\n",
              "</table>\n",
              "</div>"
            ],
            "text/plain": [
              "           sclass age sex on_thyroxine  ... FTI_measured  FTI TBG_measured TBG\n",
              "0  sick-euthyroid  45   F            f  ...            y  112            n   ?\n",
              "1  sick-euthyroid  64   F            f  ...            y  123            n   ?\n",
              "2  sick-euthyroid  56   M            f  ...            y   99            n   ?\n",
              "3  sick-euthyroid  78   F            t  ...            y   91            n   ?\n",
              "4  sick-euthyroid  80   M            f  ...            y  120            n   ?\n",
              "5  sick-euthyroid  74   F            f  ...            y  121            n   ?\n",
              "6  sick-euthyroid   ?   F            f  ...            y  109            n   ?\n",
              "7  sick-euthyroid  42   F            f  ...            y  127            n   ?\n",
              "8  sick-euthyroid  89   M            f  ...            y  165            n   ?\n",
              "9  sick-euthyroid  73   M            f  ...            y  108            n   ?\n",
              "\n",
              "[10 rows x 26 columns]"
            ]
          },
          "metadata": {
            "tags": []
          }
        }
      ]
    },
    {
      "cell_type": "code",
      "metadata": {
        "id": "gCcupIYkoHo9",
        "colab": {
          "base_uri": "https://localhost:8080/",
          "height": 476
        },
        "outputId": "110db0a2-bda6-4f5f-b818-2d066bfda77f"
      },
      "source": [
        "display(data.dtypes)"
      ],
      "execution_count": null,
      "outputs": [
        {
          "output_type": "display_data",
          "data": {
            "text/plain": [
              "sclass                       object\n",
              "age                          object\n",
              "sex                          object\n",
              "on_thyroxine                 object\n",
              "query_on_thyroxine           object\n",
              "on_antithyroid_medication    object\n",
              "thyroid_surgery              object\n",
              "query_hypothyroid            object\n",
              "query_hyperthyroid           object\n",
              "pregnant                     object\n",
              "sick                         object\n",
              "tumor                        object\n",
              "lithium                      object\n",
              "goitre                       object\n",
              "TSH_measured                 object\n",
              "TSH                          object\n",
              "T3_measured                  object\n",
              "T3                           object\n",
              "TT4_measured                 object\n",
              "TT4                          object\n",
              "T4U_measured                 object\n",
              "T4U                          object\n",
              "FTI_measured                 object\n",
              "FTI                          object\n",
              "TBG_measured                 object\n",
              "TBG                          object\n",
              "dtype: object"
            ]
          },
          "metadata": {
            "tags": []
          }
        }
      ]
    },
    {
      "cell_type": "code",
      "metadata": {
        "id": "8zkmsSs5oHsw"
      },
      "source": [
        "data['sclass'] = data.pop('sclass')"
      ],
      "execution_count": null,
      "outputs": []
    },
    {
      "cell_type": "code",
      "metadata": {
        "id": "s1EQxHgRockO",
        "colab": {
          "base_uri": "https://localhost:8080/"
        },
        "outputId": "667f5f72-1371-4c54-fa10-45f14567560c"
      },
      "source": [
        "data.info()"
      ],
      "execution_count": null,
      "outputs": [
        {
          "output_type": "stream",
          "text": [
            "<class 'pandas.core.frame.DataFrame'>\n",
            "RangeIndex: 3162 entries, 0 to 3161\n",
            "Data columns (total 26 columns):\n",
            " #   Column                     Non-Null Count  Dtype \n",
            "---  ------                     --------------  ----- \n",
            " 0   age                        3162 non-null   object\n",
            " 1   sex                        3162 non-null   object\n",
            " 2   on_thyroxine               3162 non-null   object\n",
            " 3   query_on_thyroxine         3162 non-null   object\n",
            " 4   on_antithyroid_medication  3162 non-null   object\n",
            " 5   thyroid_surgery            3162 non-null   object\n",
            " 6   query_hypothyroid          3162 non-null   object\n",
            " 7   query_hyperthyroid         3162 non-null   object\n",
            " 8   pregnant                   3162 non-null   object\n",
            " 9   sick                       3162 non-null   object\n",
            " 10  tumor                      3162 non-null   object\n",
            " 11  lithium                    3162 non-null   object\n",
            " 12  goitre                     3162 non-null   object\n",
            " 13  TSH_measured               3162 non-null   object\n",
            " 14  TSH                        3162 non-null   object\n",
            " 15  T3_measured                3162 non-null   object\n",
            " 16  T3                         3162 non-null   object\n",
            " 17  TT4_measured               3162 non-null   object\n",
            " 18  TT4                        3162 non-null   object\n",
            " 19  T4U_measured               3162 non-null   object\n",
            " 20  T4U                        3162 non-null   object\n",
            " 21  FTI_measured               3162 non-null   object\n",
            " 22  FTI                        3162 non-null   object\n",
            " 23  TBG_measured               3162 non-null   object\n",
            " 24  TBG                        3162 non-null   object\n",
            " 25  sclass                     3162 non-null   object\n",
            "dtypes: object(26)\n",
            "memory usage: 642.4+ KB\n"
          ],
          "name": "stdout"
        }
      ]
    },
    {
      "cell_type": "code",
      "metadata": {
        "id": "jRwzZBV4ocqu"
      },
      "source": [
        "data['sex'] = data['sex'].map({'F': 1, 'M': 0})"
      ],
      "execution_count": null,
      "outputs": []
    },
    {
      "cell_type": "code",
      "metadata": {
        "id": "TyHVk6neo16v",
        "colab": {
          "base_uri": "https://localhost:8080/",
          "height": 1000
        },
        "outputId": "082f393f-5986-40df-fd4b-c2e406acdcb2"
      },
      "source": [
        "display(data.shape)\n",
        "display(data.head(10))\n",
        "display(data.dtypes)"
      ],
      "execution_count": null,
      "outputs": [
        {
          "output_type": "display_data",
          "data": {
            "text/plain": [
              "(3162, 26)"
            ]
          },
          "metadata": {
            "tags": []
          }
        },
        {
          "output_type": "display_data",
          "data": {
            "text/html": [
              "<div>\n",
              "<style scoped>\n",
              "    .dataframe tbody tr th:only-of-type {\n",
              "        vertical-align: middle;\n",
              "    }\n",
              "\n",
              "    .dataframe tbody tr th {\n",
              "        vertical-align: top;\n",
              "    }\n",
              "\n",
              "    .dataframe thead th {\n",
              "        text-align: right;\n",
              "    }\n",
              "</style>\n",
              "<table border=\"1\" class=\"dataframe\">\n",
              "  <thead>\n",
              "    <tr style=\"text-align: right;\">\n",
              "      <th></th>\n",
              "      <th>age</th>\n",
              "      <th>sex</th>\n",
              "      <th>on_thyroxine</th>\n",
              "      <th>query_on_thyroxine</th>\n",
              "      <th>on_antithyroid_medication</th>\n",
              "      <th>thyroid_surgery</th>\n",
              "      <th>query_hypothyroid</th>\n",
              "      <th>query_hyperthyroid</th>\n",
              "      <th>pregnant</th>\n",
              "      <th>sick</th>\n",
              "      <th>tumor</th>\n",
              "      <th>lithium</th>\n",
              "      <th>goitre</th>\n",
              "      <th>TSH_measured</th>\n",
              "      <th>TSH</th>\n",
              "      <th>T3_measured</th>\n",
              "      <th>T3</th>\n",
              "      <th>TT4_measured</th>\n",
              "      <th>TT4</th>\n",
              "      <th>T4U_measured</th>\n",
              "      <th>T4U</th>\n",
              "      <th>FTI_measured</th>\n",
              "      <th>FTI</th>\n",
              "      <th>TBG_measured</th>\n",
              "      <th>TBG</th>\n",
              "      <th>sclass</th>\n",
              "    </tr>\n",
              "  </thead>\n",
              "  <tbody>\n",
              "    <tr>\n",
              "      <th>0</th>\n",
              "      <td>45</td>\n",
              "      <td>1.0</td>\n",
              "      <td>f</td>\n",
              "      <td>f</td>\n",
              "      <td>f</td>\n",
              "      <td>f</td>\n",
              "      <td>f</td>\n",
              "      <td>f</td>\n",
              "      <td>f</td>\n",
              "      <td>f</td>\n",
              "      <td>f</td>\n",
              "      <td>f</td>\n",
              "      <td>f</td>\n",
              "      <td>y</td>\n",
              "      <td>1.90</td>\n",
              "      <td>y</td>\n",
              "      <td>1</td>\n",
              "      <td>y</td>\n",
              "      <td>82</td>\n",
              "      <td>y</td>\n",
              "      <td>0.73</td>\n",
              "      <td>y</td>\n",
              "      <td>112</td>\n",
              "      <td>n</td>\n",
              "      <td>?</td>\n",
              "      <td>sick-euthyroid</td>\n",
              "    </tr>\n",
              "    <tr>\n",
              "      <th>1</th>\n",
              "      <td>64</td>\n",
              "      <td>1.0</td>\n",
              "      <td>f</td>\n",
              "      <td>f</td>\n",
              "      <td>f</td>\n",
              "      <td>f</td>\n",
              "      <td>f</td>\n",
              "      <td>f</td>\n",
              "      <td>f</td>\n",
              "      <td>t</td>\n",
              "      <td>f</td>\n",
              "      <td>f</td>\n",
              "      <td>f</td>\n",
              "      <td>y</td>\n",
              "      <td>0.09</td>\n",
              "      <td>y</td>\n",
              "      <td>1</td>\n",
              "      <td>y</td>\n",
              "      <td>101</td>\n",
              "      <td>y</td>\n",
              "      <td>0.82</td>\n",
              "      <td>y</td>\n",
              "      <td>123</td>\n",
              "      <td>n</td>\n",
              "      <td>?</td>\n",
              "      <td>sick-euthyroid</td>\n",
              "    </tr>\n",
              "    <tr>\n",
              "      <th>2</th>\n",
              "      <td>56</td>\n",
              "      <td>0.0</td>\n",
              "      <td>f</td>\n",
              "      <td>f</td>\n",
              "      <td>f</td>\n",
              "      <td>f</td>\n",
              "      <td>f</td>\n",
              "      <td>f</td>\n",
              "      <td>f</td>\n",
              "      <td>f</td>\n",
              "      <td>f</td>\n",
              "      <td>f</td>\n",
              "      <td>f</td>\n",
              "      <td>y</td>\n",
              "      <td>0</td>\n",
              "      <td>y</td>\n",
              "      <td>0.80</td>\n",
              "      <td>y</td>\n",
              "      <td>76</td>\n",
              "      <td>y</td>\n",
              "      <td>0.77</td>\n",
              "      <td>y</td>\n",
              "      <td>99</td>\n",
              "      <td>n</td>\n",
              "      <td>?</td>\n",
              "      <td>sick-euthyroid</td>\n",
              "    </tr>\n",
              "    <tr>\n",
              "      <th>3</th>\n",
              "      <td>78</td>\n",
              "      <td>1.0</td>\n",
              "      <td>t</td>\n",
              "      <td>f</td>\n",
              "      <td>f</td>\n",
              "      <td>f</td>\n",
              "      <td>t</td>\n",
              "      <td>f</td>\n",
              "      <td>f</td>\n",
              "      <td>f</td>\n",
              "      <td>f</td>\n",
              "      <td>f</td>\n",
              "      <td>f</td>\n",
              "      <td>y</td>\n",
              "      <td>2.60</td>\n",
              "      <td>y</td>\n",
              "      <td>0.30</td>\n",
              "      <td>y</td>\n",
              "      <td>87</td>\n",
              "      <td>y</td>\n",
              "      <td>0.95</td>\n",
              "      <td>y</td>\n",
              "      <td>91</td>\n",
              "      <td>n</td>\n",
              "      <td>?</td>\n",
              "      <td>sick-euthyroid</td>\n",
              "    </tr>\n",
              "    <tr>\n",
              "      <th>4</th>\n",
              "      <td>80</td>\n",
              "      <td>0.0</td>\n",
              "      <td>f</td>\n",
              "      <td>f</td>\n",
              "      <td>f</td>\n",
              "      <td>f</td>\n",
              "      <td>f</td>\n",
              "      <td>f</td>\n",
              "      <td>f</td>\n",
              "      <td>f</td>\n",
              "      <td>f</td>\n",
              "      <td>f</td>\n",
              "      <td>f</td>\n",
              "      <td>y</td>\n",
              "      <td>1.40</td>\n",
              "      <td>y</td>\n",
              "      <td>0.80</td>\n",
              "      <td>y</td>\n",
              "      <td>105</td>\n",
              "      <td>y</td>\n",
              "      <td>0.88</td>\n",
              "      <td>y</td>\n",
              "      <td>120</td>\n",
              "      <td>n</td>\n",
              "      <td>?</td>\n",
              "      <td>sick-euthyroid</td>\n",
              "    </tr>\n",
              "    <tr>\n",
              "      <th>5</th>\n",
              "      <td>74</td>\n",
              "      <td>1.0</td>\n",
              "      <td>f</td>\n",
              "      <td>f</td>\n",
              "      <td>f</td>\n",
              "      <td>f</td>\n",
              "      <td>f</td>\n",
              "      <td>f</td>\n",
              "      <td>f</td>\n",
              "      <td>f</td>\n",
              "      <td>f</td>\n",
              "      <td>f</td>\n",
              "      <td>f</td>\n",
              "      <td>y</td>\n",
              "      <td>0</td>\n",
              "      <td>y</td>\n",
              "      <td>0.70</td>\n",
              "      <td>y</td>\n",
              "      <td>98</td>\n",
              "      <td>y</td>\n",
              "      <td>0.81</td>\n",
              "      <td>y</td>\n",
              "      <td>121</td>\n",
              "      <td>n</td>\n",
              "      <td>?</td>\n",
              "      <td>sick-euthyroid</td>\n",
              "    </tr>\n",
              "    <tr>\n",
              "      <th>6</th>\n",
              "      <td>?</td>\n",
              "      <td>1.0</td>\n",
              "      <td>f</td>\n",
              "      <td>f</td>\n",
              "      <td>f</td>\n",
              "      <td>f</td>\n",
              "      <td>f</td>\n",
              "      <td>f</td>\n",
              "      <td>f</td>\n",
              "      <td>f</td>\n",
              "      <td>f</td>\n",
              "      <td>f</td>\n",
              "      <td>f</td>\n",
              "      <td>y</td>\n",
              "      <td>1.40</td>\n",
              "      <td>y</td>\n",
              "      <td>1.10</td>\n",
              "      <td>y</td>\n",
              "      <td>121</td>\n",
              "      <td>y</td>\n",
              "      <td>1.11</td>\n",
              "      <td>y</td>\n",
              "      <td>109</td>\n",
              "      <td>n</td>\n",
              "      <td>?</td>\n",
              "      <td>sick-euthyroid</td>\n",
              "    </tr>\n",
              "    <tr>\n",
              "      <th>7</th>\n",
              "      <td>42</td>\n",
              "      <td>1.0</td>\n",
              "      <td>f</td>\n",
              "      <td>f</td>\n",
              "      <td>f</td>\n",
              "      <td>f</td>\n",
              "      <td>f</td>\n",
              "      <td>f</td>\n",
              "      <td>f</td>\n",
              "      <td>f</td>\n",
              "      <td>f</td>\n",
              "      <td>f</td>\n",
              "      <td>f</td>\n",
              "      <td>y</td>\n",
              "      <td>2.30</td>\n",
              "      <td>y</td>\n",
              "      <td>1.10</td>\n",
              "      <td>y</td>\n",
              "      <td>93</td>\n",
              "      <td>y</td>\n",
              "      <td>0.73</td>\n",
              "      <td>y</td>\n",
              "      <td>127</td>\n",
              "      <td>n</td>\n",
              "      <td>?</td>\n",
              "      <td>sick-euthyroid</td>\n",
              "    </tr>\n",
              "    <tr>\n",
              "      <th>8</th>\n",
              "      <td>89</td>\n",
              "      <td>0.0</td>\n",
              "      <td>f</td>\n",
              "      <td>f</td>\n",
              "      <td>f</td>\n",
              "      <td>f</td>\n",
              "      <td>f</td>\n",
              "      <td>f</td>\n",
              "      <td>f</td>\n",
              "      <td>f</td>\n",
              "      <td>f</td>\n",
              "      <td>f</td>\n",
              "      <td>f</td>\n",
              "      <td>y</td>\n",
              "      <td>0.80</td>\n",
              "      <td>y</td>\n",
              "      <td>0.80</td>\n",
              "      <td>y</td>\n",
              "      <td>111</td>\n",
              "      <td>y</td>\n",
              "      <td>0.68</td>\n",
              "      <td>y</td>\n",
              "      <td>165</td>\n",
              "      <td>n</td>\n",
              "      <td>?</td>\n",
              "      <td>sick-euthyroid</td>\n",
              "    </tr>\n",
              "    <tr>\n",
              "      <th>9</th>\n",
              "      <td>73</td>\n",
              "      <td>0.0</td>\n",
              "      <td>f</td>\n",
              "      <td>f</td>\n",
              "      <td>f</td>\n",
              "      <td>f</td>\n",
              "      <td>f</td>\n",
              "      <td>f</td>\n",
              "      <td>f</td>\n",
              "      <td>f</td>\n",
              "      <td>f</td>\n",
              "      <td>f</td>\n",
              "      <td>f</td>\n",
              "      <td>y</td>\n",
              "      <td>0</td>\n",
              "      <td>y</td>\n",
              "      <td>1</td>\n",
              "      <td>y</td>\n",
              "      <td>96</td>\n",
              "      <td>y</td>\n",
              "      <td>0.89</td>\n",
              "      <td>y</td>\n",
              "      <td>108</td>\n",
              "      <td>n</td>\n",
              "      <td>?</td>\n",
              "      <td>sick-euthyroid</td>\n",
              "    </tr>\n",
              "  </tbody>\n",
              "</table>\n",
              "</div>"
            ],
            "text/plain": [
              "  age  sex on_thyroxine  ... TBG_measured TBG          sclass\n",
              "0  45  1.0            f  ...            n   ?  sick-euthyroid\n",
              "1  64  1.0            f  ...            n   ?  sick-euthyroid\n",
              "2  56  0.0            f  ...            n   ?  sick-euthyroid\n",
              "3  78  1.0            t  ...            n   ?  sick-euthyroid\n",
              "4  80  0.0            f  ...            n   ?  sick-euthyroid\n",
              "5  74  1.0            f  ...            n   ?  sick-euthyroid\n",
              "6   ?  1.0            f  ...            n   ?  sick-euthyroid\n",
              "7  42  1.0            f  ...            n   ?  sick-euthyroid\n",
              "8  89  0.0            f  ...            n   ?  sick-euthyroid\n",
              "9  73  0.0            f  ...            n   ?  sick-euthyroid\n",
              "\n",
              "[10 rows x 26 columns]"
            ]
          },
          "metadata": {
            "tags": []
          }
        },
        {
          "output_type": "display_data",
          "data": {
            "text/plain": [
              "age                           object\n",
              "sex                          float64\n",
              "on_thyroxine                  object\n",
              "query_on_thyroxine            object\n",
              "on_antithyroid_medication     object\n",
              "thyroid_surgery               object\n",
              "query_hypothyroid             object\n",
              "query_hyperthyroid            object\n",
              "pregnant                      object\n",
              "sick                          object\n",
              "tumor                         object\n",
              "lithium                       object\n",
              "goitre                        object\n",
              "TSH_measured                  object\n",
              "TSH                           object\n",
              "T3_measured                   object\n",
              "T3                            object\n",
              "TT4_measured                  object\n",
              "TT4                           object\n",
              "T4U_measured                  object\n",
              "T4U                           object\n",
              "FTI_measured                  object\n",
              "FTI                           object\n",
              "TBG_measured                  object\n",
              "TBG                           object\n",
              "sclass                        object\n",
              "dtype: object"
            ]
          },
          "metadata": {
            "tags": []
          }
        }
      ]
    },
    {
      "cell_type": "code",
      "metadata": {
        "id": "WIuZGvIVpM6_",
        "colab": {
          "base_uri": "https://localhost:8080/",
          "height": 34
        },
        "outputId": "db632fbe-b098-4f53-c8c8-e71c0ef02c16"
      },
      "source": [
        "\n",
        "display(data.shape)"
      ],
      "execution_count": null,
      "outputs": [
        {
          "output_type": "display_data",
          "data": {
            "text/plain": [
              "(3162, 26)"
            ]
          },
          "metadata": {
            "tags": []
          }
        }
      ]
    },
    {
      "cell_type": "code",
      "metadata": {
        "id": "TLO2soeZqZPT",
        "colab": {
          "base_uri": "https://localhost:8080/",
          "height": 85
        },
        "outputId": "68844b99-d421-4194-b6cc-a5d65492d077"
      },
      "source": [
        "print(\"Sick-euthyroid:\")\n",
        "sex_series2 = pd.Series(data[data.columns[1]].values)\n",
        "display(sex_series2.value_counts())\n"
      ],
      "execution_count": null,
      "outputs": [
        {
          "output_type": "stream",
          "text": [
            "Sick-euthyroid:\n"
          ],
          "name": "stdout"
        },
        {
          "output_type": "display_data",
          "data": {
            "text/plain": [
              "1.0    2182\n",
              "0.0     907\n",
              "dtype: int64"
            ]
          },
          "metadata": {
            "tags": []
          }
        }
      ]
    },
    {
      "cell_type": "code",
      "metadata": {
        "id": "mXz88YvGrS0D",
        "colab": {
          "base_uri": "https://localhost:8080/"
        },
        "outputId": "7bee873f-deff-445a-ff77-0c7c5e87a91f"
      },
      "source": [
        "#start the data pre processing observing the set of possible values for each attribute\n",
        "for column in data.columns:\n",
        "    listOfValues=set(data[column])\n",
        "    print(column,\": \",listOfValues)"
      ],
      "execution_count": null,
      "outputs": [
        {
          "output_type": "stream",
          "text": [
            "age :  {'4', '75', '22', '15', '50', '86', '92', '44', '98', '80', '74', '10', '?', '84', '56', '57', '53', '18', '9', '82', '51', '16', '29', '36', '37', '81', '1', '38', '52', '42', '20', '11', '89', '41', '13', '54', '73', '79', '68', '32', '62', '87', '45', '48', '17', '34', '28', '85', '31', '78', '76', '5', '93', '69', '61', '8', '77', '14', '47', '27', '49', '58', '40', '7', '25', '43', '55', '67', '19', '46', '88', '70', '23', '12', '90', '39', '26', '63', '64', '24', '33', '6', '21', '72', '83', '65', '71', '59', '30', '66', '35', '97', '60'}\n",
            "sex :  {0.0, 1.0, nan, nan, nan, nan, nan, nan, nan, nan, nan, nan, nan, nan, nan, nan, nan, nan, nan, nan, nan, nan, nan, nan, nan, nan, nan, nan, nan, nan, nan, nan, nan, nan, nan, nan, nan, nan, nan, nan, nan, nan, nan, nan, nan, nan, nan, nan, nan, nan, nan, nan, nan, nan, nan, nan, nan, nan, nan, nan, nan, nan, nan, nan, nan, nan, nan, nan, nan, nan, nan, nan, nan, nan, nan}\n",
            "on_thyroxine :  {'f', 't'}\n",
            "query_on_thyroxine :  {'f', 't'}\n",
            "on_antithyroid_medication :  {'f', 't'}\n",
            "thyroid_surgery :  {'f', 't'}\n",
            "query_hypothyroid :  {'f', 't'}\n",
            "query_hyperthyroid :  {'f', 't'}\n",
            "pregnant :  {'f', 't'}\n",
            "sick :  {'f', 't'}\n",
            "tumor :  {'f', 't'}\n",
            "lithium :  {'f', 't'}\n",
            "goitre :  {'f', 't'}\n",
            "TSH_measured :  {'y', 'n'}\n",
            "TSH :  {'4', '153', '0.02', '8.30', '17.40', '165', '22', '8.20', '1.01', '7.30', '1.50', '140', '15', '14.40', '50', '3.50', '86', '60', '288', '4.30', '143', '0.01', '7.10', '9.50', '0.26', '0.09', '1.10', '1.20', '6.80', '92', '44', '96', '80', '10.30', '0.68', '0.23', '1.90', '10', '0.85', '?', '56', '57', '53', '5.40', '18', '9', '7.50', '82', '9.90', '178', '2.40', '6.70', '125', '260', '117', '2.30', '530', '16', '29', '0.35', '2.10', '6.50', '176', '0.06', '0.67', '0.92', '0.07', '4.80', '0.64', '36', '4.20', '37', '0.69', '8.60', '13.30', '0.60', '0.25', '0.10', '1', '38', '52', '0.62', '16.50', '0.91', '42', '20', '8.40', '9.80', '11', '1.80', '3.80', '0.65', '4.50', '11.60', '2.90', '6.40', '9.70', '5.80', '9.40', '89', '2.50', '7.90', '41', '13', '0.40', '54', '0.04', '4.10', '183', '0.37', '8.80', '8.10', '68', '32', '9.20', '8.90', '13.20', '0.46', '1.60', '3.60', '0.70', '5.50', '6.60', '45', '3.70', '430', '48', '17', '2.20', '34', '6.20', '28', '85', '1.70', '31', '76', '9.10', '0.88', '5', '6.10', '14.30', '7.80', '0.90', '1.05', '8.70', '150', '61', '0.05', '3.30', '8', '3.20', '77', '14', '5.20', '0.43', '3.40', '14.90', '47', '27', '49', '11.40', '3', '3.10', '40', '58', '109', '0.42', '8.50', '1.30', '1.83', '160', '4.90', '2', '25', '0', '7.40', '19.20', '43', '55', '0.80', '0.30', '19', '46', '88', '5.90', '145', '15.30', '126', '70', '12', '3.90', '23', '7.60', '90', '5.60', '5.10', '0.28', '10.70', '0.15', '0.77', '0.50', '39', '26', '63', '33', '24', '6', '21', '0.81', '0.20', '0.84', '4.40', '170', '164', '65', '1.40', '7.70', '0.21', '216', '71', '213', '0.08', '59', '4.70', '2.80', '6.90', '2.60', '138', '100', '30', '66', '35', '2.70', '6.30', '0.03', '200', '9.60', '235', '4.60', '0.83'}\n",
            "T3_measured :  {'y', 'n'}\n",
            "T3 :  {'4', '2.10', '2.20', '3.90', '4.80', '6.20', '7.60', '4.20', '1.70', '5.10', '7.30', '1.50', '5.60', '8.60', '0.50', '3.50', '0.60', '5', '6.10', '4.30', '0.10', '1', '0.90', '1.10', '1.20', '9.80', '1.80', '3.80', '5.30', '0.20', '4.50', '4.40', '2.90', '0.05', '3.30', '3.20', '1.40', '5.20', '3.40', '2.50', '1.90', '0.40', '2.80', '?', '4.70', '2.60', '3', '3.10', '4.10', '1.30', '8.10', '4.90', '8.90', '2', '7', '4.60', '1.60', '10.20', '2.40', '2.70', '6.70', '3.60', '0', '2.30', '0.70', '5.50', '6.60', '0.80', '0.30', '3.70'}\n",
            "TT4_measured :  {'y', 'n'}\n",
            "TT4 :  {'4', '153', '232', '165', '75', '22', '359', '142', '7.30', '140', '15', '50', '86', '186', '122', '143', '206', '193', '148', '92', '283', '5.30', '208', '204', '163', '44', '110', '96', '98', '123', '80', '144', '245', '111', '74', '180', '127', '187', '10', '156', '84', '?', '56', '57', '207', '275', '53', '18', '177', '9', '130', '82', '7.50', '166', '51', '125', '178', '260', '239', '225', '117', '168', '2.30', '147', '16', '29', '256', '113', '333', '128', '176', '189', '36', '253', '214', '37', '236', '263', '8.60', '116', '396', '119', '99', '167', '81', '38', '52', '42', '20', '11', '131', '2.90', '94', '209', '9.70', '89', '221', '41', '54', '129', '134', '118', '73', '199', '13', '112', '223', '162', '183', '79', '135', '267', '172', '4.10', '68', '8.10', '32', '269', '62', '228', '107', '248', '87', '184', '218', '203', '250', '155', '45', '211', '210', '6.60', '282', '169', '173', '48', '430', '17', '152', '34', '28', '85', '31', '244', '76', '78', '254', '182', '93', '212', '104', '261', '158', '102', '190', '205', '69', '61', '247', '150', '77', '14', '181', '154', '308', '124', '47', '27', '121', '49', '95', '58', '3', '40', '91', '109', '201', '106', '160', '217', '2', '198', '188', '25', '185', '179', '114', '43', '450', '219', '55', '301', '240', '67', '19', '46', '88', '171', '103', '145', '126', '191', '70', '23', '133', '3.90', '12', '7.60', '90', '426', '224', '175', '105', '141', '39', '296', '63', '242', '64', '136', '33', '24', '287', '220', '6', '252', '241', '72', '21', '170', '83', '161', '202', '164', '157', '108', '230', '65', '197', '149', '132', '216', '194', '71', '139', '213', '174', '59', '120', '146', '138', '196', '115', '100', '30', '101', '66', '151', '35', '97', '222', '255', '200', '195', '235', '60', '137', '159', '258'}\n",
            "T4U_measured :  {'y', 'n'}\n",
            "T4U :  {'1.27', '0.66', '1.04', '1.28', '0.96', '1.01', '1.96', '1.50', '1.32', '1.68', '0.87', '1.10', '1.20', '1.51', '1.52', '1.47', '2.03', '1.15', '0.34', '0.47', '2.21', '0.68', '1.44', '1.26', '1.08', '1.56', '0.85', '1.62', '?', '1.94', '1.06', '0.54', '1.21', '1.79', '1.74', '1.11', '0.58', '0.55', '1.61', '1.29', '0.35', '1.34', '1.03', '0.74', '0.33', '0.38', '0.67', '0.92', '0.79', '0.64', '1.97', '1.35', '1.58', '1.14', '0.97', '0.69', '1.02', '0.60', '1.09', '0.48', '1', '1.36', '0.62', '0.41', '0.91', '1.80', '0.65', '0.63', '1.33', '1.59', '1.66', '1.73', '0.40', '0.29', '2.01', '0.95', '1.41', '1.42', '1.43', '1.54', '1.65', '1.88', '0.46', '1.57', '0.72', '1.72', '0.70', '1.64', '1.22', '1.70', '0.88', '1.45', '0.73', '0.90', '1.05', '0.93', '0.89', '1.07', '0.61', '0.56', '0.32', '1.83', '1.30', '2', '1.39', '0', '1.71', '0.82', '0.80', '0.30', '1.76', '0.99', '1.19', '1.16', '1.12', '0.28', '0.77', '0.50', '0.49', '1.17', '0.98', '1.37', '1.38', '1.75', '1.53', '0.57', '1.93', '0.81', '0.84', '0.20', '1.13', '0.75', '1.40', '1.67', '0.31', '0.36', '0.76', '0.59', '0.53', '1.69', '0.52', '1.46', '1.24', '1.55', '1.77', '1.49', '0.71', '0.94', '0.27', '1.31', '1.48', '1.23', '0.86', '1.25', '1.18', '1.63', '0.78', '0.83', '1.86'}\n",
            "FTI_measured :  {'y', 'n'}\n",
            "FTI :  {'4', '153', '232', '165', '75', '22', '359', '142', '140', '15', '50', '86', '186', '122', '143', '550', '193', '148', '92', '237', '283', '208', '204', '337', '163', '44', '192', '110', '98', '123', '96', '80', '144', '111', '74', '180', '127', '10', '187', '485', '156', '84', '?', '354', '57', '56', '53', '9', '177', '130', '82', '7.50', '166', '51', '125', '178', '215', '239', '117', '168', '147', '650', '16', '445', '29', '256', '113', '128', '176', '741', '189', '36', '214', '37', '263', '116', '119', '99', '167', '81', '52', '42', '20', '266', '8.40', '634', '11', '612', '131', '292', '94', '209', '89', '615', '221', '41', '118', '129', '134', '54', '73', '13', '223', '112', '162', '79', '135', '172', '68', '32', '370', '8.90', '428', '228', '227', '107', '248', '87', '184', '218', '203', '250', '155', '881', '45', '211', '6.60', '5.50', '210', '169', '173', '48', '17', '152', '34', '28', '85', '345', '31', '244', '76', '78', '852', '249', '5', '254', '182', '93', '212', '104', '271', '158', '102', '190', '305', '205', '69', '150', '61', '247', '8.70', '77', '14', '181', '154', '3.40', '308', '124', '47', '711', '121', '49', '95', '334', '3', '58', '264', '272', '91', '109', '40', '8.50', '106', '160', '217', '470', '2', '7', '198', '188', '332', '0', '702', '185', '179', '114', '43', '219', '257', '55', '240', '695', '67', '450', '19', '46', '88', '171', '145', '103', '126', '133', '70', '12', '23', '90', '175', '105', '141', '395', '39', '482', '26', '63', '839', '64', '136', '316', '33', '24', '246', '259', '347', '220', '6', '355', '229', '241', '72', '21', '170', '83', '161', '197', '164', '157', '108', '149', '65', '202', '1.40', '299', '132', '216', '194', '71', '139', '235', '213', '174', '146', '120', '59', '2.80', '138', '196', '115', '100', '101', '66', '151', '35', '97', '222', '7.20', '258', '195', '200', '60', '137', '159'}\n",
            "TBG_measured :  {'y', 'n'}\n",
            "TBG :  {'19', '48', '17', '9.30', '36', '23', '34', '28', '12', '22', '31', '37', '7.30', '15', '39', '50', '26', '86', '122', '63', '38', '52', '33', '24', '20', '8.40', '11', '21', '69', '110', '108', '80', '14', '65', '41', '47', '13', '27', '?', '3.10', '40', '8.50', '53', '18', '32', '30', '35', '25', '0', '43', '45', '16', '29'}\n",
            "sclass :  {'negative', 'sick-euthyroid'}\n"
          ],
          "name": "stdout"
        }
      ]
    },
    {
      "cell_type": "code",
      "metadata": {
        "id": "48Uhbg4z1aFZ",
        "colab": {
          "base_uri": "https://localhost:8080/"
        },
        "outputId": "8cd8dbf0-6dda-45f2-a141-1f948e231d2e"
      },
      "source": [
        "data=data.replace({\"?\":np.NAN})\n",
        "data.isna().sum()"
      ],
      "execution_count": null,
      "outputs": [
        {
          "output_type": "execute_result",
          "data": {
            "text/plain": [
              "age                           446\n",
              "sex                            73\n",
              "on_thyroxine                    0\n",
              "query_on_thyroxine              0\n",
              "on_antithyroid_medication       0\n",
              "thyroid_surgery                 0\n",
              "query_hypothyroid               0\n",
              "query_hyperthyroid              0\n",
              "pregnant                        0\n",
              "sick                            0\n",
              "tumor                           0\n",
              "lithium                         0\n",
              "goitre                          0\n",
              "TSH_measured                    0\n",
              "TSH                           467\n",
              "T3_measured                     0\n",
              "T3                            695\n",
              "TT4_measured                    0\n",
              "TT4                           249\n",
              "T4U_measured                    0\n",
              "T4U                           248\n",
              "FTI_measured                    0\n",
              "FTI                           247\n",
              "TBG_measured                    0\n",
              "TBG                          2902\n",
              "sclass                          0\n",
              "dtype: int64"
            ]
          },
          "metadata": {
            "tags": []
          },
          "execution_count": 18
        }
      ]
    },
    {
      "cell_type": "code",
      "metadata": {
        "id": "U9w2bE-O1mGE"
      },
      "source": [
        "del data['TBG']"
      ],
      "execution_count": null,
      "outputs": []
    },
    {
      "cell_type": "code",
      "metadata": {
        "id": "_FiYMBsS2uZk"
      },
      "source": [
        "data['age'].fillna(value=data['age'].median(), inplace=True)"
      ],
      "execution_count": null,
      "outputs": []
    },
    {
      "cell_type": "code",
      "metadata": {
        "id": "EIw6CioK1y9u",
        "colab": {
          "base_uri": "https://localhost:8080/"
        },
        "outputId": "cfe719a5-a9be-4a33-aaae-ed72d184afde"
      },
      "source": [
        "data.fillna(data.mean(), inplace=True)\n",
        "data.isna().sum()"
      ],
      "execution_count": null,
      "outputs": [
        {
          "output_type": "execute_result",
          "data": {
            "text/plain": [
              "age                            0\n",
              "sex                            0\n",
              "on_thyroxine                   0\n",
              "query_on_thyroxine             0\n",
              "on_antithyroid_medication      0\n",
              "thyroid_surgery                0\n",
              "query_hypothyroid              0\n",
              "query_hyperthyroid             0\n",
              "pregnant                       0\n",
              "sick                           0\n",
              "tumor                          0\n",
              "lithium                        0\n",
              "goitre                         0\n",
              "TSH_measured                   0\n",
              "TSH                          467\n",
              "T3_measured                    0\n",
              "T3                           695\n",
              "TT4_measured                   0\n",
              "TT4                          249\n",
              "T4U_measured                   0\n",
              "T4U                          248\n",
              "FTI_measured                   0\n",
              "FTI                          247\n",
              "TBG_measured                   0\n",
              "sclass                         0\n",
              "dtype: int64"
            ]
          },
          "metadata": {
            "tags": []
          },
          "execution_count": 21
        }
      ]
    },
    {
      "cell_type": "code",
      "metadata": {
        "id": "72hMXHwRCzW4"
      },
      "source": [
        "#data[['age','TSH','T3','TT4','T4U','FTI']].boxplot()"
      ],
      "execution_count": null,
      "outputs": []
    },
    {
      "cell_type": "code",
      "metadata": {
        "id": "Sf49-YDEDHs5",
        "colab": {
          "base_uri": "https://localhost:8080/",
          "height": 210
        },
        "outputId": "a1191d5e-3591-4469-bfe8-7699d8b6933d"
      },
      "source": [
        "ax = sns.catplot(y='sclass', kind='count', data=data, height=2.6, aspect=2.5)"
      ],
      "execution_count": null,
      "outputs": [
        {
          "output_type": "display_data",
          "data": {
            "image/png": "[encoded data removed]",
            "text/plain": [
              "<Figure size 468x187.2 with 1 Axes>"
            ]
          },
          "metadata": {
            "tags": [],
            "needs_background": "light"
          }
        }
      ]
    },
    {
      "cell_type": "code",
      "metadata": {
        "id": "vaqmkLrqDOLZ",
        "colab": {
          "base_uri": "https://localhost:8080/",
          "height": 282
        },
        "outputId": "1f2a1430-827c-475c-8aa4-609d9a253c8d"
      },
      "source": [
        "def barplot_percentages(feature, orient='v', axis_name=\"Predict Based on Sex\"):\n",
        "    ratios = pd.DataFrame()\n",
        "    g = data.groupby(feature)[\"pregnant\"].value_counts().to_frame()\n",
        "    g = g.rename({\"pregnant\": axis_name}, axis=1).reset_index()\n",
        "    g[axis_name] = g[axis_name]/len(data)\n",
        "    if orient == 'v':\n",
        "        ax = sns.barplot(x=feature, y= axis_name, hue='pregnant', data=g, orient=orient)\n",
        "        ax.set_yticklabels(['{:,.0%}'.format(y) for y in ax.get_yticks()])\n",
        "    else:\n",
        "        ax = sns.barplot(x= axis_name, y=feature, hue='pregnant', data=g, orient=orient)\n",
        "        ax.set_xticklabels(['{:,.0%}'.format(x) for x in ax.get_xticks()])\n",
        "    ax.plot()\n",
        "barplot_percentages(\"sex\")"
      ],
      "execution_count": null,
      "outputs": [
        {
          "output_type": "display_data",
          "data": {
            "image/png": "[encoded data removed]",
            "text/plain": [
              "<Figure size 432x288 with 1 Axes>"
            ]
          },
          "metadata": {
            "tags": [],
            "needs_background": "light"
          }
        }
      ]
    },
    {
      "cell_type": "code",
      "metadata": {
        "id": "4AKK7xItDzbw",
        "colab": {
          "base_uri": "https://localhost:8080/",
          "height": 307
        },
        "outputId": "03165816-8ef5-4983-9ed5-f0782d7e7998"
      },
      "source": [
        "plt.figure(figsize=(9, 4.5))\n",
        "barplot_percentages(\"tumor\", orient='h')"
      ],
      "execution_count": null,
      "outputs": [
        {
          "output_type": "display_data",
          "data": {
            "image/png": "[encoded data removed]",
            "text/plain": [
              "<Figure size 648x324 with 1 Axes>"
            ]
          },
          "metadata": {
            "tags": [],
            "needs_background": "light"
          }
        }
      ]
    },
    {
      "cell_type": "code",
      "metadata": {
        "id": "rkGPvVzWEB2C",
        "colab": {
          "base_uri": "https://localhost:8080/",
          "height": 307
        },
        "outputId": "f9219ab5-d5d9-4eec-fe8c-678d313dc796"
      },
      "source": [
        "plt.figure(figsize=(9, 4.5))\n",
        "barplot_percentages(\"query_hyperthyroid\", orient='h')"
      ],
      "execution_count": null,
      "outputs": [
        {
          "output_type": "display_data",
          "data": {
            "image/png": "[encoded data removed]",
            "text/plain": [
              "<Figure size 648x324 with 1 Axes>"
            ]
          },
          "metadata": {
            "tags": [],
            "needs_background": "light"
          }
        }
      ]
    },
    {
      "cell_type": "code",
      "metadata": {
        "id": "4RbdAbM44jaB",
        "colab": {
          "base_uri": "https://localhost:8080/",
          "height": 549
        },
        "outputId": "deb25826-d763-4b94-e942-03b920f9bf4a"
      },
      "source": [
        "data.shape\n",
        "display(data.head(10))"
      ],
      "execution_count": null,
      "outputs": [
        {
          "output_type": "display_data",
          "data": {
            "text/html": [
              "<div>\n",
              "<style scoped>\n",
              "    .dataframe tbody tr th:only-of-type {\n",
              "        vertical-align: middle;\n",
              "    }\n",
              "\n",
              "    .dataframe tbody tr th {\n",
              "        vertical-align: top;\n",
              "    }\n",
              "\n",
              "    .dataframe thead th {\n",
              "        text-align: right;\n",
              "    }\n",
              "</style>\n",
              "<table border=\"1\" class=\"dataframe\">\n",
              "  <thead>\n",
              "    <tr style=\"text-align: right;\">\n",
              "      <th></th>\n",
              "      <th>age</th>\n",
              "      <th>sex</th>\n",
              "      <th>on_thyroxine</th>\n",
              "      <th>query_on_thyroxine</th>\n",
              "      <th>on_antithyroid_medication</th>\n",
              "      <th>thyroid_surgery</th>\n",
              "      <th>query_hypothyroid</th>\n",
              "      <th>query_hyperthyroid</th>\n",
              "      <th>pregnant</th>\n",
              "      <th>sick</th>\n",
              "      <th>tumor</th>\n",
              "      <th>lithium</th>\n",
              "      <th>goitre</th>\n",
              "      <th>TSH_measured</th>\n",
              "      <th>TSH</th>\n",
              "      <th>T3_measured</th>\n",
              "      <th>T3</th>\n",
              "      <th>TT4_measured</th>\n",
              "      <th>TT4</th>\n",
              "      <th>T4U_measured</th>\n",
              "      <th>T4U</th>\n",
              "      <th>FTI_measured</th>\n",
              "      <th>FTI</th>\n",
              "      <th>TBG_measured</th>\n",
              "      <th>sclass</th>\n",
              "    </tr>\n",
              "  </thead>\n",
              "  <tbody>\n",
              "    <tr>\n",
              "      <th>0</th>\n",
              "      <td>45</td>\n",
              "      <td>1.0</td>\n",
              "      <td>f</td>\n",
              "      <td>f</td>\n",
              "      <td>f</td>\n",
              "      <td>f</td>\n",
              "      <td>f</td>\n",
              "      <td>f</td>\n",
              "      <td>f</td>\n",
              "      <td>f</td>\n",
              "      <td>f</td>\n",
              "      <td>f</td>\n",
              "      <td>f</td>\n",
              "      <td>y</td>\n",
              "      <td>1.90</td>\n",
              "      <td>y</td>\n",
              "      <td>1</td>\n",
              "      <td>y</td>\n",
              "      <td>82</td>\n",
              "      <td>y</td>\n",
              "      <td>0.73</td>\n",
              "      <td>y</td>\n",
              "      <td>112</td>\n",
              "      <td>n</td>\n",
              "      <td>sick-euthyroid</td>\n",
              "    </tr>\n",
              "    <tr>\n",
              "      <th>1</th>\n",
              "      <td>64</td>\n",
              "      <td>1.0</td>\n",
              "      <td>f</td>\n",
              "      <td>f</td>\n",
              "      <td>f</td>\n",
              "      <td>f</td>\n",
              "      <td>f</td>\n",
              "      <td>f</td>\n",
              "      <td>f</td>\n",
              "      <td>t</td>\n",
              "      <td>f</td>\n",
              "      <td>f</td>\n",
              "      <td>f</td>\n",
              "      <td>y</td>\n",
              "      <td>0.09</td>\n",
              "      <td>y</td>\n",
              "      <td>1</td>\n",
              "      <td>y</td>\n",
              "      <td>101</td>\n",
              "      <td>y</td>\n",
              "      <td>0.82</td>\n",
              "      <td>y</td>\n",
              "      <td>123</td>\n",
              "      <td>n</td>\n",
              "      <td>sick-euthyroid</td>\n",
              "    </tr>\n",
              "    <tr>\n",
              "      <th>2</th>\n",
              "      <td>56</td>\n",
              "      <td>0.0</td>\n",
              "      <td>f</td>\n",
              "      <td>f</td>\n",
              "      <td>f</td>\n",
              "      <td>f</td>\n",
              "      <td>f</td>\n",
              "      <td>f</td>\n",
              "      <td>f</td>\n",
              "      <td>f</td>\n",
              "      <td>f</td>\n",
              "      <td>f</td>\n",
              "      <td>f</td>\n",
              "      <td>y</td>\n",
              "      <td>0</td>\n",
              "      <td>y</td>\n",
              "      <td>0.80</td>\n",
              "      <td>y</td>\n",
              "      <td>76</td>\n",
              "      <td>y</td>\n",
              "      <td>0.77</td>\n",
              "      <td>y</td>\n",
              "      <td>99</td>\n",
              "      <td>n</td>\n",
              "      <td>sick-euthyroid</td>\n",
              "    </tr>\n",
              "    <tr>\n",
              "      <th>3</th>\n",
              "      <td>78</td>\n",
              "      <td>1.0</td>\n",
              "      <td>t</td>\n",
              "      <td>f</td>\n",
              "      <td>f</td>\n",
              "      <td>f</td>\n",
              "      <td>t</td>\n",
              "      <td>f</td>\n",
              "      <td>f</td>\n",
              "      <td>f</td>\n",
              "      <td>f</td>\n",
              "      <td>f</td>\n",
              "      <td>f</td>\n",
              "      <td>y</td>\n",
              "      <td>2.60</td>\n",
              "      <td>y</td>\n",
              "      <td>0.30</td>\n",
              "      <td>y</td>\n",
              "      <td>87</td>\n",
              "      <td>y</td>\n",
              "      <td>0.95</td>\n",
              "      <td>y</td>\n",
              "      <td>91</td>\n",
              "      <td>n</td>\n",
              "      <td>sick-euthyroid</td>\n",
              "    </tr>\n",
              "    <tr>\n",
              "      <th>4</th>\n",
              "      <td>80</td>\n",
              "      <td>0.0</td>\n",
              "      <td>f</td>\n",
              "      <td>f</td>\n",
              "      <td>f</td>\n",
              "      <td>f</td>\n",
              "      <td>f</td>\n",
              "      <td>f</td>\n",
              "      <td>f</td>\n",
              "      <td>f</td>\n",
              "      <td>f</td>\n",
              "      <td>f</td>\n",
              "      <td>f</td>\n",
              "      <td>y</td>\n",
              "      <td>1.40</td>\n",
              "      <td>y</td>\n",
              "      <td>0.80</td>\n",
              "      <td>y</td>\n",
              "      <td>105</td>\n",
              "      <td>y</td>\n",
              "      <td>0.88</td>\n",
              "      <td>y</td>\n",
              "      <td>120</td>\n",
              "      <td>n</td>\n",
              "      <td>sick-euthyroid</td>\n",
              "    </tr>\n",
              "    <tr>\n",
              "      <th>5</th>\n",
              "      <td>74</td>\n",
              "      <td>1.0</td>\n",
              "      <td>f</td>\n",
              "      <td>f</td>\n",
              "      <td>f</td>\n",
              "      <td>f</td>\n",
              "      <td>f</td>\n",
              "      <td>f</td>\n",
              "      <td>f</td>\n",
              "      <td>f</td>\n",
              "      <td>f</td>\n",
              "      <td>f</td>\n",
              "      <td>f</td>\n",
              "      <td>y</td>\n",
              "      <td>0</td>\n",
              "      <td>y</td>\n",
              "      <td>0.70</td>\n",
              "      <td>y</td>\n",
              "      <td>98</td>\n",
              "      <td>y</td>\n",
              "      <td>0.81</td>\n",
              "      <td>y</td>\n",
              "      <td>121</td>\n",
              "      <td>n</td>\n",
              "      <td>sick-euthyroid</td>\n",
              "    </tr>\n",
              "    <tr>\n",
              "      <th>6</th>\n",
              "      <td>54</td>\n",
              "      <td>1.0</td>\n",
              "      <td>f</td>\n",
              "      <td>f</td>\n",
              "      <td>f</td>\n",
              "      <td>f</td>\n",
              "      <td>f</td>\n",
              "      <td>f</td>\n",
              "      <td>f</td>\n",
              "      <td>f</td>\n",
              "      <td>f</td>\n",
              "      <td>f</td>\n",
              "      <td>f</td>\n",
              "      <td>y</td>\n",
              "      <td>1.40</td>\n",
              "      <td>y</td>\n",
              "      <td>1.10</td>\n",
              "      <td>y</td>\n",
              "      <td>121</td>\n",
              "      <td>y</td>\n",
              "      <td>1.11</td>\n",
              "      <td>y</td>\n",
              "      <td>109</td>\n",
              "      <td>n</td>\n",
              "      <td>sick-euthyroid</td>\n",
              "    </tr>\n",
              "    <tr>\n",
              "      <th>7</th>\n",
              "      <td>42</td>\n",
              "      <td>1.0</td>\n",
              "      <td>f</td>\n",
              "      <td>f</td>\n",
              "      <td>f</td>\n",
              "      <td>f</td>\n",
              "      <td>f</td>\n",
              "      <td>f</td>\n",
              "      <td>f</td>\n",
              "      <td>f</td>\n",
              "      <td>f</td>\n",
              "      <td>f</td>\n",
              "      <td>f</td>\n",
              "      <td>y</td>\n",
              "      <td>2.30</td>\n",
              "      <td>y</td>\n",
              "      <td>1.10</td>\n",
              "      <td>y</td>\n",
              "      <td>93</td>\n",
              "      <td>y</td>\n",
              "      <td>0.73</td>\n",
              "      <td>y</td>\n",
              "      <td>127</td>\n",
              "      <td>n</td>\n",
              "      <td>sick-euthyroid</td>\n",
              "    </tr>\n",
              "    <tr>\n",
              "      <th>8</th>\n",
              "      <td>89</td>\n",
              "      <td>0.0</td>\n",
              "      <td>f</td>\n",
              "      <td>f</td>\n",
              "      <td>f</td>\n",
              "      <td>f</td>\n",
              "      <td>f</td>\n",
              "      <td>f</td>\n",
              "      <td>f</td>\n",
              "      <td>f</td>\n",
              "      <td>f</td>\n",
              "      <td>f</td>\n",
              "      <td>f</td>\n",
              "      <td>y</td>\n",
              "      <td>0.80</td>\n",
              "      <td>y</td>\n",
              "      <td>0.80</td>\n",
              "      <td>y</td>\n",
              "      <td>111</td>\n",
              "      <td>y</td>\n",
              "      <td>0.68</td>\n",
              "      <td>y</td>\n",
              "      <td>165</td>\n",
              "      <td>n</td>\n",
              "      <td>sick-euthyroid</td>\n",
              "    </tr>\n",
              "    <tr>\n",
              "      <th>9</th>\n",
              "      <td>73</td>\n",
              "      <td>0.0</td>\n",
              "      <td>f</td>\n",
              "      <td>f</td>\n",
              "      <td>f</td>\n",
              "      <td>f</td>\n",
              "      <td>f</td>\n",
              "      <td>f</td>\n",
              "      <td>f</td>\n",
              "      <td>f</td>\n",
              "      <td>f</td>\n",
              "      <td>f</td>\n",
              "      <td>f</td>\n",
              "      <td>y</td>\n",
              "      <td>0</td>\n",
              "      <td>y</td>\n",
              "      <td>1</td>\n",
              "      <td>y</td>\n",
              "      <td>96</td>\n",
              "      <td>y</td>\n",
              "      <td>0.89</td>\n",
              "      <td>y</td>\n",
              "      <td>108</td>\n",
              "      <td>n</td>\n",
              "      <td>sick-euthyroid</td>\n",
              "    </tr>\n",
              "  </tbody>\n",
              "</table>\n",
              "</div>"
            ],
            "text/plain": [
              "  age  sex on_thyroxine  ...  FTI TBG_measured          sclass\n",
              "0  45  1.0            f  ...  112            n  sick-euthyroid\n",
              "1  64  1.0            f  ...  123            n  sick-euthyroid\n",
              "2  56  0.0            f  ...   99            n  sick-euthyroid\n",
              "3  78  1.0            t  ...   91            n  sick-euthyroid\n",
              "4  80  0.0            f  ...  120            n  sick-euthyroid\n",
              "5  74  1.0            f  ...  121            n  sick-euthyroid\n",
              "6  54  1.0            f  ...  109            n  sick-euthyroid\n",
              "7  42  1.0            f  ...  127            n  sick-euthyroid\n",
              "8  89  0.0            f  ...  165            n  sick-euthyroid\n",
              "9  73  0.0            f  ...  108            n  sick-euthyroid\n",
              "\n",
              "[10 rows x 25 columns]"
            ]
          },
          "metadata": {
            "tags": []
          }
        }
      ]
    },
    {
      "cell_type": "code",
      "metadata": {
        "id": "e_hx9P-Q5CxG",
        "colab": {
          "base_uri": "https://localhost:8080/",
          "height": 459
        },
        "outputId": "1d0f87a7-8e23-4152-847a-9b06597034c6"
      },
      "source": [
        "#For the classification is important that the dataset only has numerical attributes, so I have to encode the categorical values into numerical values\n",
        "data = data.replace({\"t\":1,\"f\":0, \"y\":1, \"n\":0, \"sick-euthyroid\":1, \"negative\":0,\"F\":1, \"M\":0})\n",
        "display(data.dtypes)"
      ],
      "execution_count": null,
      "outputs": [
        {
          "output_type": "display_data",
          "data": {
            "text/plain": [
              "age                           object\n",
              "sex                          float64\n",
              "on_thyroxine                   int64\n",
              "query_on_thyroxine             int64\n",
              "on_antithyroid_medication      int64\n",
              "thyroid_surgery                int64\n",
              "query_hypothyroid              int64\n",
              "query_hyperthyroid             int64\n",
              "pregnant                       int64\n",
              "sick                           int64\n",
              "tumor                          int64\n",
              "lithium                        int64\n",
              "goitre                         int64\n",
              "TSH_measured                   int64\n",
              "TSH                           object\n",
              "T3_measured                    int64\n",
              "T3                            object\n",
              "TT4_measured                   int64\n",
              "TT4                           object\n",
              "T4U_measured                   int64\n",
              "T4U                           object\n",
              "FTI_measured                   int64\n",
              "FTI                           object\n",
              "TBG_measured                   int64\n",
              "sclass                         int64\n",
              "dtype: object"
            ]
          },
          "metadata": {
            "tags": []
          }
        }
      ]
    },
    {
      "cell_type": "code",
      "metadata": {
        "id": "WvqPW21R5gTz",
        "colab": {
          "base_uri": "https://localhost:8080/",
          "height": 459
        },
        "outputId": "10439802-0cf0-4b71-c6b0-d182384d44db"
      },
      "source": [
        "cols = data.columns[data.dtypes.eq('object')]\n",
        "data[cols] = data[cols].apply(pd.to_numeric, errors='coerce')\n",
        "display(data.dtypes)"
      ],
      "execution_count": null,
      "outputs": [
        {
          "output_type": "display_data",
          "data": {
            "text/plain": [
              "age                          float64\n",
              "sex                          float64\n",
              "on_thyroxine                   int64\n",
              "query_on_thyroxine             int64\n",
              "on_antithyroid_medication      int64\n",
              "thyroid_surgery                int64\n",
              "query_hypothyroid              int64\n",
              "query_hyperthyroid             int64\n",
              "pregnant                       int64\n",
              "sick                           int64\n",
              "tumor                          int64\n",
              "lithium                        int64\n",
              "goitre                         int64\n",
              "TSH_measured                   int64\n",
              "TSH                          float64\n",
              "T3_measured                    int64\n",
              "T3                           float64\n",
              "TT4_measured                   int64\n",
              "TT4                          float64\n",
              "T4U_measured                   int64\n",
              "T4U                          float64\n",
              "FTI_measured                   int64\n",
              "FTI                          float64\n",
              "TBG_measured                   int64\n",
              "sclass                         int64\n",
              "dtype: object"
            ]
          },
          "metadata": {
            "tags": []
          }
        }
      ]
    },
    {
      "cell_type": "code",
      "metadata": {
        "colab": {
          "base_uri": "https://localhost:8080/",
          "height": 442
        },
        "id": "aOdb_MOruuVz",
        "outputId": "fef3cfc4-6ce9-40ec-8bf6-7077d43d8383"
      },
      "source": [
        "\n",
        "# Before the training starts, finding the attributes most related to the target\n",
        "corr_values = abs(data[data.columns[0:]].corr()['sclass'][:])\n",
        "corr_values = corr_values.drop('sclass')\n",
        "display(corr_values.sort_values())\n"
      ],
      "execution_count": null,
      "outputs": [
        {
          "output_type": "display_data",
          "data": {
            "text/plain": [
              "tumor                        0.006782\n",
              "lithium                      0.008025\n",
              "query_on_thyroxine           0.009016\n",
              "thyroid_surgery              0.009825\n",
              "FTI                          0.025210\n",
              "query_hypothyroid            0.025753\n",
              "on_antithyroid_medication    0.027466\n",
              "goitre                       0.038527\n",
              "pregnant                     0.045479\n",
              "query_hyperthyroid           0.055121\n",
              "sex                          0.055874\n",
              "TSH                          0.056549\n",
              "on_thyroxine                 0.085346\n",
              "FTI_measured                 0.092850\n",
              "T4U_measured                 0.093053\n",
              "TT4_measured                 0.093257\n",
              "TBG_measured                 0.095475\n",
              "TSH_measured                 0.126621\n",
              "TT4                          0.127213\n",
              "T3_measured                  0.169301\n",
              "age                          0.192396\n",
              "sick                         0.193554\n",
              "T4U                          0.220305\n",
              "T3                           0.382726\n",
              "Name: sclass, dtype: float64"
            ]
          },
          "metadata": {
            "tags": []
          }
        }
      ]
    },
    {
      "cell_type": "code",
      "metadata": {
        "colab": {
          "base_uri": "https://localhost:8080/",
          "height": 306
        },
        "id": "GN8k2NXouvWm",
        "outputId": "381772a2-301e-4317-e108-7f788191bfe5"
      },
      "source": [
        "\n",
        "# Before the training starts, finding the attributes most related to the target\n",
        "corr_values = abs(data[data.columns[0:]].corr()['sclass'][:])\n",
        "corr_values = corr_values.drop('sclass')\n",
        "corr_values = corr_values[corr_values > 0.04]\n",
        "display(corr_values)"
      ],
      "execution_count": null,
      "outputs": [
        {
          "output_type": "display_data",
          "data": {
            "text/plain": [
              "age                   0.192396\n",
              "sex                   0.055874\n",
              "on_thyroxine          0.085346\n",
              "query_hyperthyroid    0.055121\n",
              "pregnant              0.045479\n",
              "sick                  0.193554\n",
              "TSH_measured          0.126621\n",
              "TSH                   0.056549\n",
              "T3_measured           0.169301\n",
              "T3                    0.382726\n",
              "TT4_measured          0.093257\n",
              "TT4                   0.127213\n",
              "T4U_measured          0.093053\n",
              "T4U                   0.220305\n",
              "FTI_measured          0.092850\n",
              "TBG_measured          0.095475\n",
              "Name: sclass, dtype: float64"
            ]
          },
          "metadata": {
            "tags": []
          }
        }
      ]
    },
    {
      "cell_type": "code",
      "metadata": {
        "id": "vChFF2Qe5nan"
      },
      "source": [
        "#dividing the dataset into two sets: the training set and the testing set\n",
        "def holdout(dataframe):\n",
        "  x = dataframe[corr_values.index]\n",
        "  y = dataframe['sclass']\n",
        "  X_train, X_test, y_train, y_test = train_test_split(x, y, test_size=0.30, random_state=42) \n",
        "  return X_train, X_test, y_train, y_test\n",
        "\n",
        "X_train, X_test, y_train, y_test = holdout(data)"
      ],
      "execution_count": null,
      "outputs": []
    },
    {
      "cell_type": "code",
      "metadata": {
        "id": "yYKp-LN46cJZ"
      },
      "source": [
        "classifiers = {\n",
        "    \"XGBClassifier\" : XGBClassifier(learning_rate=0.01),\n",
        "    \"CatBoostClassifier\" : CatBoostClassifier(max_depth=4,verbose=0)\n",
        "}"
      ],
      "execution_count": null,
      "outputs": []
    },
    {
      "cell_type": "code",
      "metadata": {
        "id": "JxP9JG116kgZ",
        "colab": {
          "base_uri": "https://localhost:8080/",
          "height": 802
        },
        "outputId": "4f6de6ea-08a4-465c-cb99-6fb1a444d994"
      },
      "source": [
        "import matplotlib.pyplot as plt  \n",
        "from sklearn import datasets, metrics, model_selection\n",
        "from sklearn.metrics import roc_auc_score\n",
        "def classification(classifiers, X_train, X_test, y_train, y_test):\n",
        "  res = pd.DataFrame(columns=[\"Classifier\", \n",
        "                                \"Accuracy\", \n",
        "                                \"Precision\", \n",
        "                                \"Recall\", \n",
        "                                \"FScore\"])\n",
        "  for name, clf in classifiers.items():\n",
        "            clf.fit(X_train, y_train)\n",
        "            y_pred = clf.predict(X_test)\n",
        "            pr, rc, fs, sup = metrics.precision_recall_fscore_support(y_test, y_pred, average='macro')\n",
        "            res = res.append({\"Classifier\": name,\"Accuracy\": round(metrics.accuracy_score(y_test, y_pred), 4),\n",
        "                              \"Precision\": round(pr, 4), \"Recall\":round(rc, 4), \"FScore\":round(fs, 4)}, ignore_index=True)\n",
        "            print(\"Confusion matrix for: \", name)\n",
        "            display(confusion_matrix(y_test, y_pred))\n",
        "            #X_train, X_test, y_train, y_test = holdout(data)\n",
        "            #lf = CatBoostClassifier(max_depth=4,verbose=0)\n",
        "            #clf.fit(X_train1, y_train1)\n",
        "            # Getting predicted probabilities\n",
        "            y_score1 = clf.predict_proba(X_test)[:,1]\n",
        "            y_score2 = clf.predict_proba(X_test)[:,1]\n",
        "            print('roc_auc_score: ', roc_auc_score(y_test, y_score1))\n",
        "            #SVC(random_state=0)\n",
        "            metrics.plot_roc_curve(clf, X_test, y_test)  \n",
        "            plt.show()\n",
        "  res.set_index(\"FScore\", inplace=True)\n",
        "  res.sort_values(by=\"FScore\", ascending=False, inplace=True)   \n",
        "  return res\n",
        "\n",
        "display(classification(classifiers, X_train, X_test, y_train, y_test))"
      ],
      "execution_count": null,
      "outputs": [
        {
          "output_type": "stream",
          "text": [
            "Confusion matrix for:  XGBClassifier\n"
          ],
          "name": "stdout"
        },
        {
          "output_type": "display_data",
          "data": {
            "text/plain": [
              "array([[831,  14],\n",
              "       [ 26,  78]])"
            ]
          },
          "metadata": {
            "tags": []
          }
        },
        {
          "output_type": "stream",
          "text": [
            "roc_auc_score:  0.9583238507055074\n"
          ],
          "name": "stdout"
        },
        {
          "output_type": "display_data",
          "data": {
            "image/png": "[encoded data removed]",
            "text/plain": [
              "<Figure size 432x288 with 1 Axes>"
            ]
          },
          "metadata": {
            "tags": [],
            "needs_background": "light"
          }
        },
        {
          "output_type": "stream",
          "text": [
            "Confusion matrix for:  CatBoostClassifier\n"
          ],
          "name": "stdout"
        },
        {
          "output_type": "display_data",
          "data": {
            "text/plain": [
              "array([[832,  13],\n",
              "       [ 19,  85]])"
            ]
          },
          "metadata": {
            "tags": []
          }
        },
        {
          "output_type": "stream",
          "text": [
            "roc_auc_score:  0.9826695493855258\n"
          ],
          "name": "stdout"
        },
        {
          "output_type": "display_data",
          "data": {
            "image/png": "[encoded data removed]",
            "text/plain": [
              "<Figure size 432x288 with 1 Axes>"
            ]
          },
          "metadata": {
            "tags": [],
            "needs_background": "light"
          }
        },
        {
          "output_type": "display_data",
          "data": {
            "text/html": [
              "<div>\n",
              "<style scoped>\n",
              "    .dataframe tbody tr th:only-of-type {\n",
              "        vertical-align: middle;\n",
              "    }\n",
              "\n",
              "    .dataframe tbody tr th {\n",
              "        vertical-align: top;\n",
              "    }\n",
              "\n",
              "    .dataframe thead th {\n",
              "        text-align: right;\n",
              "    }\n",
              "</style>\n",
              "<table border=\"1\" class=\"dataframe\">\n",
              "  <thead>\n",
              "    <tr style=\"text-align: right;\">\n",
              "      <th></th>\n",
              "      <th>Classifier</th>\n",
              "      <th>Accuracy</th>\n",
              "      <th>Precision</th>\n",
              "      <th>Recall</th>\n",
              "    </tr>\n",
              "    <tr>\n",
              "      <th>FScore</th>\n",
              "      <th></th>\n",
              "      <th></th>\n",
              "      <th></th>\n",
              "      <th></th>\n",
              "    </tr>\n",
              "  </thead>\n",
              "  <tbody>\n",
              "    <tr>\n",
              "      <th>0.9114</th>\n",
              "      <td>CatBoostClassifier</td>\n",
              "      <td>0.9663</td>\n",
              "      <td>0.9225</td>\n",
              "      <td>0.9010</td>\n",
              "    </tr>\n",
              "    <tr>\n",
              "      <th>0.8862</th>\n",
              "      <td>XGBClassifier</td>\n",
              "      <td>0.9579</td>\n",
              "      <td>0.9087</td>\n",
              "      <td>0.8667</td>\n",
              "    </tr>\n",
              "  </tbody>\n",
              "</table>\n",
              "</div>"
            ],
            "text/plain": [
              "                Classifier  Accuracy  Precision  Recall\n",
              "FScore                                                 \n",
              "0.9114  CatBoostClassifier    0.9663     0.9225  0.9010\n",
              "0.8862       XGBClassifier    0.9579     0.9087  0.8667"
            ]
          },
          "metadata": {
            "tags": []
          }
        }
      ]
    },
    {
      "cell_type": "code",
      "metadata": {
        "id": "x9SdqHUj7Aue",
        "colab": {
          "base_uri": "https://localhost:8080/",
          "height": 85
        },
        "outputId": "9dd0b1aa-744f-4fd2-d73e-d79655c2c9e2"
      },
      "source": [
        "display(data.shape)\n",
        "data.sclass.value_counts()"
      ],
      "execution_count": null,
      "outputs": [
        {
          "output_type": "display_data",
          "data": {
            "text/plain": [
              "(3162, 25)"
            ]
          },
          "metadata": {
            "tags": []
          }
        },
        {
          "output_type": "execute_result",
          "data": {
            "text/plain": [
              "0    2870\n",
              "1     292\n",
              "Name: sclass, dtype: int64"
            ]
          },
          "metadata": {
            "tags": []
          },
          "execution_count": 35
        }
      ]
    },
    {
      "cell_type": "code",
      "metadata": {
        "id": "lbeb_h1r7FTU",
        "colab": {
          "base_uri": "https://localhost:8080/",
          "height": 459
        },
        "outputId": "98b1982b-7f34-489d-8da7-9da57e7fb854"
      },
      "source": [
        "#fill the nan values with the spline interpolation\n",
        "data1 = data.interpolate(method = 'spline', order = 3)\n",
        "display(data1.isna().sum())"
      ],
      "execution_count": null,
      "outputs": [
        {
          "output_type": "display_data",
          "data": {
            "text/plain": [
              "age                          0\n",
              "sex                          0\n",
              "on_thyroxine                 0\n",
              "query_on_thyroxine           0\n",
              "on_antithyroid_medication    0\n",
              "thyroid_surgery              0\n",
              "query_hypothyroid            0\n",
              "query_hyperthyroid           0\n",
              "pregnant                     0\n",
              "sick                         0\n",
              "tumor                        0\n",
              "lithium                      0\n",
              "goitre                       0\n",
              "TSH_measured                 0\n",
              "TSH                          0\n",
              "T3_measured                  0\n",
              "T3                           0\n",
              "TT4_measured                 0\n",
              "TT4                          0\n",
              "T4U_measured                 0\n",
              "T4U                          0\n",
              "FTI_measured                 0\n",
              "FTI                          0\n",
              "TBG_measured                 0\n",
              "sclass                       0\n",
              "dtype: int64"
            ]
          },
          "metadata": {
            "tags": []
          }
        }
      ]
    },
    {
      "cell_type": "code",
      "metadata": {
        "id": "PfMwVHAd7WBK"
      },
      "source": [
        "classifiers1 = {\n",
        "    \"XGBClassifier\" : XGBClassifier(learning_rate=0.01),\n",
        "    \"CatBoostClassifier\" : CatBoostClassifier(max_depth=4,verbose=0),\n",
        "    \"Nearest Neighbors\" : KNeighborsClassifier(4),\n",
        "    \"Decision Tree\" : DecisionTreeClassifier(class_weight = 'balanced'),\n",
        "    \"Random Forest\": RandomForestClassifier(class_weight = 'balanced',random_state = 1),\n",
        "    \"ExtraTrees\": ExtraTreesClassifier(class_weight = 'balanced',random_state = 1),\n",
        "    \"MLPClassifier\": MLPClassifier(hidden_layer_sizes=(256,128,64,32),activation=\"relu\",random_state=1),\n",
        "    \"Naive Bayes\" : GaussianNB(),\n",
        "    \"LGBMClassifier\" : lgb.LGBMClassifier(),\n",
        "    \"svc\": SVC(probability=True)\n",
        "}"
      ],
      "execution_count": null,
      "outputs": []
    },
    {
      "cell_type": "code",
      "metadata": {
        "id": "hI5ZJZB27WHh",
        "colab": {
          "base_uri": "https://localhost:8080/",
          "height": 1000
        },
        "outputId": "95e1ee78-e63d-423e-f7a3-999821a10eec"
      },
      "source": [
        "corr_values = abs(data1[data1.columns[0:]].corr()['sclass'][:])\n",
        "corr_values = corr_values.drop('sclass')\n",
        "corr_values = corr_values[corr_values > 0.04]\n",
        "display(corr_values)\n",
        "\n",
        "X_train1, X_test1, y_train1, y_test1 = holdout(data1)\n",
        "\n",
        "display(classification(classifiers1,X_train1, X_test1, y_train1, y_test1))"
      ],
      "execution_count": null,
      "outputs": [
        {
          "output_type": "display_data",
          "data": {
            "text/plain": [
              "age                   0.192396\n",
              "sex                   0.055874\n",
              "on_thyroxine          0.085346\n",
              "query_hyperthyroid    0.055121\n",
              "pregnant              0.045479\n",
              "sick                  0.193554\n",
              "TSH_measured          0.126621\n",
              "TSH                   0.048216\n",
              "T3_measured           0.169301\n",
              "T3                    0.384877\n",
              "TT4_measured          0.093257\n",
              "TT4                   0.121423\n",
              "T4U_measured          0.093053\n",
              "T4U                   0.221054\n",
              "FTI_measured          0.092850\n",
              "TBG_measured          0.095475\n",
              "Name: sclass, dtype: float64"
            ]
          },
          "metadata": {
            "tags": []
          }
        },
        {
          "output_type": "stream",
          "text": [
            "Confusion matrix for:  XGBClassifier\n"
          ],
          "name": "stdout"
        },
        {
          "output_type": "display_data",
          "data": {
            "text/plain": [
              "array([[831,  14],\n",
              "       [ 24,  80]])"
            ]
          },
          "metadata": {
            "tags": []
          }
        },
        {
          "output_type": "stream",
          "text": [
            "roc_auc_score:  0.9484922621756942\n"
          ],
          "name": "stdout"
        },
        {
          "output_type": "display_data",
          "data": {
            "image/png": "[encoded data removed]",
            "text/plain": [
              "<Figure size 432x288 with 1 Axes>"
            ]
          },
          "metadata": {
            "tags": [],
            "needs_background": "light"
          }
        },
        {
          "output_type": "stream",
          "text": [
            "Confusion matrix for:  CatBoostClassifier\n"
          ],
          "name": "stdout"
        },
        {
          "output_type": "display_data",
          "data": {
            "text/plain": [
              "array([[833,  12],\n",
              "       [ 19,  85]])"
            ]
          },
          "metadata": {
            "tags": []
          }
        },
        {
          "output_type": "stream",
          "text": [
            "roc_auc_score:  0.9819185252617205\n"
          ],
          "name": "stdout"
        },
        {
          "output_type": "display_data",
          "data": {
            "image/png": "[encoded data removed]",
            "text/plain": [
              "<Figure size 432x288 with 1 Axes>"
            ]
          },
          "metadata": {
            "tags": [],
            "needs_background": "light"
          }
        },
        {
          "output_type": "stream",
          "text": [
            "Confusion matrix for:  Nearest Neighbors\n"
          ],
          "name": "stdout"
        },
        {
          "output_type": "display_data",
          "data": {
            "text/plain": [
              "array([[838,   7],\n",
              "       [ 92,  12]])"
            ]
          },
          "metadata": {
            "tags": []
          }
        },
        {
          "output_type": "stream",
          "text": [
            "roc_auc_score:  0.7062187073281747\n"
          ],
          "name": "stdout"
        },
        {
          "output_type": "display_data",
          "data": {
            "image/png": "[encoded data removed]",
            "text/plain": [
              "<Figure size 432x288 with 1 Axes>"
            ]
          },
          "metadata": {
            "tags": [],
            "needs_background": "light"
          }
        },
        {
          "output_type": "stream",
          "text": [
            "Confusion matrix for:  Decision Tree\n"
          ],
          "name": "stdout"
        },
        {
          "output_type": "display_data",
          "data": {
            "text/plain": [
              "array([[825,  20],\n",
              "       [ 21,  83]])"
            ]
          },
          "metadata": {
            "tags": []
          }
        },
        {
          "output_type": "stream",
          "text": [
            "roc_auc_score:  0.8872041420118343\n"
          ],
          "name": "stdout"
        },
        {
          "output_type": "display_data",
          "data": {
            "image/png": "[encoded data removed]",
            "text/plain": [
              "<Figure size 432x288 with 1 Axes>"
            ]
          },
          "metadata": {
            "tags": [],
            "needs_background": "light"
          }
        },
        {
          "output_type": "stream",
          "text": [
            "Confusion matrix for:  Random Forest\n"
          ],
          "name": "stdout"
        },
        {
          "output_type": "display_data",
          "data": {
            "text/plain": [
              "array([[835,  10],\n",
              "       [ 17,  87]])"
            ]
          },
          "metadata": {
            "tags": []
          }
        },
        {
          "output_type": "stream",
          "text": [
            "roc_auc_score:  0.9760411925352754\n"
          ],
          "name": "stdout"
        },
        {
          "output_type": "display_data",
          "data": {
            "image/png": "[encoded data removed]",
            "text/plain": [
              "<Figure size 432x288 with 1 Axes>"
            ]
          },
          "metadata": {
            "tags": [],
            "needs_background": "light"
          }
        },
        {
          "output_type": "stream",
          "text": [
            "Confusion matrix for:  ExtraTrees\n"
          ],
          "name": "stdout"
        },
        {
          "output_type": "display_data",
          "data": {
            "text/plain": [
              "array([[836,   9],\n",
              "       [ 33,  71]])"
            ]
          },
          "metadata": {
            "tags": []
          }
        },
        {
          "output_type": "stream",
          "text": [
            "roc_auc_score:  0.9633022303140646\n"
          ],
          "name": "stdout"
        },
        {
          "output_type": "display_data",
          "data": {
            "image/png": "[encoded data removed]",
            "text/plain": [
              "<Figure size 432x288 with 1 Axes>"
            ]
          },
          "metadata": {
            "tags": [],
            "needs_background": "light"
          }
        },
        {
          "output_type": "stream",
          "text": [
            "Confusion matrix for:  MLPClassifier\n"
          ],
          "name": "stdout"
        },
        {
          "output_type": "display_data",
          "data": {
            "text/plain": [
              "array([[826,  19],\n",
              "       [ 19,  85]])"
            ]
          },
          "metadata": {
            "tags": []
          }
        },
        {
          "output_type": "stream",
          "text": [
            "roc_auc_score:  0.9615725989986346\n"
          ],
          "name": "stdout"
        },
        {
          "output_type": "display_data",
          "data": {
            "image/png": "[encoded data removed]",
            "text/plain": [
              "<Figure size 432x288 with 1 Axes>"
            ]
          },
          "metadata": {
            "tags": [],
            "needs_background": "light"
          }
        },
        {
          "output_type": "stream",
          "text": [
            "Confusion matrix for:  Naive Bayes\n"
          ],
          "name": "stdout"
        },
        {
          "output_type": "display_data",
          "data": {
            "text/plain": [
              "array([[277, 568],\n",
              "       [  2, 102]])"
            ]
          },
          "metadata": {
            "tags": []
          }
        },
        {
          "output_type": "stream",
          "text": [
            "roc_auc_score:  0.8186504324078288\n"
          ],
          "name": "stdout"
        },
        {
          "output_type": "display_data",
          "data": {
            "image/png": "[encoded data removed]",
            "text/plain": [
              "<Figure size 432x288 with 1 Axes>"
            ]
          },
          "metadata": {
            "tags": [],
            "needs_background": "light"
          }
        },
        {
          "output_type": "stream",
          "text": [
            "Confusion matrix for:  LGBMClassifier\n"
          ],
          "name": "stdout"
        },
        {
          "output_type": "display_data",
          "data": {
            "text/plain": [
              "array([[831,  14],\n",
              "       [ 19,  85]])"
            ]
          },
          "metadata": {
            "tags": []
          }
        },
        {
          "output_type": "stream",
          "text": [
            "roc_auc_score:  0.97212107419208\n"
          ],
          "name": "stdout"
        },
        {
          "output_type": "display_data",
          "data": {
            "image/png": "[encoded data removed]",
            "text/plain": [
              "<Figure size 432x288 with 1 Axes>"
            ]
          },
          "metadata": {
            "tags": [],
            "needs_background": "light"
          }
        },
        {
          "output_type": "stream",
          "text": [
            "Confusion matrix for:  svc\n"
          ],
          "name": "stdout"
        },
        {
          "output_type": "stream",
          "text": [
            "/usr/local/lib/python3.7/dist-packages/sklearn/metrics/_classification.py:1272: UndefinedMetricWarning: Precision and F-score are ill-defined and being set to 0.0 in labels with no predicted samples. Use `zero_division` parameter to control this behavior.\n",
            "  _warn_prf(average, modifier, msg_start, len(result))\n"
          ],
          "name": "stderr"
        },
        {
          "output_type": "display_data",
          "data": {
            "text/plain": [
              "array([[845,   0],\n",
              "       [104,   0]])"
            ]
          },
          "metadata": {
            "tags": []
          }
        },
        {
          "output_type": "stream",
          "text": [
            "roc_auc_score:  0.9595584888484296\n"
          ],
          "name": "stdout"
        },
        {
          "output_type": "display_data",
          "data": {
            "image/png": "[encoded data removed]",
            "text/plain": [
              "<Figure size 432x288 with 1 Axes>"
            ]
          },
          "metadata": {
            "tags": [],
            "needs_background": "light"
          }
        },
        {
          "output_type": "display_data",
          "data": {
            "text/html": [
              "<div>\n",
              "<style scoped>\n",
              "    .dataframe tbody tr th:only-of-type {\n",
              "        vertical-align: middle;\n",
              "    }\n",
              "\n",
              "    .dataframe tbody tr th {\n",
              "        vertical-align: top;\n",
              "    }\n",
              "\n",
              "    .dataframe thead th {\n",
              "        text-align: right;\n",
              "    }\n",
              "</style>\n",
              "<table border=\"1\" class=\"dataframe\">\n",
              "  <thead>\n",
              "    <tr style=\"text-align: right;\">\n",
              "      <th></th>\n",
              "      <th>Classifier</th>\n",
              "      <th>Accuracy</th>\n",
              "      <th>Precision</th>\n",
              "      <th>Recall</th>\n",
              "    </tr>\n",
              "    <tr>\n",
              "      <th>FScore</th>\n",
              "      <th></th>\n",
              "      <th></th>\n",
              "      <th></th>\n",
              "      <th></th>\n",
              "    </tr>\n",
              "  </thead>\n",
              "  <tbody>\n",
              "    <tr>\n",
              "      <th>0.9249</th>\n",
              "      <td>Random Forest</td>\n",
              "      <td>0.9715</td>\n",
              "      <td>0.9385</td>\n",
              "      <td>0.9124</td>\n",
              "    </tr>\n",
              "    <tr>\n",
              "      <th>0.9138</th>\n",
              "      <td>CatBoostClassifier</td>\n",
              "      <td>0.9673</td>\n",
              "      <td>0.9270</td>\n",
              "      <td>0.9016</td>\n",
              "    </tr>\n",
              "    <tr>\n",
              "      <th>0.9090</th>\n",
              "      <td>LGBMClassifier</td>\n",
              "      <td>0.9652</td>\n",
              "      <td>0.9181</td>\n",
              "      <td>0.9004</td>\n",
              "    </tr>\n",
              "    <tr>\n",
              "      <th>0.8974</th>\n",
              "      <td>MLPClassifier</td>\n",
              "      <td>0.9600</td>\n",
              "      <td>0.8974</td>\n",
              "      <td>0.8974</td>\n",
              "    </tr>\n",
              "    <tr>\n",
              "      <th>0.8929</th>\n",
              "      <td>XGBClassifier</td>\n",
              "      <td>0.9600</td>\n",
              "      <td>0.9115</td>\n",
              "      <td>0.8763</td>\n",
              "    </tr>\n",
              "    <tr>\n",
              "      <th>0.8888</th>\n",
              "      <td>Decision Tree</td>\n",
              "      <td>0.9568</td>\n",
              "      <td>0.8905</td>\n",
              "      <td>0.8872</td>\n",
              "    </tr>\n",
              "    <tr>\n",
              "      <th>0.8736</th>\n",
              "      <td>ExtraTrees</td>\n",
              "      <td>0.9557</td>\n",
              "      <td>0.9248</td>\n",
              "      <td>0.8360</td>\n",
              "    </tr>\n",
              "    <tr>\n",
              "      <th>0.5697</th>\n",
              "      <td>Nearest Neighbors</td>\n",
              "      <td>0.8957</td>\n",
              "      <td>0.7663</td>\n",
              "      <td>0.5536</td>\n",
              "    </tr>\n",
              "    <tr>\n",
              "      <th>0.4710</th>\n",
              "      <td>svc</td>\n",
              "      <td>0.8904</td>\n",
              "      <td>0.4452</td>\n",
              "      <td>0.5000</td>\n",
              "    </tr>\n",
              "    <tr>\n",
              "      <th>0.3782</th>\n",
              "      <td>Naive Bayes</td>\n",
              "      <td>0.3994</td>\n",
              "      <td>0.5725</td>\n",
              "      <td>0.6543</td>\n",
              "    </tr>\n",
              "  </tbody>\n",
              "</table>\n",
              "</div>"
            ],
            "text/plain": [
              "                Classifier  Accuracy  Precision  Recall\n",
              "FScore                                                 \n",
              "0.9249       Random Forest    0.9715     0.9385  0.9124\n",
              "0.9138  CatBoostClassifier    0.9673     0.9270  0.9016\n",
              "0.9090      LGBMClassifier    0.9652     0.9181  0.9004\n",
              "0.8974       MLPClassifier    0.9600     0.8974  0.8974\n",
              "0.8929       XGBClassifier    0.9600     0.9115  0.8763\n",
              "0.8888       Decision Tree    0.9568     0.8905  0.8872\n",
              "0.8736          ExtraTrees    0.9557     0.9248  0.8360\n",
              "0.5697   Nearest Neighbors    0.8957     0.7663  0.5536\n",
              "0.4710                 svc    0.8904     0.4452  0.5000\n",
              "0.3782         Naive Bayes    0.3994     0.5725  0.6543"
            ]
          },
          "metadata": {
            "tags": []
          }
        }
      ]
    },
    {
      "cell_type": "code",
      "metadata": {
        "id": "nVfwNFH37kjT"
      },
      "source": [
        "def fdiscretizer(attribute,dataframe):\n",
        "    enc = LabelEncoder()\n",
        "    dataframe[attribute] = pd.qcut(dataframe[attribute], 20, duplicates='drop')\n",
        "    dataframe[attribute] = enc.fit_transform(dataframe[attribute])\n",
        "    dataframe = dataframe.convert_dtypes(convert_integer=True)\n",
        "\n",
        "data2 = data1.copy()\n",
        "fdiscretizer('age',data2)\n",
        "fdiscretizer('TSH',data2)\n",
        "fdiscretizer('T3',data2)\n",
        "fdiscretizer('TT4',data2)\n",
        "fdiscretizer('T4U',data2)\n",
        "fdiscretizer('FTI',data2)"
      ],
      "execution_count": null,
      "outputs": []
    },
    {
      "cell_type": "code",
      "metadata": {
        "id": "Gvvio3tl7xxF",
        "colab": {
          "base_uri": "https://localhost:8080/",
          "height": 1000
        },
        "outputId": "5adbdaf3-416e-4800-bbd1-9a048aaeb1d6"
      },
      "source": [
        "corr_values = abs(data2[data2.columns[0:]].corr()['sclass'][:])\n",
        "corr_values = corr_values.drop('sclass')\n",
        "corr_values = corr_values[corr_values > 0.04]\n",
        "display(corr_values)\n",
        "\n",
        "X_train2, X_test2, y_train2, y_test2 = holdout(data2)\n",
        "\n",
        "display(classification(classifiers1,X_train2, X_test2, y_train2, y_test2))"
      ],
      "execution_count": null,
      "outputs": [
        {
          "output_type": "display_data",
          "data": {
            "text/plain": [
              "age                   0.192984\n",
              "sex                   0.055874\n",
              "on_thyroxine          0.085346\n",
              "query_hyperthyroid    0.055121\n",
              "pregnant              0.045479\n",
              "sick                  0.193554\n",
              "TSH_measured          0.126621\n",
              "TSH                   0.043371\n",
              "T3_measured           0.169301\n",
              "T3                    0.430705\n",
              "TT4_measured          0.093257\n",
              "TT4                   0.151849\n",
              "T4U_measured          0.093053\n",
              "T4U                   0.264928\n",
              "FTI_measured          0.092850\n",
              "TBG_measured          0.095475\n",
              "Name: sclass, dtype: float64"
            ]
          },
          "metadata": {
            "tags": []
          }
        },
        {
          "output_type": "stream",
          "text": [
            "Confusion matrix for:  XGBClassifier\n"
          ],
          "name": "stdout"
        },
        {
          "output_type": "display_data",
          "data": {
            "text/plain": [
              "array([[836,   9],\n",
              "       [ 29,  75]])"
            ]
          },
          "metadata": {
            "tags": []
          }
        },
        {
          "output_type": "stream",
          "text": [
            "roc_auc_score:  0.9488962221210742\n"
          ],
          "name": "stdout"
        },
        {
          "output_type": "display_data",
          "data": {
            "image/png": "[encoded data removed]",
            "text/plain": [
              "<Figure size 432x288 with 1 Axes>"
            ]
          },
          "metadata": {
            "tags": [],
            "needs_background": "light"
          }
        },
        {
          "output_type": "stream",
          "text": [
            "Confusion matrix for:  CatBoostClassifier\n"
          ],
          "name": "stdout"
        },
        {
          "output_type": "display_data",
          "data": {
            "text/plain": [
              "array([[835,  10],\n",
              "       [ 25,  79]])"
            ]
          },
          "metadata": {
            "tags": []
          }
        },
        {
          "output_type": "stream",
          "text": [
            "roc_auc_score:  0.9760582612653619\n"
          ],
          "name": "stdout"
        },
        {
          "output_type": "display_data",
          "data": {
            "image/png": "[encoded data removed]",
            "text/plain": [
              "<Figure size 432x288 with 1 Axes>"
            ]
          },
          "metadata": {
            "tags": [],
            "needs_background": "light"
          }
        },
        {
          "output_type": "stream",
          "text": [
            "Confusion matrix for:  Nearest Neighbors\n"
          ],
          "name": "stdout"
        },
        {
          "output_type": "display_data",
          "data": {
            "text/plain": [
              "array([[841,   4],\n",
              "       [ 53,  51]])"
            ]
          },
          "metadata": {
            "tags": []
          }
        },
        {
          "output_type": "stream",
          "text": [
            "roc_auc_score:  0.917523896222121\n"
          ],
          "name": "stdout"
        },
        {
          "output_type": "display_data",
          "data": {
            "image/png": "[encoded data removed]",
            "text/plain": [
              "<Figure size 432x288 with 1 Axes>"
            ]
          },
          "metadata": {
            "tags": [],
            "needs_background": "light"
          }
        },
        {
          "output_type": "stream",
          "text": [
            "Confusion matrix for:  Decision Tree\n"
          ],
          "name": "stdout"
        },
        {
          "output_type": "display_data",
          "data": {
            "text/plain": [
              "array([[824,  21],\n",
              "       [ 28,  76]])"
            ]
          },
          "metadata": {
            "tags": []
          }
        },
        {
          "output_type": "stream",
          "text": [
            "roc_auc_score:  0.8529585798816569\n"
          ],
          "name": "stdout"
        },
        {
          "output_type": "display_data",
          "data": {
            "image/png": "[encoded data removed]",
            "text/plain": [
              "<Figure size 432x288 with 1 Axes>"
            ]
          },
          "metadata": {
            "tags": [],
            "needs_background": "light"
          }
        },
        {
          "output_type": "stream",
          "text": [
            "Confusion matrix for:  Random Forest\n"
          ],
          "name": "stdout"
        },
        {
          "output_type": "display_data",
          "data": {
            "text/plain": [
              "array([[837,   8],\n",
              "       [ 31,  73]])"
            ]
          },
          "metadata": {
            "tags": []
          }
        },
        {
          "output_type": "stream",
          "text": [
            "roc_auc_score:  0.9682635411925352\n"
          ],
          "name": "stdout"
        },
        {
          "output_type": "display_data",
          "data": {
            "image/png": "[encoded data removed]",
            "text/plain": [
              "<Figure size 432x288 with 1 Axes>"
            ]
          },
          "metadata": {
            "tags": [],
            "needs_background": "light"
          }
        },
        {
          "output_type": "stream",
          "text": [
            "Confusion matrix for:  ExtraTrees\n"
          ],
          "name": "stdout"
        },
        {
          "output_type": "display_data",
          "data": {
            "text/plain": [
              "array([[836,   9],\n",
              "       [ 38,  66]])"
            ]
          },
          "metadata": {
            "tags": []
          }
        },
        {
          "output_type": "stream",
          "text": [
            "roc_auc_score:  0.9668866636322258\n"
          ],
          "name": "stdout"
        },
        {
          "output_type": "display_data",
          "data": {
            "image/png": "[encoded data removed]",
            "text/plain": [
              "<Figure size 432x288 with 1 Axes>"
            ]
          },
          "metadata": {
            "tags": [],
            "needs_background": "light"
          }
        },
        {
          "output_type": "stream",
          "text": [
            "Confusion matrix for:  MLPClassifier\n"
          ],
          "name": "stdout"
        },
        {
          "output_type": "display_data",
          "data": {
            "text/plain": [
              "array([[822,  23],\n",
              "       [ 31,  73]])"
            ]
          },
          "metadata": {
            "tags": []
          }
        },
        {
          "output_type": "stream",
          "text": [
            "roc_auc_score:  0.9464610832954028\n"
          ],
          "name": "stdout"
        },
        {
          "output_type": "display_data",
          "data": {
            "image/png": "[encoded data removed]",
            "text/plain": [
              "<Figure size 432x288 with 1 Axes>"
            ]
          },
          "metadata": {
            "tags": [],
            "needs_background": "light"
          }
        },
        {
          "output_type": "stream",
          "text": [
            "Confusion matrix for:  Naive Bayes\n"
          ],
          "name": "stdout"
        },
        {
          "output_type": "display_data",
          "data": {
            "text/plain": [
              "array([[235, 610],\n",
              "       [  2, 102]])"
            ]
          },
          "metadata": {
            "tags": []
          }
        },
        {
          "output_type": "stream",
          "text": [
            "roc_auc_score:  0.707925580336823\n"
          ],
          "name": "stdout"
        },
        {
          "output_type": "display_data",
          "data": {
            "image/png": "[encoded data removed]",
            "text/plain": [
              "<Figure size 432x288 with 1 Axes>"
            ]
          },
          "metadata": {
            "tags": [],
            "needs_background": "light"
          }
        },
        {
          "output_type": "stream",
          "text": [
            "Confusion matrix for:  LGBMClassifier\n"
          ],
          "name": "stdout"
        },
        {
          "output_type": "display_data",
          "data": {
            "text/plain": [
              "array([[830,  15],\n",
              "       [ 26,  78]])"
            ]
          },
          "metadata": {
            "tags": []
          }
        },
        {
          "output_type": "stream",
          "text": [
            "roc_auc_score:  0.961185707783341\n"
          ],
          "name": "stdout"
        },
        {
          "output_type": "display_data",
          "data": {
            "image/png": "[encoded data removed]",
            "text/plain": [
              "<Figure size 432x288 with 1 Axes>"
            ]
          },
          "metadata": {
            "tags": [],
            "needs_background": "light"
          }
        },
        {
          "output_type": "stream",
          "text": [
            "Confusion matrix for:  svc\n"
          ],
          "name": "stdout"
        },
        {
          "output_type": "display_data",
          "data": {
            "text/plain": [
              "array([[837,   8],\n",
              "       [ 46,  58]])"
            ]
          },
          "metadata": {
            "tags": []
          }
        },
        {
          "output_type": "stream",
          "text": [
            "roc_auc_score:  0.9500170687300864\n"
          ],
          "name": "stdout"
        },
        {
          "output_type": "display_data",
          "data": {
            "image/png": "[encoded data removed]",
            "text/plain": [
              "<Figure size 432x288 with 1 Axes>"
            ]
          },
          "metadata": {
            "tags": [],
            "needs_background": "light"
          }
        },
        {
          "output_type": "display_data",
          "data": {
            "text/html": [
              "<div>\n",
              "<style scoped>\n",
              "    .dataframe tbody tr th:only-of-type {\n",
              "        vertical-align: middle;\n",
              "    }\n",
              "\n",
              "    .dataframe tbody tr th {\n",
              "        vertical-align: top;\n",
              "    }\n",
              "\n",
              "    .dataframe thead th {\n",
              "        text-align: right;\n",
              "    }\n",
              "</style>\n",
              "<table border=\"1\" class=\"dataframe\">\n",
              "  <thead>\n",
              "    <tr style=\"text-align: right;\">\n",
              "      <th></th>\n",
              "      <th>Classifier</th>\n",
              "      <th>Accuracy</th>\n",
              "      <th>Precision</th>\n",
              "      <th>Recall</th>\n",
              "    </tr>\n",
              "    <tr>\n",
              "      <th>FScore</th>\n",
              "      <th></th>\n",
              "      <th></th>\n",
              "      <th></th>\n",
              "      <th></th>\n",
              "    </tr>\n",
              "  </thead>\n",
              "  <tbody>\n",
              "    <tr>\n",
              "      <th>0.8991</th>\n",
              "      <td>CatBoostClassifier</td>\n",
              "      <td>0.9631</td>\n",
              "      <td>0.9293</td>\n",
              "      <td>0.8739</td>\n",
              "    </tr>\n",
              "    <tr>\n",
              "      <th>0.8878</th>\n",
              "      <td>XGBClassifier</td>\n",
              "      <td>0.9600</td>\n",
              "      <td>0.9297</td>\n",
              "      <td>0.8553</td>\n",
              "    </tr>\n",
              "    <tr>\n",
              "      <th>0.8839</th>\n",
              "      <td>LGBMClassifier</td>\n",
              "      <td>0.9568</td>\n",
              "      <td>0.9042</td>\n",
              "      <td>0.8661</td>\n",
              "    </tr>\n",
              "    <tr>\n",
              "      <th>0.8832</th>\n",
              "      <td>Random Forest</td>\n",
              "      <td>0.9589</td>\n",
              "      <td>0.9328</td>\n",
              "      <td>0.8462</td>\n",
              "    </tr>\n",
              "    <tr>\n",
              "      <th>0.8637</th>\n",
              "      <td>Decision Tree</td>\n",
              "      <td>0.9484</td>\n",
              "      <td>0.8753</td>\n",
              "      <td>0.8530</td>\n",
              "    </tr>\n",
              "    <tr>\n",
              "      <th>0.8550</th>\n",
              "      <td>ExtraTrees</td>\n",
              "      <td>0.9505</td>\n",
              "      <td>0.9183</td>\n",
              "      <td>0.8120</td>\n",
              "    </tr>\n",
              "    <tr>\n",
              "      <th>0.8491</th>\n",
              "      <td>MLPClassifier</td>\n",
              "      <td>0.9431</td>\n",
              "      <td>0.8620</td>\n",
              "      <td>0.8374</td>\n",
              "    </tr>\n",
              "    <tr>\n",
              "      <th>0.8256</th>\n",
              "      <td>svc</td>\n",
              "      <td>0.9431</td>\n",
              "      <td>0.9133</td>\n",
              "      <td>0.7741</td>\n",
              "    </tr>\n",
              "    <tr>\n",
              "      <th>0.8044</th>\n",
              "      <td>Nearest Neighbors</td>\n",
              "      <td>0.9399</td>\n",
              "      <td>0.9340</td>\n",
              "      <td>0.7428</td>\n",
              "    </tr>\n",
              "    <tr>\n",
              "      <th>0.3422</th>\n",
              "      <td>Naive Bayes</td>\n",
              "      <td>0.3551</td>\n",
              "      <td>0.5674</td>\n",
              "      <td>0.6294</td>\n",
              "    </tr>\n",
              "  </tbody>\n",
              "</table>\n",
              "</div>"
            ],
            "text/plain": [
              "                Classifier  Accuracy  Precision  Recall\n",
              "FScore                                                 \n",
              "0.8991  CatBoostClassifier    0.9631     0.9293  0.8739\n",
              "0.8878       XGBClassifier    0.9600     0.9297  0.8553\n",
              "0.8839      LGBMClassifier    0.9568     0.9042  0.8661\n",
              "0.8832       Random Forest    0.9589     0.9328  0.8462\n",
              "0.8637       Decision Tree    0.9484     0.8753  0.8530\n",
              "0.8550          ExtraTrees    0.9505     0.9183  0.8120\n",
              "0.8491       MLPClassifier    0.9431     0.8620  0.8374\n",
              "0.8256                 svc    0.9431     0.9133  0.7741\n",
              "0.8044   Nearest Neighbors    0.9399     0.9340  0.7428\n",
              "0.3422         Naive Bayes    0.3551     0.5674  0.6294"
            ]
          },
          "metadata": {
            "tags": []
          }
        }
      ]
    },
    {
      "cell_type": "code",
      "metadata": {
        "id": "yWxsjjQn7_FX",
        "colab": {
          "base_uri": "https://localhost:8080/",
          "height": 1000
        },
        "outputId": "b698f46d-f5aa-468d-f9a2-576e559d0e29"
      },
      "source": [
        "data3 = ((data1-data1.min())/(data1.max()-data1.min()))*20\n",
        "\n",
        "corr_values = abs(data3[data3.columns[0:]].corr()['sclass'][:])\n",
        "corr_values = corr_values.drop('sclass')\n",
        "corr_values = corr_values[corr_values > 0.04]\n",
        "display(corr_values)\n",
        "\n",
        "X_train3, X_test3, y_train3, y_test3 = holdout(data3)\n",
        "\n",
        "display(classification(classifiers1,X_train3, X_test3, y_train3, y_test3))"
      ],
      "execution_count": null,
      "outputs": [
        {
          "output_type": "display_data",
          "data": {
            "text/plain": [
              "age                   0.192396\n",
              "sex                   0.055874\n",
              "on_thyroxine          0.085346\n",
              "query_hyperthyroid    0.055121\n",
              "pregnant              0.045479\n",
              "sick                  0.193554\n",
              "TSH_measured          0.126621\n",
              "TSH                   0.048216\n",
              "T3_measured           0.169301\n",
              "T3                    0.384877\n",
              "TT4_measured          0.093257\n",
              "TT4                   0.121423\n",
              "T4U_measured          0.093053\n",
              "T4U                   0.221054\n",
              "FTI_measured          0.092850\n",
              "TBG_measured          0.095475\n",
              "Name: sclass, dtype: float64"
            ]
          },
          "metadata": {
            "tags": []
          }
        },
        {
          "output_type": "stream",
          "text": [
            "Confusion matrix for:  XGBClassifier\n"
          ],
          "name": "stdout"
        },
        {
          "output_type": "display_data",
          "data": {
            "text/plain": [
              "array([[831,  14],\n",
              "       [ 24,  80]])"
            ]
          },
          "metadata": {
            "tags": []
          }
        },
        {
          "output_type": "stream",
          "text": [
            "roc_auc_score:  0.9484922621756942\n"
          ],
          "name": "stdout"
        },
        {
          "output_type": "display_data",
          "data": {
            "image/png": "[encoded data removed]",
            "text/plain": [
              "<Figure size 432x288 with 1 Axes>"
            ]
          },
          "metadata": {
            "tags": [],
            "needs_background": "light"
          }
        },
        {
          "output_type": "stream",
          "text": [
            "Confusion matrix for:  CatBoostClassifier\n"
          ],
          "name": "stdout"
        },
        {
          "output_type": "display_data",
          "data": {
            "text/plain": [
              "array([[833,  12],\n",
              "       [ 19,  85]])"
            ]
          },
          "metadata": {
            "tags": []
          }
        },
        {
          "output_type": "stream",
          "text": [
            "roc_auc_score:  0.9819185252617205\n"
          ],
          "name": "stdout"
        },
        {
          "output_type": "display_data",
          "data": {
            "image/png": "[encoded data removed]",
            "text/plain": [
              "<Figure size 432x288 with 1 Axes>"
            ]
          },
          "metadata": {
            "tags": [],
            "needs_background": "light"
          }
        },
        {
          "output_type": "stream",
          "text": [
            "Confusion matrix for:  Nearest Neighbors\n"
          ],
          "name": "stdout"
        },
        {
          "output_type": "display_data",
          "data": {
            "text/plain": [
              "array([[836,   9],\n",
              "       [ 64,  40]])"
            ]
          },
          "metadata": {
            "tags": []
          }
        },
        {
          "output_type": "stream",
          "text": [
            "roc_auc_score:  0.8590748748293127\n"
          ],
          "name": "stdout"
        },
        {
          "output_type": "display_data",
          "data": {
            "image/png": "[encoded data removed]",
            "text/plain": [
              "<Figure size 432x288 with 1 Axes>"
            ]
          },
          "metadata": {
            "tags": [],
            "needs_background": "light"
          }
        },
        {
          "output_type": "stream",
          "text": [
            "Confusion matrix for:  Decision Tree\n"
          ],
          "name": "stdout"
        },
        {
          "output_type": "display_data",
          "data": {
            "text/plain": [
              "array([[826,  19],\n",
              "       [ 23,  81]])"
            ]
          },
          "metadata": {
            "tags": []
          }
        },
        {
          "output_type": "stream",
          "text": [
            "roc_auc_score:  0.8781804733727809\n"
          ],
          "name": "stdout"
        },
        {
          "output_type": "display_data",
          "data": {
            "image/png": "[encoded data removed]",
            "text/plain": [
              "<Figure size 432x288 with 1 Axes>"
            ]
          },
          "metadata": {
            "tags": [],
            "needs_background": "light"
          }
        },
        {
          "output_type": "stream",
          "text": [
            "Confusion matrix for:  Random Forest\n"
          ],
          "name": "stdout"
        },
        {
          "output_type": "display_data",
          "data": {
            "text/plain": [
              "array([[835,  10],\n",
              "       [ 17,  87]])"
            ]
          },
          "metadata": {
            "tags": []
          }
        },
        {
          "output_type": "stream",
          "text": [
            "roc_auc_score:  0.9759501593081474\n"
          ],
          "name": "stdout"
        },
        {
          "output_type": "display_data",
          "data": {
            "image/png": "[encoded data removed]",
            "text/plain": [
              "<Figure size 432x288 with 1 Axes>"
            ]
          },
          "metadata": {
            "tags": [],
            "needs_background": "light"
          }
        },
        {
          "output_type": "stream",
          "text": [
            "Confusion matrix for:  ExtraTrees\n"
          ],
          "name": "stdout"
        },
        {
          "output_type": "display_data",
          "data": {
            "text/plain": [
              "array([[836,   9],\n",
              "       [ 33,  71]])"
            ]
          },
          "metadata": {
            "tags": []
          }
        },
        {
          "output_type": "stream",
          "text": [
            "roc_auc_score:  0.9633022303140646\n"
          ],
          "name": "stdout"
        },
        {
          "output_type": "display_data",
          "data": {
            "image/png": "[encoded data removed]",
            "text/plain": [
              "<Figure size 432x288 with 1 Axes>"
            ]
          },
          "metadata": {
            "tags": [],
            "needs_background": "light"
          }
        },
        {
          "output_type": "stream",
          "text": [
            "Confusion matrix for:  MLPClassifier\n"
          ],
          "name": "stdout"
        },
        {
          "output_type": "display_data",
          "data": {
            "text/plain": [
              "array([[833,  12],\n",
              "       [ 27,  77]])"
            ]
          },
          "metadata": {
            "tags": []
          }
        },
        {
          "output_type": "stream",
          "text": [
            "roc_auc_score:  0.9460172963131542\n"
          ],
          "name": "stdout"
        },
        {
          "output_type": "display_data",
          "data": {
            "image/png": "[encoded data removed]",
            "text/plain": [
              "<Figure size 432x288 with 1 Axes>"
            ]
          },
          "metadata": {
            "tags": [],
            "needs_background": "light"
          }
        },
        {
          "output_type": "stream",
          "text": [
            "Confusion matrix for:  Naive Bayes\n"
          ],
          "name": "stdout"
        },
        {
          "output_type": "display_data",
          "data": {
            "text/plain": [
              "array([[257, 588],\n",
              "       [  2, 102]])"
            ]
          },
          "metadata": {
            "tags": []
          }
        },
        {
          "output_type": "stream",
          "text": [
            "roc_auc_score:  0.6544037323623122\n"
          ],
          "name": "stdout"
        },
        {
          "output_type": "display_data",
          "data": {
            "image/png": "[encoded data removed]",
            "text/plain": [
              "<Figure size 432x288 with 1 Axes>"
            ]
          },
          "metadata": {
            "tags": [],
            "needs_background": "light"
          }
        },
        {
          "output_type": "stream",
          "text": [
            "Confusion matrix for:  LGBMClassifier\n"
          ],
          "name": "stdout"
        },
        {
          "output_type": "display_data",
          "data": {
            "text/plain": [
              "array([[833,  12],\n",
              "       [ 19,  85]])"
            ]
          },
          "metadata": {
            "tags": []
          }
        },
        {
          "output_type": "stream",
          "text": [
            "roc_auc_score:  0.9725421028675467\n"
          ],
          "name": "stdout"
        },
        {
          "output_type": "display_data",
          "data": {
            "image/png": "[encoded data removed]",
            "text/plain": [
              "<Figure size 432x288 with 1 Axes>"
            ]
          },
          "metadata": {
            "tags": [],
            "needs_background": "light"
          }
        },
        {
          "output_type": "stream",
          "text": [
            "Confusion matrix for:  svc\n"
          ],
          "name": "stdout"
        },
        {
          "output_type": "stream",
          "text": [
            "/usr/local/lib/python3.7/dist-packages/sklearn/metrics/_classification.py:1272: UndefinedMetricWarning: Precision and F-score are ill-defined and being set to 0.0 in labels with no predicted samples. Use `zero_division` parameter to control this behavior.\n",
            "  _warn_prf(average, modifier, msg_start, len(result))\n"
          ],
          "name": "stderr"
        },
        {
          "output_type": "display_data",
          "data": {
            "text/plain": [
              "array([[845,   0],\n",
              "       [104,   0]])"
            ]
          },
          "metadata": {
            "tags": []
          }
        },
        {
          "output_type": "stream",
          "text": [
            "roc_auc_score:  0.9384387801547565\n"
          ],
          "name": "stdout"
        },
        {
          "output_type": "display_data",
          "data": {
            "image/png": "[encoded data removed]",
            "text/plain": [
              "<Figure size 432x288 with 1 Axes>"
            ]
          },
          "metadata": {
            "tags": [],
            "needs_background": "light"
          }
        },
        {
          "output_type": "display_data",
          "data": {
            "text/html": [
              "<div>\n",
              "<style scoped>\n",
              "    .dataframe tbody tr th:only-of-type {\n",
              "        vertical-align: middle;\n",
              "    }\n",
              "\n",
              "    .dataframe tbody tr th {\n",
              "        vertical-align: top;\n",
              "    }\n",
              "\n",
              "    .dataframe thead th {\n",
              "        text-align: right;\n",
              "    }\n",
              "</style>\n",
              "<table border=\"1\" class=\"dataframe\">\n",
              "  <thead>\n",
              "    <tr style=\"text-align: right;\">\n",
              "      <th></th>\n",
              "      <th>Classifier</th>\n",
              "      <th>Accuracy</th>\n",
              "      <th>Precision</th>\n",
              "      <th>Recall</th>\n",
              "    </tr>\n",
              "    <tr>\n",
              "      <th>FScore</th>\n",
              "      <th></th>\n",
              "      <th></th>\n",
              "      <th></th>\n",
              "      <th></th>\n",
              "    </tr>\n",
              "  </thead>\n",
              "  <tbody>\n",
              "    <tr>\n",
              "      <th>0.9249</th>\n",
              "      <td>Random Forest</td>\n",
              "      <td>0.9715</td>\n",
              "      <td>0.9385</td>\n",
              "      <td>0.9124</td>\n",
              "    </tr>\n",
              "    <tr>\n",
              "      <th>0.9138</th>\n",
              "      <td>CatBoostClassifier</td>\n",
              "      <td>0.9673</td>\n",
              "      <td>0.9270</td>\n",
              "      <td>0.9016</td>\n",
              "    </tr>\n",
              "    <tr>\n",
              "      <th>0.9138</th>\n",
              "      <td>LGBMClassifier</td>\n",
              "      <td>0.9673</td>\n",
              "      <td>0.9270</td>\n",
              "      <td>0.9016</td>\n",
              "    </tr>\n",
              "    <tr>\n",
              "      <th>0.8929</th>\n",
              "      <td>XGBClassifier</td>\n",
              "      <td>0.9600</td>\n",
              "      <td>0.9115</td>\n",
              "      <td>0.8763</td>\n",
              "    </tr>\n",
              "    <tr>\n",
              "      <th>0.8875</th>\n",
              "      <td>MLPClassifier</td>\n",
              "      <td>0.9589</td>\n",
              "      <td>0.9169</td>\n",
              "      <td>0.8631</td>\n",
              "    </tr>\n",
              "    <tr>\n",
              "      <th>0.8847</th>\n",
              "      <td>Decision Tree</td>\n",
              "      <td>0.9557</td>\n",
              "      <td>0.8915</td>\n",
              "      <td>0.8782</td>\n",
              "    </tr>\n",
              "    <tr>\n",
              "      <th>0.8736</th>\n",
              "      <td>ExtraTrees</td>\n",
              "      <td>0.9557</td>\n",
              "      <td>0.9248</td>\n",
              "      <td>0.8360</td>\n",
              "    </tr>\n",
              "    <tr>\n",
              "      <th>0.7405</th>\n",
              "      <td>Nearest Neighbors</td>\n",
              "      <td>0.9231</td>\n",
              "      <td>0.8726</td>\n",
              "      <td>0.6870</td>\n",
              "    </tr>\n",
              "    <tr>\n",
              "      <th>0.4710</th>\n",
              "      <td>svc</td>\n",
              "      <td>0.8904</td>\n",
              "      <td>0.4452</td>\n",
              "      <td>0.5000</td>\n",
              "    </tr>\n",
              "    <tr>\n",
              "      <th>0.3613</th>\n",
              "      <td>Naive Bayes</td>\n",
              "      <td>0.3783</td>\n",
              "      <td>0.5701</td>\n",
              "      <td>0.6425</td>\n",
              "    </tr>\n",
              "  </tbody>\n",
              "</table>\n",
              "</div>"
            ],
            "text/plain": [
              "                Classifier  Accuracy  Precision  Recall\n",
              "FScore                                                 \n",
              "0.9249       Random Forest    0.9715     0.9385  0.9124\n",
              "0.9138  CatBoostClassifier    0.9673     0.9270  0.9016\n",
              "0.9138      LGBMClassifier    0.9673     0.9270  0.9016\n",
              "0.8929       XGBClassifier    0.9600     0.9115  0.8763\n",
              "0.8875       MLPClassifier    0.9589     0.9169  0.8631\n",
              "0.8847       Decision Tree    0.9557     0.8915  0.8782\n",
              "0.8736          ExtraTrees    0.9557     0.9248  0.8360\n",
              "0.7405   Nearest Neighbors    0.9231     0.8726  0.6870\n",
              "0.4710                 svc    0.8904     0.4452  0.5000\n",
              "0.3613         Naive Bayes    0.3783     0.5701  0.6425"
            ]
          },
          "metadata": {
            "tags": []
          }
        }
      ]
    },
    {
      "cell_type": "code",
      "metadata": {
        "id": "Onhn6h0B9Hun",
        "colab": {
          "base_uri": "https://localhost:8080/",
          "height": 1000
        },
        "outputId": "7cfe20d8-1526-4620-93bd-de7e4da6ada2"
      },
      "source": [
        "smote = SMOTE('not majority',random_state = 1)\n",
        "X_train_sm, y_train_sm = smote.fit_sample(X_train3,y_train3)\n",
        "X_test_sm, y_test_sm = smote.fit_sample(X_test3,y_test3)\n",
        "display(X_train3.shape)\n",
        "display(X_train_sm.shape)\n",
        "display(classification(classifiers1,X_train_sm, X_test_sm, y_train_sm, y_test_sm))"
      ],
      "execution_count": null,
      "outputs": [
        {
          "output_type": "stream",
          "text": [
            "/usr/local/lib/python3.7/dist-packages/sklearn/utils/deprecation.py:87: FutureWarning: Function safe_indexing is deprecated; safe_indexing is deprecated in version 0.22 and will be removed in version 0.24.\n",
            "  warnings.warn(msg, category=FutureWarning)\n",
            "/usr/local/lib/python3.7/dist-packages/sklearn/utils/deprecation.py:87: FutureWarning: Function safe_indexing is deprecated; safe_indexing is deprecated in version 0.22 and will be removed in version 0.24.\n",
            "  warnings.warn(msg, category=FutureWarning)\n"
          ],
          "name": "stderr"
        },
        {
          "output_type": "display_data",
          "data": {
            "text/plain": [
              "(2213, 16)"
            ]
          },
          "metadata": {
            "tags": []
          }
        },
        {
          "output_type": "display_data",
          "data": {
            "text/plain": [
              "(4050, 16)"
            ]
          },
          "metadata": {
            "tags": []
          }
        },
        {
          "output_type": "stream",
          "text": [
            "Confusion matrix for:  XGBClassifier\n"
          ],
          "name": "stdout"
        },
        {
          "output_type": "display_data",
          "data": {
            "text/plain": [
              "array([[821,  24],\n",
              "       [ 55, 790]])"
            ]
          },
          "metadata": {
            "tags": []
          }
        },
        {
          "output_type": "stream",
          "text": [
            "roc_auc_score:  0.9710598368404468\n"
          ],
          "name": "stdout"
        },
        {
          "output_type": "display_data",
          "data": {
            "image/png": "[encoded data removed]",
            "text/plain": [
              "<Figure size 432x288 with 1 Axes>"
            ]
          },
          "metadata": {
            "tags": [],
            "needs_background": "light"
          }
        },
        {
          "output_type": "stream",
          "text": [
            "Confusion matrix for:  CatBoostClassifier\n"
          ],
          "name": "stdout"
        },
        {
          "output_type": "display_data",
          "data": {
            "text/plain": [
              "array([[827,  18],\n",
              "       [ 60, 785]])"
            ]
          },
          "metadata": {
            "tags": []
          }
        },
        {
          "output_type": "stream",
          "text": [
            "roc_auc_score:  0.9894793599663877\n"
          ],
          "name": "stdout"
        },
        {
          "output_type": "display_data",
          "data": {
            "image/png": "[encoded data removed]",
            "text/plain": [
              "<Figure size 432x288 with 1 Axes>"
            ]
          },
          "metadata": {
            "tags": [],
            "needs_background": "light"
          }
        },
        {
          "output_type": "stream",
          "text": [
            "Confusion matrix for:  Nearest Neighbors\n"
          ],
          "name": "stdout"
        },
        {
          "output_type": "display_data",
          "data": {
            "text/plain": [
              "array([[794,  51],\n",
              "       [182, 663]])"
            ]
          },
          "metadata": {
            "tags": []
          }
        },
        {
          "output_type": "stream",
          "text": [
            "roc_auc_score:  0.8945233010048668\n"
          ],
          "name": "stdout"
        },
        {
          "output_type": "display_data",
          "data": {
            "image/png": "[encoded data removed]",
            "text/plain": [
              "<Figure size 432x288 with 1 Axes>"
            ]
          },
          "metadata": {
            "tags": [],
            "needs_background": "light"
          }
        },
        {
          "output_type": "stream",
          "text": [
            "Confusion matrix for:  Decision Tree\n"
          ],
          "name": "stdout"
        },
        {
          "output_type": "display_data",
          "data": {
            "text/plain": [
              "array([[821,  24],\n",
              "       [ 72, 773]])"
            ]
          },
          "metadata": {
            "tags": []
          }
        },
        {
          "output_type": "stream",
          "text": [
            "roc_auc_score:  0.9431952662721894\n"
          ],
          "name": "stdout"
        },
        {
          "output_type": "display_data",
          "data": {
            "image/png": "[encoded data removed]",
            "text/plain": [
              "<Figure size 432x288 with 1 Axes>"
            ]
          },
          "metadata": {
            "tags": [],
            "needs_background": "light"
          }
        },
        {
          "output_type": "stream",
          "text": [
            "Confusion matrix for:  Random Forest\n"
          ],
          "name": "stdout"
        },
        {
          "output_type": "display_data",
          "data": {
            "text/plain": [
              "array([[828,  17],\n",
              "       [ 71, 774]])"
            ]
          },
          "metadata": {
            "tags": []
          }
        },
        {
          "output_type": "stream",
          "text": [
            "roc_auc_score:  0.9879843142747103\n"
          ],
          "name": "stdout"
        },
        {
          "output_type": "display_data",
          "data": {
            "image/png": "[encoded data removed]",
            "text/plain": [
              "<Figure size 432x288 with 1 Axes>"
            ]
          },
          "metadata": {
            "tags": [],
            "needs_background": "light"
          }
        },
        {
          "output_type": "stream",
          "text": [
            "Confusion matrix for:  ExtraTrees\n"
          ],
          "name": "stdout"
        },
        {
          "output_type": "display_data",
          "data": {
            "text/plain": [
              "array([[827,  18],\n",
              "       [133, 712]])"
            ]
          },
          "metadata": {
            "tags": []
          }
        },
        {
          "output_type": "stream",
          "text": [
            "roc_auc_score:  0.9748713280347328\n"
          ],
          "name": "stdout"
        },
        {
          "output_type": "display_data",
          "data": {
            "image/png": "[encoded data removed]",
            "text/plain": [
              "<Figure size 432x288 with 1 Axes>"
            ]
          },
          "metadata": {
            "tags": [],
            "needs_background": "light"
          }
        },
        {
          "output_type": "stream",
          "text": [
            "Confusion matrix for:  MLPClassifier\n"
          ],
          "name": "stdout"
        },
        {
          "output_type": "display_data",
          "data": {
            "text/plain": [
              "array([[806,  39],\n",
              "       [118, 727]])"
            ]
          },
          "metadata": {
            "tags": []
          }
        },
        {
          "output_type": "stream",
          "text": [
            "roc_auc_score:  0.9600084030671195\n"
          ],
          "name": "stdout"
        },
        {
          "output_type": "display_data",
          "data": {
            "image/png": "[encoded data removed]",
            "text/plain": [
              "<Figure size 432x288 with 1 Axes>"
            ]
          },
          "metadata": {
            "tags": [],
            "needs_background": "light"
          }
        },
        {
          "output_type": "stream",
          "text": [
            "Confusion matrix for:  Naive Bayes\n"
          ],
          "name": "stdout"
        },
        {
          "output_type": "display_data",
          "data": {
            "text/plain": [
              "array([[273, 572],\n",
              "       [ 18, 827]])"
            ]
          },
          "metadata": {
            "tags": []
          }
        },
        {
          "output_type": "stream",
          "text": [
            "roc_auc_score:  0.6750814047127202\n"
          ],
          "name": "stdout"
        },
        {
          "output_type": "display_data",
          "data": {
            "image/png": "[encoded data removed]",
            "text/plain": [
              "<Figure size 432x288 with 1 Axes>"
            ]
          },
          "metadata": {
            "tags": [],
            "needs_background": "light"
          }
        },
        {
          "output_type": "stream",
          "text": [
            "Confusion matrix for:  LGBMClassifier\n"
          ],
          "name": "stdout"
        },
        {
          "output_type": "display_data",
          "data": {
            "text/plain": [
              "array([[827,  18],\n",
              "       [ 74, 771]])"
            ]
          },
          "metadata": {
            "tags": []
          }
        },
        {
          "output_type": "stream",
          "text": [
            "roc_auc_score:  0.9878050488428276\n"
          ],
          "name": "stdout"
        },
        {
          "output_type": "display_data",
          "data": {
            "image/png": "[encoded data removed]",
            "text/plain": [
              "<Figure size 432x288 with 1 Axes>"
            ]
          },
          "metadata": {
            "tags": [],
            "needs_background": "light"
          }
        },
        {
          "output_type": "stream",
          "text": [
            "Confusion matrix for:  svc\n"
          ],
          "name": "stdout"
        },
        {
          "output_type": "display_data",
          "data": {
            "text/plain": [
              "array([[742, 103],\n",
              "       [ 73, 772]])"
            ]
          },
          "metadata": {
            "tags": []
          }
        },
        {
          "output_type": "stream",
          "text": [
            "roc_auc_score:  0.9576723504078989\n"
          ],
          "name": "stdout"
        },
        {
          "output_type": "display_data",
          "data": {
            "image/png": "[encoded data removed]",
            "text/plain": [
              "<Figure size 432x288 with 1 Axes>"
            ]
          },
          "metadata": {
            "tags": [],
            "needs_background": "light"
          }
        },
        {
          "output_type": "display_data",
          "data": {
            "text/html": [
              "<div>\n",
              "<style scoped>\n",
              "    .dataframe tbody tr th:only-of-type {\n",
              "        vertical-align: middle;\n",
              "    }\n",
              "\n",
              "    .dataframe tbody tr th {\n",
              "        vertical-align: top;\n",
              "    }\n",
              "\n",
              "    .dataframe thead th {\n",
              "        text-align: right;\n",
              "    }\n",
              "</style>\n",
              "<table border=\"1\" class=\"dataframe\">\n",
              "  <thead>\n",
              "    <tr style=\"text-align: right;\">\n",
              "      <th></th>\n",
              "      <th>Classifier</th>\n",
              "      <th>Accuracy</th>\n",
              "      <th>Precision</th>\n",
              "      <th>Recall</th>\n",
              "    </tr>\n",
              "    <tr>\n",
              "      <th>FScore</th>\n",
              "      <th></th>\n",
              "      <th></th>\n",
              "      <th></th>\n",
              "      <th></th>\n",
              "    </tr>\n",
              "  </thead>\n",
              "  <tbody>\n",
              "    <tr>\n",
              "      <th>0.9538</th>\n",
              "      <td>CatBoostClassifier</td>\n",
              "      <td>0.9538</td>\n",
              "      <td>0.9550</td>\n",
              "      <td>0.9538</td>\n",
              "    </tr>\n",
              "    <tr>\n",
              "      <th>0.9532</th>\n",
              "      <td>XGBClassifier</td>\n",
              "      <td>0.9533</td>\n",
              "      <td>0.9539</td>\n",
              "      <td>0.9533</td>\n",
              "    </tr>\n",
              "    <tr>\n",
              "      <th>0.9479</th>\n",
              "      <td>Random Forest</td>\n",
              "      <td>0.9479</td>\n",
              "      <td>0.9498</td>\n",
              "      <td>0.9479</td>\n",
              "    </tr>\n",
              "    <tr>\n",
              "      <th>0.9455</th>\n",
              "      <td>LGBMClassifier</td>\n",
              "      <td>0.9456</td>\n",
              "      <td>0.9475</td>\n",
              "      <td>0.9456</td>\n",
              "    </tr>\n",
              "    <tr>\n",
              "      <th>0.9431</th>\n",
              "      <td>Decision Tree</td>\n",
              "      <td>0.9432</td>\n",
              "      <td>0.9446</td>\n",
              "      <td>0.9432</td>\n",
              "    </tr>\n",
              "    <tr>\n",
              "      <th>0.9102</th>\n",
              "      <td>ExtraTrees</td>\n",
              "      <td>0.9107</td>\n",
              "      <td>0.9184</td>\n",
              "      <td>0.9107</td>\n",
              "    </tr>\n",
              "    <tr>\n",
              "      <th>0.9069</th>\n",
              "      <td>MLPClassifier</td>\n",
              "      <td>0.9071</td>\n",
              "      <td>0.9107</td>\n",
              "      <td>0.9071</td>\n",
              "    </tr>\n",
              "    <tr>\n",
              "      <th>0.8958</th>\n",
              "      <td>svc</td>\n",
              "      <td>0.8959</td>\n",
              "      <td>0.8964</td>\n",
              "      <td>0.8959</td>\n",
              "    </tr>\n",
              "    <tr>\n",
              "      <th>0.8613</th>\n",
              "      <td>Nearest Neighbors</td>\n",
              "      <td>0.8621</td>\n",
              "      <td>0.8710</td>\n",
              "      <td>0.8621</td>\n",
              "    </tr>\n",
              "    <tr>\n",
              "      <th>0.6089</th>\n",
              "      <td>Naive Bayes</td>\n",
              "      <td>0.6509</td>\n",
              "      <td>0.7646</td>\n",
              "      <td>0.6509</td>\n",
              "    </tr>\n",
              "  </tbody>\n",
              "</table>\n",
              "</div>"
            ],
            "text/plain": [
              "                Classifier  Accuracy  Precision  Recall\n",
              "FScore                                                 \n",
              "0.9538  CatBoostClassifier    0.9538     0.9550  0.9538\n",
              "0.9532       XGBClassifier    0.9533     0.9539  0.9533\n",
              "0.9479       Random Forest    0.9479     0.9498  0.9479\n",
              "0.9455      LGBMClassifier    0.9456     0.9475  0.9456\n",
              "0.9431       Decision Tree    0.9432     0.9446  0.9432\n",
              "0.9102          ExtraTrees    0.9107     0.9184  0.9107\n",
              "0.9069       MLPClassifier    0.9071     0.9107  0.9071\n",
              "0.8958                 svc    0.8959     0.8964  0.8959\n",
              "0.8613   Nearest Neighbors    0.8621     0.8710  0.8621\n",
              "0.6089         Naive Bayes    0.6509     0.7646  0.6509"
            ]
          },
          "metadata": {
            "tags": []
          }
        }
      ]
    },
    {
      "cell_type": "code",
      "metadata": {
        "id": "slxCyeINNw8u"
      },
      "source": [
        ""
      ],
      "execution_count": null,
      "outputs": []
    },
    {
      "cell_type": "code",
      "metadata": {
        "id": "n6B5nXvMNxCU"
      },
      "source": [
        ""
      ],
      "execution_count": null,
      "outputs": []
    }
  ]
}